{
 "cells": [
  {
   "cell_type": "code",
   "execution_count": null,
   "metadata": {
    "scrolled": true,
    "tags": []
   },
   "outputs": [],
   "source": [
    "import Pkg\n",
    "Pkg.activate(\"../pha\")"
   ]
  },
  {
   "cell_type": "code",
   "execution_count": null,
   "metadata": {},
   "outputs": [],
   "source": [
    "using Revise"
   ]
  },
  {
   "cell_type": "code",
   "execution_count": null,
   "metadata": {
    "scrolled": true
   },
   "outputs": [],
   "source": [
    "using NEOs\n",
    "using DataFrames\n",
    "using TaylorIntegration\n",
    "using PlanetaryEphemeris\n",
    "using JLD2\n",
    "using Statistics\n",
    "using LinearAlgebra\n",
    "using Dates\n",
    "using StatsBase\n",
    "using Gaston\n",
    "using DelimitedFiles"
   ]
  },
  {
   "cell_type": "code",
   "execution_count": null,
   "metadata": {},
   "outputs": [],
   "source": [
    "dq = set_variables(\"δx\", order=5, numvars=7)"
   ]
  },
  {
   "cell_type": "markdown",
   "metadata": {},
   "source": [
    "## Load Sun, Earth and Apophis ephemeris"
   ]
  },
  {
   "cell_type": "code",
   "execution_count": null,
   "metadata": {},
   "outputs": [],
   "source": [
    "sol_bwd = JLD2.load(\"Apophis_bwd.jld2\", \"asteph\")"
   ]
  },
  {
   "cell_type": "code",
   "execution_count": null,
   "metadata": {},
   "outputs": [],
   "source": [
    "sol_fwd = JLD2.load(\"Apophis_fwd.jld2\", \"asteph\")"
   ]
  },
  {
   "cell_type": "code",
   "execution_count": null,
   "metadata": {},
   "outputs": [],
   "source": [
    "sseph::TaylorInterpolant{Float64,Float64,2} = loadpeeph(NEOs.sseph, sol_bwd.t0+sol_bwd.t[end], sol_fwd.t0+sol_fwd.t[end])\n",
    "eph_su::TaylorInterpolant{Float64,Float64,2} = selecteph(sseph, su)\n",
    "eph_ea::TaylorInterpolant{Float64,Float64,2} = selecteph(sseph, ea)\n",
    "\n",
    "# NEO\n",
    "# Change t, x, v units, resp., from days, au, au/day to sec, km, km/sec\n",
    "xva_bwd(et) = auday2kmsec(sol_bwd(et/daysec)[1:6])\n",
    "xva_fwd(et) = auday2kmsec(sol_fwd(et/daysec)[1:6])\n",
    "xva(et) = bwdfwdeph(et, sol_bwd, sol_fwd)\n",
    "# Earth\n",
    "# Change x, v units, resp., from au, au/day to km, km/sec\n",
    "xve(et) = auday2kmsec(eph_ea(et/daysec))\n",
    "# Sun\n",
    "# Change x, v units, resp., from au, au/day to km, km/sec\n",
    "xvs(et) = auday2kmsec(eph_su(et/daysec))"
   ]
  },
  {
   "cell_type": "code",
   "execution_count": null,
   "metadata": {
    "scrolled": true
   },
   "outputs": [],
   "source": [
    "# get optical observations\n",
    "radec_2004_2020 = read_radec_mpc(joinpath(pkgdir(NEOs), \"data\", \"99942_2004_2020.dat\"))\n",
    "radec_2020_2021 = read_radec_mpc(joinpath(pkgdir(NEOs), \"data\", \"99942_2020_2021.dat\"))\n",
    "radec = vcat(radec_2004_2020,radec_2020_2021)"
   ]
  },
  {
   "cell_type": "code",
   "execution_count": null,
   "metadata": {
    "scrolled": true
   },
   "outputs": [],
   "source": [
    "# get radar observations\n",
    "deldop_2005_2013 = read_radar_jpl(joinpath(pkgdir(NEOs), \"data\", \"99942_RADAR_2005_2013.dat\"))\n",
    "deldop_2021 = read_radar_jpl(joinpath(pkgdir(NEOs), \"data\", \"99942_RADAR_2021.dat\"))\n",
    "deldop = vcat(deldop_2005_2013,deldop_2021)"
   ]
  },
  {
   "cell_type": "code",
   "execution_count": null,
   "metadata": {
    "scrolled": true
   },
   "outputs": [],
   "source": [
    "# Compute optical residuals\n",
    "@time res_radec_all, w_radec_all = NEOs.residuals(radec; xvs, xve, xva);"
   ]
  },
  {
   "cell_type": "code",
   "execution_count": null,
   "metadata": {},
   "outputs": [],
   "source": [
    "# Compute radar residuals\n",
    "@time res_del, w_del, res_dop, w_dop = NEOs.residuals(deldop; xvs, xve, xva, niter=10, tord=10);"
   ]
  },
  {
   "cell_type": "markdown",
   "metadata": {},
   "source": [
    "## Process optical data (filter, weight, debias)"
   ]
  },
  {
   "cell_type": "code",
   "execution_count": null,
   "metadata": {
    "scrolled": true
   },
   "outputs": [],
   "source": [
    "# filter out biased observations from observatory 217 on 28-Jan-2021\n",
    "df_radec = DataFrame(radec)\n",
    "# add residuals and weights to optical astrometry DataFrame\n",
    "df_radec[!, :res_α] .= res_radec_all[1:round(Int,length(res_radec_all)/2)]\n",
    "df_radec[!, :res_δ] .= res_radec_all[1+round(Int,length(res_radec_all)/2):end]\n",
    "df_radec[!, :w_α] .= w_radec_all[1:round(Int,length(res_radec_all)/2)]\n",
    "df_radec[!, :w_δ] .= w_radec_all[1+round(Int,length(res_radec_all)/2):end]\n",
    "filter!(\n",
    "    x->(Date(x.date) != Date(2021, 1, 28)),\n",
    "    df_radec\n",
    ")\n",
    "\n",
    "# read astrometric errors from Tholen et al. (2013)\n",
    "tho13_errors = readdlm(joinpath(pkgdir(NEOs), \"data\", \"tholenetal2013_opterror.dat\"), ',')\n",
    "# compute weights\n",
    "w_α_tho13 = 1 ./ (tho13_errors[:,1].^2 .+ tho13_errors[:,3].^2 .+ tho13_errors[:,5].^2)\n",
    "w_δ_tho13 = 1 ./ (tho13_errors[:,2].^2 .+ tho13_errors[:,4].^2 .+ tho13_errors[:,6].^2)\n",
    "# Tholen et al. (2013) obs table\n",
    "radec_tho13 = DataFrame(read_radec_mpc(joinpath(pkgdir(NEOs), \"test\", \"data\", \"99942_Tholen_etal_2013.dat\")))\n",
    "# vector of RA values from Tholen et al. (2013) observations (used for filtering)\n",
    "tho13_α = radec_tho13[!,:α]\n",
    "# set weights in Tholen et al. (2013) astrometry corresponding to associated uncertainties\n",
    "df_radec[in.(df_radec.α, Ref(tho13_α)),:w_α] = w_α_tho13\n",
    "df_radec[in.(df_radec.α, Ref(tho13_α)),:w_δ] = w_δ_tho13\n",
    "\n",
    "# Relaxation factor (account for correlations in optical astrometry data)\n",
    "# for each observation batch, count the number of observations made in\n",
    "# the same night by the same observatory\n",
    "# Ref: Veres et al. (2017)\n",
    "date_site_v = select(df_radec, :date => ByRow(Date), :observatory)\n",
    "Nv = [count(x->x.date_Date==i.date_Date && x.observatory==i.observatory, eachrow(date_site_v)) for i in eachrow(date_site_v)]\n",
    "relax_factor = map(x->x>4.0 ? x/4.0 : 1.0, Nv)\n",
    "# inflate uncertainties (i.e., relax weights) by relaxation factor\n",
    "df_radec[!, :w_α] .= (df_radec.w_α)./relax_factor\n",
    "df_radec[!, :w_δ] .= (df_radec.w_δ)./relax_factor\n",
    "\n",
    "# update optical residuals and weights\n",
    "res_radec = vcat(df_radec.res_α, df_radec.res_δ)\n",
    "w_radec = vcat(df_radec.w_α, df_radec.w_δ)\n",
    ";"
   ]
  },
  {
   "cell_type": "code",
   "execution_count": null,
   "metadata": {},
   "outputs": [],
   "source": [
    "# check if all RA/Dec observations are CCD:\n",
    "\n",
    "all(\n",
    "    select(\n",
    "        df_radec, \n",
    "        :obstech => ByRow(x->x == \"C\" || x == \"X\")\n",
    "        )[!,1]\n",
    ")"
   ]
  },
  {
   "cell_type": "code",
   "execution_count": null,
   "metadata": {},
   "outputs": [],
   "source": [
    "# there are 512 RA/Dec obs without catalog info\n",
    "\n",
    "length(df_radec[isunknown.(df_radec.catalogue),:catalogue])"
   ]
  },
  {
   "cell_type": "code",
   "execution_count": null,
   "metadata": {},
   "outputs": [],
   "source": [
    "# Construct vector of residuals and weights\n",
    "\n",
    "res = vcat(res_radec, res_del, res_dop)\n",
    "w = vcat(w_radec, w_del, w_dop)\n",
    ";"
   ]
  },
  {
   "cell_type": "code",
   "execution_count": null,
   "metadata": {},
   "outputs": [],
   "source": [
    "### Perform 7-DOF orbital fit to optical and radar astrometry data\n",
    "\n",
    "@show success, δx_OR7, Γ_OR7 = newtonls(res, w, zeros(get_numvars()), 10)\n",
    "x_OR7 = sol_fwd(sol_fwd.t0)(δx_OR7);"
   ]
  },
  {
   "cell_type": "code",
   "execution_count": null,
   "metadata": {},
   "outputs": [],
   "source": [
    "### Perform 6-DOF orbital fit (i.e., without Yarkovsky effect) to optical and radar astrometry data\n",
    "\n",
    "δx_OR6, Γ_OR6 = newtonls_6v(res, w, zeros(get_numvars()), 10)\n",
    "x_OR6 = sol_fwd(sol_fwd.t0)(δx_OR6);"
   ]
  },
  {
   "cell_type": "code",
   "execution_count": null,
   "metadata": {},
   "outputs": [],
   "source": [
    "### Print results\n",
    "\n",
    "# orbital fit\n",
    "@show success\n",
    "@show x_OR7 # cartesian state vector at solution reference epoch\n",
    "@show sqrt.(diag(Γ_OR7)).*vcat(1e-8ones(6),1e-14) # uncertainties at solution reference epoch (1-sigma)\n",
    ";"
   ]
  },
  {
   "cell_type": "markdown",
   "metadata": {},
   "source": [
    "# Fit quality statistics: $\\chi^2$, normalized RMS"
   ]
  },
  {
   "cell_type": "markdown",
   "metadata": {},
   "source": [
    "The results below correspond to Table 1 of Pérez-Hernández and Benet (2022)."
   ]
  },
  {
   "cell_type": "code",
   "execution_count": null,
   "metadata": {},
   "outputs": [],
   "source": [
    "# post-fit statistics\n",
    "\n",
    "nradec = length(res_radec)\n",
    "res_α = view(res_radec, 1:nradec÷2)\n",
    "res_δ = view(res_radec, 1+nradec÷2:nradec)\n",
    "res_τ = res_del\n",
    "res_ν = res_dop\n",
    "w_α = view(w_radec, 1:nradec÷2)\n",
    "w_δ = view(w_radec, 1+nradec÷2:nradec)\n",
    "res_α_OR6 = res_α(δx_OR6)\n",
    "res_δ_OR6 = res_δ(δx_OR6)\n",
    "res_α_OR7 = res_α(δx_OR7)\n",
    "res_δ_OR7 = res_δ(δx_OR7)\n",
    "\n",
    "@show nrms_radec = nrms(res_radec(δx_OR7),w_radec)\n",
    "@show nrms_radec = nrms(vcat(res_del,res_dop)(δx_OR7),vcat(w_del,w_dop))\n",
    "@show nrms_optrad = nrms(res(δx_OR7),w)\n",
    "@show mean_ra = mean(res_ra(δx_OR7), weights(w_ra))\n",
    "@show mean_dec = mean(res_dec(δx_OR7), weights(w_dec))\n",
    "@show mean_del = mean(res_del(δx_OR7), weights(w_del))\n",
    "@show mean_dop = mean(res_dop(δx_OR7), weights(w_dop))\n",
    "@show chi2_optrad = chi2(res(δx_OR7),w)\n",
    ";"
   ]
  },
  {
   "cell_type": "markdown",
   "metadata": {},
   "source": [
    "# Semimajor axis drift"
   ]
  },
  {
   "cell_type": "code",
   "execution_count": null,
   "metadata": {},
   "outputs": [],
   "source": [
    "jd0 = J2000 + sol_fwd.t0 #Julian date (TDB) of integration initial time\n",
    "et0 = (jd0 - J2000)*daysec"
   ]
  },
  {
   "cell_type": "code",
   "execution_count": null,
   "metadata": {},
   "outputs": [],
   "source": [
    "# Apophis heliocentric position and velocity at solution reference epoch (plus autodiff perturbations)\n",
    "xas = sol_fwd(sol_fwd.t0)[1:6] .- eph_su(jd0-J2000)"
   ]
  },
  {
   "cell_type": "code",
   "execution_count": null,
   "metadata": {},
   "outputs": [],
   "source": [
    "# Orbital elements of new solution (ecliptic frame at J2000.0 epoch)\n",
    "pv2kep(xas(δx_OR7), jd=jd0, frame=:ecliptic)"
   ]
  },
  {
   "cell_type": "code",
   "execution_count": null,
   "metadata": {},
   "outputs": [],
   "source": [
    "# JPL solution #216 for Apophis\n",
    "kep_JPL216 = [\n",
    "    0.1914347568286823, \n",
    "    0.7460634895090179, \n",
    "    2459424.558511739019, \n",
    "    203.9662692226386, \n",
    "    126.5900238507279, \n",
    "    3.338874353538208, \n",
    "    -2.901085583204654E-14, \n",
    "    5.E-13\n",
    "]"
   ]
  },
  {
   "cell_type": "code",
   "execution_count": null,
   "metadata": {},
   "outputs": [],
   "source": [
    "kep_JT = pv2kep(xas, jd=jd0, frame=:ecliptic) # Orbital elements of JT solution at ref. epoch\n",
    "kep_OR7 = pv2kep(xas(δx_OR7), jd=jd0, frame=:ecliptic) # Orbital elements of new solution at ref. epoch"
   ]
  },
  {
   "cell_type": "code",
   "execution_count": null,
   "metadata": {
    "scrolled": true
   },
   "outputs": [],
   "source": [
    "# Jacobian of transformation: cartesian state -> Keplerian elements\n",
    "t_car2kep(x) = hcat(\n",
    "    TaylorSeries.gradient(kep_JT.e), \n",
    "    TaylorSeries.gradient(kep_JT.q),\n",
    "    TaylorSeries.gradient(kep_JT.tp),\n",
    "    TaylorSeries.gradient(kep_JT.Ω),\n",
    "    TaylorSeries.gradient(kep_JT.ω),\n",
    "    TaylorSeries.gradient(kep_JT.i),\n",
    "    TaylorSeries.gradient(kep_JT.M),\n",
    "    TaylorSeries.gradient(kep_JT.a),\n",
    "    )(x)\n",
    "\n",
    "# semimajor axis drift \\dot{a} due to Yarkovsky effect in units of au per day, as a function of initial condition\n",
    "ady_kep = yarkp2adot(sol_fwd(sol_fwd.t0)[7], kep_JT.a, kep_JT.e)\n",
    "\n",
    "# semimajor axis drift, au per million years\n",
    "ady_kep_au_My = 1e6yr*ady_kep\n",
    "\n",
    "# semimajor axis drift, meters per year\n",
    "ady_kep_m_y = 1e3au*yr*ady_kep\n",
    "\n",
    "# Jacobian of transformation: cartesian state -> semimajor axis drift in au per million years\n",
    "t_kep2ady_au_My(x) = TaylorSeries.gradient(ady_kep_au_My)(x)\n",
    "\n",
    "# Jacobian of transformation: cartesian state -> semimajor axis drift in meters per year\n",
    "t_kep2ady_m_y(x) = TaylorSeries.gradient(ady_kep_m_y)(x)"
   ]
  },
  {
   "cell_type": "code",
   "execution_count": null,
   "metadata": {},
   "outputs": [],
   "source": [
    "# mean semimajor axis drift, au per million years\n",
    "ady_kep_au_My_OR7 = ady_kep_au_My(δx_OR7) # au/Myr"
   ]
  },
  {
   "cell_type": "code",
   "execution_count": null,
   "metadata": {},
   "outputs": [],
   "source": [
    "# mean semimajor axis drift, meters per year\n",
    "ady_kep_m_y_OR7 = 1e3au*yr*ady_kep(δx_OR7) # m/yr"
   ]
  },
  {
   "cell_type": "code",
   "execution_count": null,
   "metadata": {},
   "outputs": [],
   "source": [
    "# uncertainty in semimajor axis drift, au per million years\n",
    "sqrt( t_kep2ady_m_y(δx_OR7)'*Γ*t_kep2ady_m_y(δx_OR7) )"
   ]
  },
  {
   "cell_type": "code",
   "execution_count": null,
   "metadata": {},
   "outputs": [],
   "source": [
    "# uncertainty in semimajor axis drift, au per million years\n",
    "sqrt( t_kep2ady_au_My(δx_OR7)'*Γ*t_kep2ady_au_My(δx_OR7) )"
   ]
  },
  {
   "cell_type": "code",
   "execution_count": null,
   "metadata": {},
   "outputs": [],
   "source": [
    "# covariance matrix of Keplerian elements\n",
    "Γ_kep = t_car2kep(δx_OR7)'*Γ*t_car2kep(δx_OR7)"
   ]
  },
  {
   "cell_type": "code",
   "execution_count": null,
   "metadata": {},
   "outputs": [],
   "source": [
    "#formal uncertainties in Keplerian elements (1-sigma)\n",
    "\n",
    "sqrt.(diag(Γ_kep))"
   ]
  },
  {
   "cell_type": "markdown",
   "metadata": {},
   "source": [
    "# Plots: optical astrometry post-fit residuals"
   ]
  },
  {
   "cell_type": "code",
   "execution_count": null,
   "metadata": {},
   "outputs": [],
   "source": [
    "#bins_hist = -2.0:0.1:2.0\n",
    "nbins_plot = 100\n",
    "\n",
    "#h_a = fit(Histogram, res_α_OR6, bins_hist)\n",
    "h_a = fit(Histogram, res_α_OR6, nbins=nbins_plot)\n",
    "bc_a = midpoints(h_a.edges[1]) # bin centers\n",
    "bs_a = fill(h_a.edges[1].step.hi, length(bc_a)) # bin sizes\n",
    ";\n",
    "\n",
    "#h_b = fit(Histogram, res_δ_OR6, bins_hist)\n",
    "h_b = fit(Histogram, res_δ_OR6, nbins=nbins_plot)\n",
    "bc_b = midpoints(h_b.edges[1]) # bin centers\n",
    "bs_b = fill(h_b.edges[1].step.hi, length(bc_b)) # bin sizes\n",
    "\n",
    "#h_c = fit(Histogram, res_α_OR7, bins_hist)\n",
    "h_c = fit(Histogram, res_α_OR7, nbins=nbins_plot)\n",
    "bc_c = midpoints(h_c.edges[1]) # bin centers\n",
    "bs_c = fill(h_c.edges[1].step.hi, length(bc_c)) # bin sizes\n",
    "\n",
    "#h_d = fit(Histogram, res_δ_OR7, bins_hist)\n",
    "h_d = fit(Histogram, res_δ_OR7, nbins=nbins_plot)\n",
    "bc_d = midpoints(h_d.edges[1]) # bin centers\n",
    "bs_d = fill(h_d.edges[1].step.hi, length(bc_d)) # bin sizes\n",
    ";"
   ]
  },
  {
   "cell_type": "code",
   "execution_count": null,
   "metadata": {},
   "outputs": [],
   "source": [
    "minimum(res_α_OR6), maximum(res_α_OR6)"
   ]
  },
  {
   "cell_type": "code",
   "execution_count": null,
   "metadata": {},
   "outputs": [],
   "source": [
    "minimum(res_δ_OR6), maximum(res_δ_OR6)"
   ]
  },
  {
   "cell_type": "code",
   "execution_count": null,
   "metadata": {},
   "outputs": [],
   "source": [
    "minimum(res_α_OR7), maximum(res_α_OR7)"
   ]
  },
  {
   "cell_type": "code",
   "execution_count": null,
   "metadata": {},
   "outputs": [],
   "source": [
    "minimum(res_δ_OR7), maximum(res_δ_OR7)"
   ]
  },
  {
   "cell_type": "code",
   "execution_count": null,
   "metadata": {},
   "outputs": [],
   "source": [
    "mean(res_α_OR6), mean(res_δ_OR6)"
   ]
  },
  {
   "cell_type": "code",
   "execution_count": null,
   "metadata": {},
   "outputs": [],
   "source": [
    "mean(res_α_OR7), mean(res_δ_OR7)"
   ]
  },
  {
   "cell_type": "code",
   "execution_count": null,
   "metadata": {},
   "outputs": [],
   "source": []
  },
  {
   "cell_type": "code",
   "execution_count": null,
   "metadata": {},
   "outputs": [],
   "source": [
    "angv = vcat(range(0, length=1000, stop=prevfloat(2pi)), 0)\n",
    "sigma_factor = 3.0\n",
    "σ_cos_ang = sigma_factor*cos.(angv)\n",
    "σ_sin_ang = sigma_factor*sin.(angv)\n",
    "\n",
    "cov_αδ_cholf_OR6 = cholesky(cov(hcat(res_α_OR6, res_δ_OR6)))\n",
    "cov_αδ_cholf_OR7 = cholesky(cov(hcat(res_α_OR7, res_δ_OR7)))\n",
    "\n",
    "ell_3σ_x_OR6 = mean(res_α_OR6) .+ cov_αδ_cholf_OR6.L[1,1].*σ_cos_ang .+ cov_αδ_cholf_OR6.L[1,2].*σ_sin_ang\n",
    "ell_3σ_y_OR6 = mean(res_δ_OR6) .+ cov_αδ_cholf_OR6.L[2,1].*σ_cos_ang .+ cov_αδ_cholf_OR6.L[2,2].*σ_sin_ang\n",
    "\n",
    "ell_3σ_x_OR7 = mean(res_α_OR7) .+ cov_αδ_cholf_OR7.L[1,1].*σ_cos_ang .+ cov_αδ_cholf_OR7.L[1,2].*σ_sin_ang\n",
    "ell_3σ_y_OR7 = mean(res_δ_OR7) .+ cov_αδ_cholf_OR7.L[2,1].*σ_cos_ang .+ cov_αδ_cholf_OR7.L[2,2].*σ_sin_ang\n",
    ";"
   ]
  },
  {
   "cell_type": "code",
   "execution_count": null,
   "metadata": {},
   "outputs": [],
   "source": [
    "gap = 0.01\n",
    "xlim_plt = 3.5\n",
    "ymin_plt = -5.0\n",
    "ymax_plt = 5.0\n",
    "\n",
    "Gaston.set(preamble=\"set grid; set style circle radius 0.02\")\n",
    "\n",
    "p1 = Gaston.plot(\n",
    "    bc_a,\n",
    "    h_a.weights./2, \n",
    "    supp=[bs_a./2 h_a.weights./2], \n",
    "    curveconf=\"w boxxy notit fs transparent solid 0.4\", \n",
    "    Axes(\n",
    "        #linetype = :tab10,\n",
    "        axesconf=\"set lmargin at screen 0.1; set rmargin at screen 0.85; set tmargin at screen 0.99; set bmargin at screen 0.8+$gap\",\n",
    "        xrange = (-xlim_plt, xlim_plt),\n",
    "        format = \"''\",\n",
    "        label=\"1 '(b)' at graph 0.05,0.8\"\n",
    "    ),\n",
    "    handle = 1\n",
    ")\n",
    "Gaston.plot!(\n",
    "    bc_c,\n",
    "    h_c.weights./2, \n",
    "    supp=[bs_c./2 h_c.weights./2], \n",
    "    curveconf=\"w boxxy notit fs transparent solid 0.4\"\n",
    ")\n",
    "\n",
    "p2 = Gaston.plot(\n",
    "    res_α_OR6, \n",
    "    res_δ_OR6, \n",
    "    curveconf=\"w circles fill transparent solid 0.4 noborder tit 'gravity-only'\",\n",
    "    Axes(\n",
    "        #linetype = :tab10,\n",
    "        key=\"at screen 0.835, screen 0.78 box spacing 1.2 height 0.4\",  #\"outside top right box spacing 1.2 height 1\",\n",
    "        axesconf=\"set lmargin at screen 0.1; set rmargin at screen 0.85; set tmargin at screen 0.8; set bmargin at screen 0.1\",\n",
    "        xrange = (-xlim_plt, xlim_plt),\n",
    "        yrange = (ymin_plt, ymax_plt),\n",
    "        format = \"\\\"%g\\\"\",\n",
    "        xlabel=\"'\\$\\\\alpha\\\\cos(\\\\delta)\\$ \\$[\\$arcsec\\$]\\$'\",\n",
    "        ylabel=\"'\\$\\\\delta\\$ \\$[\\$arcsec\\$]\\$'\",\n",
    "        label=\"1 '(a)' at graph 0.05,0.925\"\n",
    "    ), \n",
    "    handle = 2\n",
    ")\n",
    "Gaston.plot!(res_α_OR7, res_δ_OR7, \n",
    "    curveconf=\"w circles fill transparent solid 0.4 noborder tit 'non-grav.'\"\n",
    ")\n",
    "Gaston.plot!([mean(res_α_OR6)], [mean(res_δ_OR6)], curveconf=\"w p pt 4 ps 1.5 lw 8\") # tit 'mean R.A./Dec (OR6)'\n",
    "Gaston.plot!([mean(res_α_OR7)], [mean(res_δ_OR7)], curveconf=\"w p pt 6 ps 1.5 lw 8\") # tit 'mean R.A./Dec (OR7)'\n",
    "Gaston.plot!(ell_3σ_x_OR6, ell_3σ_y_OR6, curveconf=\"w l lw 8 lc 3\")\n",
    "Gaston.plot!(ell_3σ_x_OR7, ell_3σ_y_OR7, curveconf=\"w l lw 8 lc 4\")\n",
    "\n",
    "p4 = Gaston.plot(\n",
    "    h_b.weights./2,\n",
    "    bc_b,\n",
    "    supp=[h_b.weights./2 bs_b./2],\n",
    "    curveconf=\"w boxxy notit fs transparent solid 0.4\",\n",
    "    Axes(\n",
    "        #linetype = :tab10,\n",
    "        axesconf=\"set lmargin at screen 0.85+$gap; set rmargin at screen 0.99; set tmargin at screen 0.8; set bmargin at screen 0.1\",\n",
    "        yrange = (ymin_plt, ymax_plt),\n",
    "        format = \"''\",\n",
    "        label=\"1 '(c)' at graph 0.15,0.925\"\n",
    "    ),\n",
    "    handle = 4\n",
    ")\n",
    "Gaston.plot!(\n",
    "    h_d.weights./2,\n",
    "    bc_d,\n",
    "    supp=[h_d.weights./2 bs_d./2],\n",
    "    curveconf=\"w boxxy notit fs transparent solid 0.4\"\n",
    ")\n",
    "\n",
    "Gaston.plot([p1 nothing ; p2 p4])\n",
    "\n",
    "#Gaston.save(term = \"cairolatex\", output = \"radec_hist.tex\", saveopts = \"pdf standalone color dashed transparent size 7in,5in font ',12'\")\n",
    "#run(`lualatex radec_hist.tex`)"
   ]
  },
  {
   "cell_type": "markdown",
   "metadata": {},
   "source": [
    "# Plots: radar astrometry post-fit residuals"
   ]
  },
  {
   "cell_type": "code",
   "execution_count": null,
   "metadata": {},
   "outputs": [],
   "source": [
    "del_index = findall(x->x.Δτ_units==\"us\", deldop)\n",
    "dop_index = findall(x->x.Δν_units==\"Hz\", deldop)\n",
    "length(del_index), length(dop_index)"
   ]
  },
  {
   "cell_type": "code",
   "execution_count": null,
   "metadata": {},
   "outputs": [],
   "source": [
    "length(deldop)"
   ]
  },
  {
   "cell_type": "code",
   "execution_count": null,
   "metadata": {},
   "outputs": [],
   "source": [
    "del_dates_plot_ = date.(deldop[del_index])\n",
    "dop_dates_plot_ = date.(deldop[dop_index])\n",
    "\n",
    "del_dates_plot = Dates.format.(del_dates_plot_, \"dd/mm/yy HHMM\")\n",
    "dop_dates_plot = Dates.format.(dop_dates_plot_, \"dd/mm/yy HHMM\")\n",
    "\n",
    "σ_del_all = delay_sigma.(deldop[del_index])\n",
    "σ_dop_all = doppler_sigma.(deldop[dop_index])\n",
    ";"
   ]
  },
  {
   "cell_type": "code",
   "execution_count": null,
   "metadata": {},
   "outputs": [],
   "source": [
    "p1 = Gaston.plot(\n",
    "    del_index,\n",
    "    res_τ(δx_OR6),\n",
    "    supp = σ_del_all,\n",
    "    key=\"box spacing 1.2 height 0.4\", #at screen 0.835, screen 0.78 \n",
    "    curveconf = \"u 1:2:3 w errorbars pt 6 lw 4 tit 'gravity-only'\",\n",
    "    Axes(\n",
    "        #axesconf=\"set lmargin at screen 0.15; set rmargin at screen 0.95; set bmargin at screen 0.5\",\n",
    "        axesconf=\"set lmargin at screen 0.11\",\n",
    "        #linetype = :tab10,\n",
    "        bars = 2,\n",
    "        ylabel = \"'Time-delay resid. \\$[\\$us\\$]\\$'\",\n",
    "        xrange = (0,39),\n",
    "        xtics = \"1,2,40\",\n",
    "        format = \"y '%1.1f'\",\n",
    "        yrange=(-7,8),\n",
    "        label=\"1 '(a)' at graph 0.05,0.9\"#,\n",
    "        #title = \"'gravity-only'\"\n",
    "    ),\n",
    "    handle = 1\n",
    ")\n",
    "Gaston.plot!(\n",
    "    del_index,\n",
    "    res_τ(δx_OR7),\n",
    "    supp = σ_del_all,\n",
    "    curveconf = \"u 1:2:3 w errorbars pt 4 lw 4 tit 'non-gravitational'\",\n",
    "    lc = 2\n",
    ")\n",
    "\n",
    "p2 = Gaston.plot(\n",
    "    dop_index,\n",
    "    res_ν(δx_OR6),\n",
    "    supp = σ_dop_all,\n",
    "    curveconf = \"u 1:2:3 w errorbars pt 6 lw 4 tit 'gravity-only'\",\n",
    "    key=\"box spacing 1.2 height 0.4\",\n",
    "    Axes(\n",
    "        #axesconf=\"set lmargin at screen 0.15; set rmargin at screen 0.95; set tmargin at screen 0.5\",\n",
    "        axesconf=\"set lmargin at screen 0.11\",\n",
    "        #linetype = :tab10,\n",
    "        bars = 2,\n",
    "        ylabel = \"'Doppler shift resid. \\$[\\$Hz\\$]\\$'\",\n",
    "        xrange = (0,39),\n",
    "        xtics = \"1,2,40\",\n",
    "        format = \"y '%1.1f'\",\n",
    "        yrange=(-0.6,0.8),\n",
    "        label=\"1 '(b)' at graph 0.05,0.9\" #,\n",
    "        # title = \"'non-gravitational'\"\n",
    "    ),\n",
    "    handle = 2\n",
    ")\n",
    "Gaston.plot!(\n",
    "    dop_index,\n",
    "    res_ν(δx_OR7),\n",
    "    supp = σ_dop_all,\n",
    "    curveconf = \"u 1:2:3 w errorbars pt 4 lw 4 tit 'non-gravitational'\",\n",
    "    lc = 2\n",
    ")\n",
    "\n",
    "\n",
    "Gaston.plot([p1; p2])\n",
    "\n",
    "#Gaston.save(term = \"cairolatex\", output = \"deldop_residuals.tex\", saveopts = \"pdf standalone color dashed transparent size 10in,7in font ',14'\")\n",
    "#run(`pdflatex deldop_residuals.tex`)"
   ]
  },
  {
   "cell_type": "code",
   "execution_count": null,
   "metadata": {},
   "outputs": [],
   "source": []
  },
  {
   "cell_type": "code",
   "execution_count": null,
   "metadata": {},
   "outputs": [],
   "source": [
    "deldop_dates_plot_xaxis = vcat(\"01/06/04 0000\", del_dates_plot, \"31/03/21 2359\");"
   ]
  },
  {
   "cell_type": "code",
   "execution_count": null,
   "metadata": {},
   "outputs": [],
   "source": [
    "tmargin_bmargin_gap = 0.03\n",
    "bmargin_ths_plt = 0.5 + tmargin_bmargin_gap\n",
    "tmargin_ths_plt = 0.965\n",
    "axsbrk_v = 1.25*0.01\n",
    "axsbrk_h = 1.25*0.005\n",
    "lw_ths_plt = 3\n",
    "rmargin_ths_plt = 0.3\n",
    "\n",
    "p1 = Gaston.plot(\n",
    "    del_dates_plot,\n",
    "    res_τ(δx_OR6),\n",
    "    supp = σ_del_all,\n",
    "    curveconf = \"u 1:3:4 w errorbars pt 6 lw $lw_ths_plt\",\n",
    "    Axes(\n",
    "        #linetype = :tab10,\n",
    "        axesconf = \"set rmargin at screen 0.3; set tmargin at screen $tmargin_ths_plt; set bmargin at screen $bmargin_ths_plt\",\n",
    "        xdata   = \"time\",\n",
    "        timefmt = \"'%d/%m/%y %H%M'\",\n",
    "        xtics = false, #\"format '' time (\\\"01/01/05\\\",\\\"01/01/06\\\")\", # '%d/%b/%y'\n",
    "        xrange = \"[\\\"01/12/04\\\":\\\"30/05/06\\\"]\",\n",
    "        #xlabel  = \"\\\"Date\\\"\",\n",
    "        bars = false, #2,\n",
    "        ylabel = \"'Time-delay resid. (O-C) [\\$\\\\mu\\$s]'\",\n",
    "        border = \"1+2+4\",\n",
    "        ytics = [\"nomirror\", \"format '%1.1f'\"],\n",
    "        yrange = \"[-8.0:6.0]\",\n",
    "        arrow = [\n",
    "            \"from screen 0.3-$axsbrk_h,$bmargin_ths_plt-$axsbrk_v to screen 0.3+$axsbrk_h,$bmargin_ths_plt+$axsbrk_v nohead\",\n",
    "            \"from screen 0.3-$axsbrk_h,$tmargin_ths_plt-$axsbrk_v to screen 0.3+$axsbrk_h,$tmargin_ths_plt+$axsbrk_v nohead\"\n",
    "            ],\n",
    "        label=\"1 '(a)' at graph 0.2,0.9\",\n",
    "        grid=false\n",
    "        #arrow = \"from screen 0.3-0.01,1.0-0.01 to screen 0.3+0.01,1.0+0.01 nohead\"\n",
    "        #format = \"x ''\"\n",
    "        #title = \"'Time-delay resid. (O-C)'\"\n",
    "    ),\n",
    "    handle = 1\n",
    ")\n",
    "Gaston.plot!(\n",
    "    del_dates_plot,\n",
    "    res_τ(δx_OR7),\n",
    "    supp = σ_del_all,\n",
    "    curveconf = \"u 1:3:4 w errorbars pt 4 lw $lw_ths_plt\",\n",
    "    lc = 2\n",
    ")\n",
    "Gaston.plot!(deldop_dates_plot_xaxis, zeros(length(deldop_dates_plot_xaxis)), curveconf=\" u 1:3 w l lc rgb 'gray' lw 4 dt 2\")\n",
    "\n",
    "p2 = Gaston.plot(\n",
    "    del_dates_plot,\n",
    "    res_τ(δx_OR6),\n",
    "    supp = σ_del_all,\n",
    "    curveconf = \"u 1:3:4 w errorbars pt 6 lw $lw_ths_plt\",\n",
    "    Axes(\n",
    "        #linetype = :tab10,\n",
    "        xdata   = \"time\",\n",
    "        timefmt = \"'%d/%m/%y %H%M'\",\n",
    "        axesconf = \"set lmargin at screen 0.35; set tmargin at screen $tmargin_ths_plt; set rmargin at screen 0.8; set bmargin at screen $bmargin_ths_plt\",\n",
    "        xtics = false, #\"format '' time (\\\"01/01/13\\\",\\\"01/02/13\\\",\\\"01/03/13\\\")\", # '%d/%b/%y'\n",
    "        xrange = \"[\\\"15/12/12\\\":\\\"20/03/13\\\"]\",\n",
    "        #xlabel  = \"\\\"Date\\\"\",\n",
    "        bars = false, #2,\n",
    "        #tics=\"scale 0\",\n",
    "        ytics = false, #[false, \"(\\\"\\\" 0)\"], #\"nomirror\",\n",
    "        border = \"1+4\",\n",
    "        yrange = \"[-8.0:6.0]\",\n",
    "        format = [\"x ''\", \"y ''\"], #%1.1f\n",
    "        arrow = [\n",
    "            \"from screen 0.35-$axsbrk_h,$bmargin_ths_plt-$axsbrk_v to screen 0.35+$axsbrk_h,$bmargin_ths_plt+$axsbrk_v nohead\",\n",
    "            \"from screen 0.35-$axsbrk_h,$tmargin_ths_plt-$axsbrk_v to screen 0.35+$axsbrk_h,$tmargin_ths_plt+$axsbrk_v nohead\",\n",
    "            \"from screen 0.80-$axsbrk_h,$bmargin_ths_plt-$axsbrk_v to screen 0.80+$axsbrk_h,$bmargin_ths_plt+$axsbrk_v nohead\",\n",
    "            \"from screen 0.80-$axsbrk_h,$tmargin_ths_plt-$axsbrk_v to screen 0.80+$axsbrk_h,$tmargin_ths_plt+$axsbrk_v nohead\"\n",
    "            ],\n",
    "        #ylabel = \"'[us]'\"\n",
    "    ),\n",
    "    handle = 2\n",
    ")\n",
    "Gaston.plot!(\n",
    "    del_dates_plot,\n",
    "    res_τ(δx_OR7),\n",
    "    supp = σ_del_all,\n",
    "    curveconf = \"u 1:3:4 w errorbars pt 4 lw $lw_ths_plt\",\n",
    "    lc = 2\n",
    ")\n",
    "Gaston.plot!(deldop_dates_plot_xaxis, zeros(length(deldop_dates_plot_xaxis)), curveconf=\" u 1:3 w l lc rgb 'gray' lw 4 dt 2\")\n",
    "\n",
    "p3 = Gaston.plot(\n",
    "    del_dates_plot,\n",
    "    res_τ(δx_OR6),\n",
    "    supp = σ_del_all,\n",
    "    curveconf = \"u 1:3:4 w errorbars pt 6 lw $lw_ths_plt\",\n",
    "    Axes(\n",
    "        #linetype = :tab10,\n",
    "        xdata   = \"time\",\n",
    "        timefmt = \"'%d/%m/%y %H%M'\",\n",
    "        axesconf = \"set lmargin at screen 0.85; set tmargin at screen 0.965; set bmargin at screen $bmargin_ths_plt\",\n",
    "        xtics = false, #\"format '' time (\\\"03/03/21\\\",\\\"11/03/21\\\")\", #'%d/%b/%y'\n",
    "        xrange = \"[\\\"02/03/21\\\":\\\"15/03/21\\\"]\",\n",
    "        #xlabel = \"\\\"Date\\\"\",\n",
    "        bars = false, #2,\n",
    "        #tics=\"scale 0\",\n",
    "        ytics = false, #[false, \"(\\\"\\\" 0)\"], #\"nomirror\",\n",
    "        border = \"1+4+8\",\n",
    "        yrange = \"[-8.0:6.0]\",\n",
    "        format = [\"x ''\", \"y ''\"], #%1.1f\n",
    "        arrow = [\n",
    "            \"from screen 0.85-$axsbrk_h,$bmargin_ths_plt-$axsbrk_v to screen 0.85+$axsbrk_h,$bmargin_ths_plt+$axsbrk_v nohead\",\n",
    "            \"from screen 0.85-$axsbrk_h,$tmargin_ths_plt-$axsbrk_v to screen 0.85+$axsbrk_h,$tmargin_ths_plt+$axsbrk_v nohead\"\n",
    "            ],\n",
    "        #ylabel = \"'[us]'\"\n",
    "    ),\n",
    "    handle = 3\n",
    ")\n",
    "Gaston.plot!(\n",
    "    del_dates_plot,\n",
    "    res_τ(δx_OR7),\n",
    "    supp = σ_del_all,\n",
    "    curveconf = \"u 1:3:4 w errorbars pt 4 lw $lw_ths_plt\",\n",
    "    lc = 2\n",
    ")\n",
    "Gaston.plot!(deldop_dates_plot_xaxis, zeros(length(deldop_dates_plot_xaxis)), curveconf=\" u 1:3 w l lc rgb 'gray' lw 4 dt 2\")\n",
    "\n",
    "Gaston.plot([p1 p2 p3])\n",
    "\n",
    "#Gaston.save(term = \"cairolatex\", output = \"del_resids.tex\", saveopts = \"pdf standalone color dashed transparent size 10in,7in font ',14'\")\n",
    "#run(`pdflatex del_resids.tex`)"
   ]
  },
  {
   "cell_type": "code",
   "execution_count": null,
   "metadata": {
    "jupyter": {
     "source_hidden": true
    }
   },
   "outputs": [],
   "source": [
    "tmargin_ths_plt = 0.5 - tmargin_bmargin_gap\n",
    "bmargin_ths_plt = 0.05\n",
    "\n",
    "Gaston.set(preamble=\"unset grid\")\n",
    "p4 = Gaston.plot(\n",
    "    dop_dates_plot,\n",
    "    res_ν(δx_OR6),\n",
    "    supp = σ_dop_all,\n",
    "    curveconf = \"u 1:3:4 w errorbars pt 6 lw $lw_ths_plt\",\n",
    "    Axes(\n",
    "        #linetype = :tab10,\n",
    "        axesconf=\"set rmargin at screen $rmargin_ths_plt; set tmargin at screen $tmargin_ths_plt; set bmargin at screen $bmargin_ths_plt\",\n",
    "        xdata   = \"time\",\n",
    "        timefmt = \"'%d/%m/%y %H%M'\",\n",
    "        xtics = \"format '%d/%b/%y' time (\\\"01/01/05\\\",\\\"01/01/06\\\")\",\n",
    "        xrange = \"[\\\"01/12/04\\\":\\\"30/05/06\\\"]\",\n",
    "        #xlabel  = \"\\\"Date\\\"\",\n",
    "        bars = false,#2,\n",
    "        ylabel = \"'Doppler shift resid. (O-C) [Hz]'\",\n",
    "        border=\"1+2+4\",\n",
    "        ytics = [\"nomirror\", \"format '%1.1f'\"],\n",
    "        yrange=\"[-0.5:0.5]\",\n",
    "        arrow = [\n",
    "            \"from screen 0.3-$axsbrk_h,$tmargin_ths_plt-$axsbrk_v to screen 0.3+$axsbrk_h,$tmargin_ths_plt+$axsbrk_v nohead\",\n",
    "            \"from screen 0.3-$axsbrk_h,$bmargin_ths_plt-$axsbrk_v to screen 0.3+$axsbrk_h,$bmargin_ths_plt+$axsbrk_v nohead\"\n",
    "            ],\n",
    "        label=\"1 '(b)' at graph 0.2,0.9\"\n",
    "        #title = \"'Doppler shift resid. (O-C)'\"\n",
    "    ),\n",
    "    handle = 4\n",
    ")\n",
    "Gaston.plot!(\n",
    "    dop_dates_plot,\n",
    "    res_ν(δx_OR7),\n",
    "    supp = σ_dop_all,\n",
    "    curveconf = \"u 1:3:4 w errorbars pt 4 lw $lw_ths_plt\",\n",
    "    lc = 2\n",
    ")\n",
    "Gaston.plot!(deldop_dates_plot_xaxis, zeros(length(deldop_dates_plot_xaxis)), curveconf=\" u 1:3 w l lc rgb 'gray' lw 4 dt 2\")\n",
    "\n",
    "p5 = Gaston.plot(\n",
    "    dop_dates_plot,\n",
    "    res_ν(δx_OR6),\n",
    "    supp = σ_dop_all,\n",
    "    curveconf = \"u 1:3:4 w errorbars pt 6 lw $lw_ths_plt\",\n",
    "    Axes(\n",
    "        #linetype = :tab10,\n",
    "        xdata   = \"time\",\n",
    "        timefmt = \"'%d/%m/%y %H%M'\",\n",
    "        axesconf=\"set lmargin at screen $rmargin_ths_plt+0.05; set rmargin at screen 0.8; set tmargin at screen $tmargin_ths_plt; set bmargin at screen $bmargin_ths_plt\",\n",
    "        xtics=\"format '%d/%b/%y' time (\\\"01/01/13\\\",\\\"01/02/13\\\",\\\"01/03/13\\\")\",\n",
    "        xrange=\"[\\\"15/12/12\\\":\\\"20/03/13\\\"]\",\n",
    "        #xlabel  = \"\\\"Date\\\"\",\n",
    "        bars = false, #2,\n",
    "        ytics=false,\n",
    "        border=\"1+4\",\n",
    "        yrange=\"[-0.5:0.5]\",\n",
    "        arrow = [\n",
    "            \"from screen 0.35-$axsbrk_h,$tmargin_ths_plt-$axsbrk_v to screen 0.35+$axsbrk_h,$tmargin_ths_plt+$axsbrk_v nohead\",\n",
    "            \"from screen 0.35-$axsbrk_h,$bmargin_ths_plt-$axsbrk_v to screen 0.35+$axsbrk_h,$bmargin_ths_plt+$axsbrk_v nohead\",\n",
    "            \"from screen 0.8-$axsbrk_h,$tmargin_ths_plt-$axsbrk_v to screen 0.8+$axsbrk_h,$tmargin_ths_plt+$axsbrk_v nohead\",\n",
    "            \"from screen 0.8-$axsbrk_h,$bmargin_ths_plt-$axsbrk_v to screen 0.8+$axsbrk_h,$bmargin_ths_plt+$axsbrk_v nohead\"\n",
    "            ],\n",
    "        #ylabel = \"'[Hz]'\"\n",
    "    ),\n",
    "    handle = 5\n",
    ")\n",
    "Gaston.plot!(\n",
    "    dop_dates_plot,\n",
    "    res_ν(δx_OR7),\n",
    "    supp = σ_dop_all,\n",
    "    curveconf = \"u 1:3:4 w errorbars pt 4 lw $lw_ths_plt\",\n",
    "    lc = 2\n",
    ")\n",
    "Gaston.plot!(deldop_dates_plot_xaxis, zeros(length(deldop_dates_plot_xaxis)), curveconf=\" u 1:3 w l lc rgb 'gray' lw 4 dt 2\")\n",
    "\n",
    "p6 = Gaston.plot(\n",
    "    dop_dates_plot,\n",
    "    res_ν(δx_OR6),\n",
    "    supp = σ_dop_all,\n",
    "    curveconf = \"u 1:3:4 w errorbars pt 6 lw $lw_ths_plt\",\n",
    "    Axes(\n",
    "        #linetype = :tab10,\n",
    "        xdata   = \"time\",\n",
    "        timefmt = \"'%d/%m/%y %H%M'\",\n",
    "        axesconf=\"set lmargin at screen 0.85; set tmargin at screen $tmargin_ths_plt; set bmargin at screen $bmargin_ths_plt\",\n",
    "        xtics=\"format '%d/%b/%y' time (\\\"03/03/21\\\",\\\"13/03/21\\\")\",\n",
    "        xrange=\"[\\\"02/03/21\\\":\\\"15/03/21\\\"]\",\n",
    "        #xlabel  = \"\\\"Date\\\"\",\n",
    "        bars = false, #2,\n",
    "        #format=\"y ''\",\n",
    "        ytics=false,\n",
    "        border=\"1+4+8\",\n",
    "        yrange=\"[-0.5:0.5]\",\n",
    "        arrow = [\n",
    "            \"from screen 0.85-$axsbrk_h,$tmargin_ths_plt-$axsbrk_v to screen 0.85+$axsbrk_h,$tmargin_ths_plt+$axsbrk_v nohead\",\n",
    "            \"from screen 0.85-$axsbrk_h,$bmargin_ths_plt-$axsbrk_v to screen 0.85+$axsbrk_h,$bmargin_ths_plt+$axsbrk_v nohead\"\n",
    "            ],\n",
    "        #ylabel = \"'[Hz]'\"\n",
    "    ),\n",
    "    handle = 6\n",
    ")\n",
    "Gaston.plot!(\n",
    "    dop_dates_plot,\n",
    "    res_ν(δx_OR7),\n",
    "    supp = σ_dop_all,\n",
    "    curveconf = \"u 1:3:4 w errorbars pt 4 lw $lw_ths_plt\",\n",
    "    lc = 2\n",
    ")\n",
    "Gaston.plot!(deldop_dates_plot_xaxis, zeros(length(deldop_dates_plot_xaxis)), curveconf=\" u 1:3 w l lc rgb 'gray' lw 4 dt 2\")\n",
    "\n",
    "Gaston.plot([p4 p5 p6])\n",
    "\n",
    "#Gaston.save(term = \"cairolatex\", output = \"dop_resids.tex\", saveopts = \"pdf standalone color dashed transparent size 10in,7in font ',14'\")\n",
    "#run(`pdflatex dop_resids.tex`)"
   ]
  },
  {
   "cell_type": "code",
   "execution_count": null,
   "metadata": {},
   "outputs": [],
   "source": [
    "Gaston.plot([p1 p2 p3; p4 p5 p6])\n",
    "\n",
    "#Gaston.save(term = \"cairolatex\", output = \"deldop_residuals_dates.tex\", saveopts = \"pdf standalone color dashed transparent size 10in,7in font ',14'\")\n",
    "#run(`lualatex deldop_residuals_dates.tex`)"
   ]
  },
  {
   "cell_type": "code",
   "execution_count": null,
   "metadata": {},
   "outputs": [],
   "source": []
  }
 ],
 "metadata": {
  "kernelspec": {
   "display_name": "Julia-4-threads 1.9.1",
   "language": "julia",
   "name": "julia-4-threads-1.9"
  },
  "language_info": {
   "file_extension": ".jl",
   "mimetype": "application/julia",
   "name": "julia",
   "version": "1.9.2"
  }
 },
 "nbformat": 4,
 "nbformat_minor": 4
}
