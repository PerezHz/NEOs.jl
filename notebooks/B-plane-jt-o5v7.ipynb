{
 "cells": [
  {
   "cell_type": "markdown",
   "metadata": {},
   "source": [
    "# Apophis: 2029 B-plane (5th-order, 7-DOF jet transport)"
   ]
  },
  {
   "cell_type": "code",
   "execution_count": null,
   "metadata": {
    "scrolled": true,
    "tags": []
   },
   "outputs": [],
   "source": [
    "]st"
   ]
  },
  {
   "cell_type": "code",
   "execution_count": null,
   "metadata": {},
   "outputs": [],
   "source": [
    "using Revise"
   ]
  },
  {
   "cell_type": "code",
   "execution_count": null,
   "metadata": {
    "scrolled": true
   },
   "outputs": [],
   "source": [
    "using JLD, PlanetaryEphemeris, NEOs, SPICE"
   ]
  },
  {
   "cell_type": "code",
   "execution_count": null,
   "metadata": {},
   "outputs": [],
   "source": [
    "using TaylorIntegration"
   ]
  },
  {
   "cell_type": "code",
   "execution_count": null,
   "metadata": {},
   "outputs": [],
   "source": [
    "#using LinearAlgebra: dot, cross, norm, diag\n",
    "using LinearAlgebra\n",
    "using Dates, Plots"
   ]
  },
  {
   "cell_type": "code",
   "execution_count": null,
   "metadata": {},
   "outputs": [],
   "source": [
    "using Statistics"
   ]
  },
  {
   "cell_type": "code",
   "execution_count": null,
   "metadata": {},
   "outputs": [],
   "source": [
    "dq = set_variables(\"ξ\", order=5, numvars=7)"
   ]
  },
  {
   "cell_type": "code",
   "execution_count": null,
   "metadata": {},
   "outputs": [],
   "source": [
    "neosjlpath = pkgdir(NEOs)\n",
    "#fnamesseph = joinpath(neosjlpath, \"pha\", \"sseph343ast016_p31y_et.jld\")\n",
    "fnamesseph = joinpath(neosjlpath, \"pha\", \"sseph343ast032_p31y_et.jld\")\n",
    "@time ss16asteph = load(fnamesseph, \"ss16ast_eph\");"
   ]
  },
  {
   "cell_type": "code",
   "execution_count": null,
   "metadata": {},
   "outputs": [],
   "source": [
    "#txgS1_file = \"txgS1.jld\" # p21y: sep 2008 - sep 2029, 16AST, epoch: 2008-Sep-24.0\n",
    "\n",
    "txgS1_file = \"txgS1_16AST.jld\" # 16AST, epoch: 2020-Dec-17.0\n",
    "#txgS1_file = \"txgS1_32AST.jld\" # 32AST, epoch: 2020-Dec-17.0\n",
    "\n",
    "tvS1 = load(txgS1_file, \"tvS1\")\n",
    "xvS1 = load(txgS1_file, \"xvS1\")\n",
    "gvS1 = load(txgS1_file, \"gvS1\");"
   ]
  },
  {
   "cell_type": "code",
   "execution_count": null,
   "metadata": {},
   "outputs": [],
   "source": [
    "# Epoch for these solutions is 2008-Sep-24\n",
    "x_Gamma_file = \"x_Gamma.jld\"\n",
    "x_O7 = load(x_Gamma_file, \"x_O7\")\n",
    "Γ_O7 = load(x_Gamma_file, \"Γ_O7\")\n",
    "x_O6 = load(x_Gamma_file, \"x_O6\")\n",
    "Γ_O6 = load(x_Gamma_file, \"Γ_O6\")\n",
    "x_R = load(x_Gamma_file, \"x_R\")\n",
    "Γ_R = load(x_Gamma_file, \"Γ_R\")\n",
    "x_OR7 = load(x_Gamma_file, \"x_OR7\")\n",
    "Γ_OR7 = load(x_Gamma_file, \"Γ_OR7\")\n",
    "x_OR6 = load(x_Gamma_file, \"x_OR6\")\n",
    "Γ_OR6 = load(x_Gamma_file, \"Γ_OR6\");"
   ]
  },
  {
   "cell_type": "code",
   "execution_count": null,
   "metadata": {},
   "outputs": [],
   "source": [
    "# Vokrouhlicky et al. (2015) solution, epoch: 2020-Dec.17.0 (TDB)\n",
    "\n",
    "x_OR7_v15 = [-140.57822381227118, -1.8626995796263301, -5.0591050197229706, 0.41128379883273736, -2.3129699069876146, -0.8466216046493642, -4.952683388435702]\n",
    "Γ_OR7_v15 = [5989.329280822124 74.79415203610024 220.06121877571786 -17.571448711925967 98.70634631163672 35.98425628306524 212.0862995353935; 74.79414895613549 1.2151238655383731 2.3063240437611365 -0.21765046038369046 1.2233751487341569 0.460798732784844 2.607668540906764; 220.0612235550182 2.3063242156608084 9.315815223353983 -0.6449830433978433 3.643369567344547 1.293369574788372 7.883517931056745; -17.571448731816844 -0.21765046967413057 -0.6449830300916612 0.051584188409703975 -0.28962896414609995 -0.10556718673220683 -0.6223048185490876; 98.70634641285534 1.2233752007533492 3.6433694922735955 -0.28962896411546907 1.6270304241119922 0.5926142491131938 3.496714718647205; 35.98425615890759 0.46079874975815016 1.2933695415206592 -0.1055671862480805 0.5926142464584243 0.2168823452742498 1.272025084834437; 212.08629997991213 2.60766865547396 7.883517778088179 -0.622304819150045 3.4967147223898354 1.272025091902486 7.517651748827781]\n",
    ";"
   ]
  },
  {
   "cell_type": "code",
   "execution_count": null,
   "metadata": {},
   "outputs": [],
   "source": [
    "x_OR7"
   ]
  },
  {
   "cell_type": "code",
   "execution_count": null,
   "metadata": {},
   "outputs": [],
   "source": [
    "@show x_OR7.*vcat(1e-8ones(6), 1e-14)"
   ]
  },
  {
   "cell_type": "code",
   "execution_count": null,
   "metadata": {},
   "outputs": [],
   "source": []
  },
  {
   "cell_type": "code",
   "execution_count": null,
   "metadata": {},
   "outputs": [],
   "source": [
    "# updated orbital fit including ALL astrometry: March, 2004 - May 12th, 2021 + 2 new delays + 2 new Dopplers, epoch: 2008-Sep-24.0\n",
    "#x_OR7_NEW = [4.3694215245970724, 7.987213945792604, 3.6413243281741003, -0.13423783109395293, 0.06725563717058236, 0.04920255739296331, -2.895160537809007]\n",
    "#x_OR7_NEW = [4.367656281090149, 8.003310625337434, 3.65187372286524, -0.13477964586408597, 0.06759651952764623, 0.049702492815884014, -2.8988788886209065]\n",
    "\n",
    "### 16 ast, 2020-Dec-17.0\n",
    "x_OR7_NEW = [-80.82343765579118, -0.7106022373046131, -3.561077273224616, 0.23816634313581936, -1.3417243363303806, -0.46977515287833677, -2.8988788886209065]\n",
    "Γ_OR7_NEW = [0.5068619132864064 0.11940253795930691 -0.1371835101842327 -0.0006258027662462645 0.0047113132031198915 0.007018795798133356 0.0025462693441119077; 0.11940253799947988 0.03773450365839204 0.011424923411250105 0.0002888275268275694 0.001031448311384878 0.0008826592978870696 0.0022840651584178006; -0.1371835099609639 0.011424923479453763 0.2928295829978477 0.002522103509755517 -0.0014358518426887744 -0.006661406586828053 0.008947398027266011; -0.0006258027641608426 0.0002888275273991705 0.00252210350939171 2.2960875605895245e-5 -8.105835233061971e-6 -5.187561919861433e-5 8.57076472633576e-5; 0.004711313202929846 0.001031448310983272 -0.0014358518445983343 -8.10583525120684e-6 4.520454294617712e-5 6.70392433125175e-5 1.8994680767536162e-5; 0.0070187957940418 0.0008826592962597386 -0.006661406588922676 -5.1875619224855176e-5 6.703924327931918e-5 0.00019039639198052005 -0.00014650071994221607; 0.0025462693524003666 0.002284065160339926 0.008947398023864735 8.570764724512834e-5 1.8994680841267375e-5 -0.00014650071980206781 0.0006123557091709823]\n",
    "\n",
    "#### 32 ast, 2020-Dec-17.0\n",
    "#x_OR7_NEW = [-80.81813958236799, -0.7133762366599218, -3.5612724648364917, 0.23809843716927998, -1.3416435295268134, -0.4697710231985644, -2.898835108503474]\n",
    "#Γ_OR7_NEW = [0.5068619085455233 0.11940253738668327 -0.13718350564978662 -0.0006258027301194737 0.004711313157221584 0.007018795674486953 0.0025462694490050435; 0.11940253742302409 0.03773450404420553 0.011424926444151573 0.00028882755463475584 0.001031448303596345 0.0008826592369233183 0.0022840652666241846; -0.13718350545247704 0.011424926498189065 0.2928295921694788 0.0025221036026654344 -0.0014358518110172292 -0.006661406718717781 0.00894739844625755; -0.00062580272826296 0.0002888275551022986 0.0025221036024433885 2.2960876534456336e-5 -8.10583499852566e-6 -5.1875620619375085e-5 8.57076513701302e-5; 0.004711313157035527 0.001031448303206883 -0.001435851812855113 -8.105835016028152e-6 4.520454251275811e-5 6.703924234023766e-5 1.899468131578466e-5; 0.007018795670869293 0.000882659235615 -0.006661406720443044 -5.187562063967593e-5 6.703924230816188e-5 0.00019039639338571198 -0.0001465007268133965; 0.0025462694564949316 0.002284065268122583 0.008947398443252921 8.570765135029659e-5 1.8994681388371695e-5 -0.00014650072669281176 0.0006123557268939426]\n",
    "\n",
    "\n",
    "\n",
    "# covariance matrix at 2020-Dec-17 epoch\n",
    "#Γ_OR7_NEW_2020dec17 = [1.438434994105531 0.29220544936960297 -0.422571935602575 -0.0027635945769280117 0.014490875841090746 0.020538254916658012 0.008931059340899494; 0.29220544943836946 0.07044883207758046 -0.03759669704463631 -7.17936777241948e-5 0.0028433791046060157 0.003315402872272071 0.0036173074184983264; -0.42257193529095993 -0.03759669695365462 0.41000521339389573 0.003431929409710754 -0.0044188710016318826 -0.011382787939101226 0.008192801923556356; -0.0027635945738109682 -7.179367691067121e-5 0.0034319294092731946 3.008993325573492e-5 -3.0500082705440965e-5 -8.784712204748608e-5 8.11985957323578e-5; 0.014490875840515761 0.002843379103823599 -0.004418871004416342 -3.050008273410192e-5 0.0001479773957114174 0.00020867889636787495 8.679251516578333e-5; 0.020538254911043618 0.0033154028699902 -0.011382787942014604 -8.784712208450746e-5 0.0002086788963230772 0.0003979059915404698 -7.73348080102816e-5; 0.008931059352690285 0.0036173074207718706 0.008192801918289591 8.119859569612309e-5 8.679251528102434e-5 -7.733480780525257e-5 0.0007052356651251199]\n",
    "\n",
    "# state transtition matrix from t0 = 2020-Dec-17 -> t = 2008-Sep-24\n",
    "#∂Φ_t_t0 = [1.5505725843757433e-7 -8.065138985501717e-7 -2.961209982390144e-7 4.9219775913785714e-5 -1.939304055732194e-7 1.2771618215815975e-6 1.4975599761788745e-7; 2.4336465215831323e-7 -1.3428903445480706e-6 -4.952323288850057e-7 8.238308767562521e-5 6.036774902879665e-7 2.2995070102395087e-6 2.409392990257591e-7; 9.362729391122228e-8 -5.184739860164263e-7 -1.8503709925721437e-7 3.1667315126975086e-5 2.2952692075606837e-8 1.4156220428495185e-6 9.302839600842665e-8; -4.386791523157768e-9 2.3957676670964306e-8 8.800050547022203e-9 -1.4566034068557096e-6 -5.094013217110899e-9 -4.229557867809726e-8 -4.3671639600439004e-9; 2.1547337838676814e-9 -1.2548611169006537e-8 -4.563565858559367e-9 7.655388603919235e-7 1.1375526682273566e-8 2.3190442360280577e-8 2.2434192921309108e-9; 6.940232950663992e-10 -4.019331677611499e-9 -1.606303970897597e-9 2.480730980098363e-7 2.0174544656497903e-9 1.3341835568794901e-8 7.220540197484644e-10; 0.0 0.0 0.0 0.0 0.0 0.0 1.0e-14]\n",
    "#∂Φ_t_t0 = [1.5505725890744394e-7 -8.065138960234508e-7 -2.9612099713983164e-7 4.9219775767207374e-5 -1.9393036875306423e-7 1.2771618237621119e-6 1.4975599753895634e-7; 2.433646527468942e-7 -1.3428903392448644e-6 -4.952323266529203e-7 8.238308736395066e-5 6.036775515203671e-7 2.2995070117750664e-6 2.4093929866218747e-7; 9.362729405772027e-8 -5.184739835424562e-7 -1.8503709822756422e-7 3.1667314980474334e-5 2.295271578416184e-8 1.415622042267697e-6 9.302839579174141e-8; -4.386791533031243e-9 2.395767657392665e-8 8.800050506253256e-9 -1.4566034011485686e-6 -5.0940143057947695e-9 -4.229557869810091e-8 -4.3671639534052855e-9; 2.1547337901870286e-9 -1.2548611124284238e-8 -4.5635658394999125e-9 7.65538857769176e-7 1.1375527256645423e-8 2.3190442377681396e-8 2.2434192895049333e-9; 6.940232973784943e-10 -4.0193316645936325e-9 -1.6063039651464028e-9 2.4807309724525324e-7 2.0174546480435985e-9 1.3341835586597107e-8 7.220540191485833e-10; 0.0 0.0 0.0 0.0 0.0 0.0 1.0e-14]\n",
    "\n",
    "# covariance matrix at 2008-Sep-24 epoch\n",
    "#Γ_OR7_NEW = diagm(vcat(1e8ones(6), 1e14))*( (∂Φ_t_t0)*Γ_OR7_NEW_2020dec17*(∂Φ_t_t0') )*diagm(vcat(1e8ones(6), 1e14))"
   ]
  },
  {
   "cell_type": "markdown",
   "metadata": {},
   "source": [
    "# Cholesky factorization of covariance matrix"
   ]
  },
  {
   "cell_type": "code",
   "execution_count": null,
   "metadata": {},
   "outputs": [],
   "source": [
    "Hermitian(Γ_OR7) - Γ_OR7"
   ]
  },
  {
   "cell_type": "code",
   "execution_count": null,
   "metadata": {},
   "outputs": [],
   "source": [
    "norm(Hermitian(Γ_OR7) - Γ_OR7)"
   ]
  },
  {
   "cell_type": "code",
   "execution_count": null,
   "metadata": {},
   "outputs": [],
   "source": []
  },
  {
   "cell_type": "code",
   "execution_count": null,
   "metadata": {},
   "outputs": [],
   "source": [
    "Γ_O6_cholf = cholesky(Hermitian(Γ_O6[1:6,1:6]))\n",
    "Γ_O7_cholf = cholesky(Hermitian(Γ_O7))\n",
    "Γ_R_cholf = cholesky(Hermitian(Γ_R))\n",
    "Γ_OR7_cholf = cholesky(Hermitian(Γ_OR7))\n",
    "Γ_OR6_cholf = cholesky(Hermitian(Γ_OR6[1:6,1:6]))\n",
    "Γ_OR7_NEW_cholf = cholesky(Hermitian(Γ_OR7_NEW))\n",
    "Γ_OR7_v15_cholf = cholesky(Hermitian((Γ_OR7_v15 + transpose(Γ_OR7_v15))/2))\n",
    ";"
   ]
  },
  {
   "cell_type": "code",
   "execution_count": null,
   "metadata": {},
   "outputs": [],
   "source": [
    "Γ_O6_cU = Γ_O6_cholf.U\n",
    "Γ_O6_cL = Γ_O6_cholf.L\n",
    "\n",
    "Γ_O7_cU = Γ_O7_cholf.U\n",
    "Γ_O7_cL = Γ_O7_cholf.L\n",
    "\n",
    "Γ_R_cU = Γ_R_cholf.U\n",
    "Γ_R_cL = Γ_R_cholf.L\n",
    "\n",
    "Γ_OR7_cU = Γ_OR7_cholf.U\n",
    "Γ_OR7_cL = Γ_OR7_cholf.L\n",
    "\n",
    "Γ_OR6_cU = Γ_OR6_cholf.U\n",
    "Γ_OR6_cL = Γ_OR6_cholf.L\n",
    "\n",
    "Γ_OR7_NEW_cU = Γ_OR7_NEW_cholf.U\n",
    "Γ_OR7_NEW_cL = Γ_OR7_NEW_cholf.L\n",
    "\n",
    "Γ_OR7_v15_cU = Γ_OR7_v15_cholf.U\n",
    "Γ_OR7_v15_cL = Γ_OR7_v15_cholf.L;"
   ]
  },
  {
   "cell_type": "code",
   "execution_count": null,
   "metadata": {},
   "outputs": [],
   "source": [
    "x_OR7"
   ]
  },
  {
   "cell_type": "code",
   "execution_count": null,
   "metadata": {},
   "outputs": [],
   "source": [
    "σ_OR7 = sqrt.(diag(Γ_OR7))"
   ]
  },
  {
   "cell_type": "code",
   "execution_count": null,
   "metadata": {},
   "outputs": [],
   "source": [
    "sqrt.(diag(Γ_OR7)) .* vcat(1e-8ones(6), 1e-14)"
   ]
  },
  {
   "cell_type": "markdown",
   "metadata": {},
   "source": [
    "## $\\Gamma$ matrix eigenvalues/vectors"
   ]
  },
  {
   "cell_type": "code",
   "execution_count": null,
   "metadata": {},
   "outputs": [],
   "source": [
    "# Compute nominal initial condition in au, au/day, au/day^2\n",
    "q0_OR7 = NEOs.initialcond(vcat(1e-8ones(6), 1e-14).*x_OR7)"
   ]
  },
  {
   "cell_type": "code",
   "execution_count": null,
   "metadata": {},
   "outputs": [],
   "source": [
    "# relative scalings analogous to Milani (2005)\n",
    "scaling_milani_2005 = vcat(  (1/norm(q0_OR7[1:3]))*ones(3), (1/norm(q0_OR7[4:6]))*ones(3), 1/norm(q0_OR7[7])  )"
   ]
  },
  {
   "cell_type": "code",
   "execution_count": null,
   "metadata": {},
   "outputs": [],
   "source": [
    "# jet transport propagation scaling\n",
    "jt_scaling = vcat(1e-8ones(6), 1e-14)"
   ]
  },
  {
   "cell_type": "code",
   "execution_count": null,
   "metadata": {},
   "outputs": [],
   "source": [
    "# compute cov matrix with relative scalings\n",
    "Γ_OR7_scm05 = diagm(scaling_milani_2005) * ( diagm(jt_scaling)*Γ_OR7*diagm(jt_scaling) ) * diagm(scaling_milani_2005)"
   ]
  },
  {
   "cell_type": "code",
   "execution_count": null,
   "metadata": {},
   "outputs": [],
   "source": [
    "# compute normal matrix with relative scalings\n",
    "C_OR7_scm05 = inv(Γ_OR7_scm05)"
   ]
  },
  {
   "cell_type": "code",
   "execution_count": null,
   "metadata": {},
   "outputs": [],
   "source": [
    "# compute eigenvalues, eigenvectors of normal matrix with relative scalings\n",
    "C_eig_OR7_scm05 = eigen(C_OR7_scm05)"
   ]
  },
  {
   "cell_type": "code",
   "execution_count": null,
   "metadata": {
    "tags": []
   },
   "outputs": [],
   "source": [
    "# revert eigenvector of \"weak\" direction to JT scaling\n",
    "C_eig_OR7_scm05.vectors[:,1]./scaling_milani_2005./jt_scaling"
   ]
  },
  {
   "cell_type": "markdown",
   "metadata": {},
   "source": [
    "### Generating samples from cov matrices\n",
    "\n",
    "Confidence ellipsoids are defined by\n",
    "$$\n",
    "(\\tilde{x}-x^\\star)^T C (\\tilde{x}-x^\\star) = \\sigma^2\n",
    "$$\n",
    "where $C$ is the normal matrix (essentially, the Hessian) with size $N\\times N$, where $N$ is the number of degrees of freedom of the orbit determination. That is,  $N=6$ when dealing only with positions and velocities, and $N=7$ when dealing with positions, velocities and $A_2$, i.e., the Yarkovsky non-gravitational parameter. The covariance matrix is $\\Gamma=C^{-1}$.\n",
    "\n",
    "\n",
    "According to Bierman (1977) do this using the square-root information matrix., in order to sample an ensemble of initial conditions with zero mean and covariance $\\Gamma$, we may perform a Cholesky factorization on $\\Gamma$:\n",
    "$$\n",
    "\\Gamma = L R\n",
    "$$\n",
    "where $L$ and $R$ are called, respectively, the left and right factors of the Cholesky factorization. The $L$ and $R$ matrices are, respectively, lower and upper triangular matrices. Now, let $w$ denote a zero-mean, unit standard-deviation random $N$-vector (i.e., an $N$-vector whose components are each a random number sampled from a normal distribution). Further, let $\\hat{x}$ denote the nominal solution. Then\n",
    "$$\n",
    "\\hat{x} + L \\cdot w\n",
    "$$\n",
    "is a random $N$-vector with mean equal to the nominal solution and covariance $\\Gamma$ (Bierman, 1977; Chodas and Yeomans, 1999).  Thus, in order to generate random samples from the covariance matrix, it suffices to multiply the left Cholesky factor by 6-vectors of normal random samples, as done below."
   ]
  },
  {
   "cell_type": "markdown",
   "metadata": {},
   "source": [
    "$\\Gamma_{new} = J^T \\Gamma * J$"
   ]
  },
  {
   "cell_type": "markdown",
   "metadata": {},
   "source": [
    "### 6-variable, optical-only covariance matrix"
   ]
  },
  {
   "cell_type": "code",
   "execution_count": null,
   "metadata": {},
   "outputs": [],
   "source": [
    "#Hermitian(Γ_O6)"
   ]
  },
  {
   "cell_type": "code",
   "execution_count": null,
   "metadata": {},
   "outputs": [],
   "source": [
    "# recovering the covariance matrix from cholesky(Γ).L*randn(6)\n",
    "#cov(map(x->Γ_O6_cholf.L*randn(6), 1:100000))"
   ]
  },
  {
   "cell_type": "markdown",
   "metadata": {},
   "source": [
    "### 7-variable, optical+radar covariance matrix"
   ]
  },
  {
   "cell_type": "code",
   "execution_count": null,
   "metadata": {},
   "outputs": [],
   "source": [
    "#Hermitian(Γ_OR7)"
   ]
  },
  {
   "cell_type": "code",
   "execution_count": null,
   "metadata": {},
   "outputs": [],
   "source": [
    "# recovering the covariance matrix from cholesky(Γ).L*randn(7)\n",
    "#cov(map(x->Γ_OR7_cholf.L*randn(7), 1:100000))"
   ]
  },
  {
   "cell_type": "markdown",
   "metadata": {},
   "source": [
    "# 2029 B-plane"
   ]
  },
  {
   "cell_type": "code",
   "execution_count": null,
   "metadata": {},
   "outputs": [],
   "source": [
    "#t_2029 = tvS1[47];\n",
    "t_2029 = tvS1[19];"
   ]
  },
  {
   "cell_type": "code",
   "execution_count": null,
   "metadata": {},
   "outputs": [],
   "source": [
    "t_2029()"
   ]
  },
  {
   "cell_type": "code",
   "execution_count": null,
   "metadata": {},
   "outputs": [],
   "source": [
    "#jd0 = datetime2julian(DateTime(2008,9,24))\n",
    "jd0 = datetime2julian(DateTime(2020,12,17))"
   ]
  },
  {
   "cell_type": "code",
   "execution_count": null,
   "metadata": {},
   "outputs": [],
   "source": [
    "julian2datetime(constant_term(jd0+t_2029))"
   ]
  },
  {
   "cell_type": "code",
   "execution_count": null,
   "metadata": {},
   "outputs": [],
   "source": [
    "ss16asteph.t0"
   ]
  },
  {
   "cell_type": "code",
   "execution_count": null,
   "metadata": {},
   "outputs": [],
   "source": [
    "Nm1 = (size(ss16asteph.x)[2]-13) ÷ 6\n",
    "N = Nm1 + 1"
   ]
  },
  {
   "cell_type": "code",
   "execution_count": null,
   "metadata": {},
   "outputs": [],
   "source": [
    "ss16asteph.t[2]"
   ]
  },
  {
   "cell_type": "code",
   "execution_count": null,
   "metadata": {},
   "outputs": [],
   "source": [
    "constant_term(t_2029)/365.25"
   ]
  },
  {
   "cell_type": "code",
   "execution_count": null,
   "metadata": {},
   "outputs": [],
   "source": [
    "((jd0-J2000)+t_2029())/365.25"
   ]
  },
  {
   "cell_type": "code",
   "execution_count": null,
   "metadata": {
    "scrolled": true
   },
   "outputs": [],
   "source": [
    "ss16asteph_2029 = ss16asteph(((jd0-J2000)+t_2029)*daysec)\n",
    "\n",
    "# Earth's barycentric pos/vel at Apophis 2029 CA as a function of A2\n",
    "xe_2029 = ss16asteph_2029[nbodyind(Nm1, ea)];\n",
    "# Sun's barycentric pos/vel at Apophis 2029 CA as a function of A2\n",
    "xs_2029 = ss16asteph_2029[nbodyind(Nm1, su)];"
   ]
  },
  {
   "cell_type": "code",
   "execution_count": null,
   "metadata": {},
   "outputs": [],
   "source": [
    "#apophis_2029 = xvS1[47,1:6];\n",
    "apophis_2029 = xvS1[19,1:6];"
   ]
  },
  {
   "cell_type": "code",
   "execution_count": null,
   "metadata": {},
   "outputs": [],
   "source": [
    "# Earth's heliocentric pos/vel at Apophis 2029 CA as a function of A2\n",
    "xes_2029 = xe_2029 - xs_2029\n",
    "# Apophis' heliocentric pos/vel at Apophis 2029 CA as a function of A2\n",
    "xae_2029 = apophis_2029 - xe_2029;"
   ]
  },
  {
   "cell_type": "code",
   "execution_count": null,
   "metadata": {},
   "outputs": [],
   "source": [
    "a_es_2029 = semimajoraxis(xes_2029..., μ[1], μ[4])()"
   ]
  },
  {
   "cell_type": "code",
   "execution_count": null,
   "metadata": {},
   "outputs": [],
   "source": [
    "B_2029 = bopik(xae_2029, xes_2029);"
   ]
  },
  {
   "cell_type": "code",
   "execution_count": null,
   "metadata": {},
   "outputs": [],
   "source": [
    "res_2029 = sqrt(xes_2029[1](x_OR7)^2 + xes_2029[2](x_OR7)^2 + xes_2029[3](x_OR7)^2)"
   ]
  },
  {
   "cell_type": "code",
   "execution_count": null,
   "metadata": {},
   "outputs": [],
   "source": [
    "#norm([B_2029.ξ(x_OR7), B_2029.ζ(x_OR7)])*RE # B 2029 [km]"
   ]
  },
  {
   "cell_type": "code",
   "execution_count": null,
   "metadata": {},
   "outputs": [],
   "source": [
    "# 16 ast\n",
    "norm([B_2029.ξ(x_OR7_NEW), B_2029.ζ(x_OR7_NEW)])*RE # B 2029 [km]\n",
    "# 48301.121048684974"
   ]
  },
  {
   "cell_type": "code",
   "execution_count": null,
   "metadata": {},
   "outputs": [],
   "source": [
    "# 32 ast\n",
    "norm([B_2029.ξ(x_OR7_NEW), B_2029.ζ(x_OR7_NEW)])*RE # B 2029 [km]\n",
    "# 48301.11913003164"
   ]
  },
  {
   "cell_type": "code",
   "execution_count": null,
   "metadata": {},
   "outputs": [],
   "source": [
    "48301.11913003164 - 48301.121048684974"
   ]
  },
  {
   "cell_type": "markdown",
   "metadata": {},
   "source": [
    "# Valsecchi circles"
   ]
  },
  {
   "cell_type": "markdown",
   "metadata": {},
   "source": [
    "We compute Valsecchi circles as a function of the components of the unperturbed planetocentric velocity vector $\\mathbf{U}$ of Apophis in a coordinate frame $(X,Y,Z)$ such that the $Y$-axis is along the heliocentric velocity vector of the planet. It is enough to have the $U_y=U\\cos\\theta$ component and the norm $U=|\\mathbf{U}|$, where $\\theta$ is the angle between the $Y$-axis and $\\mathbf{U}$. Furthermore, $\\mathbf{U}$ should be in units such that the planet's heliocentric velocity is 1."
   ]
  },
  {
   "cell_type": "code",
   "execution_count": null,
   "metadata": {},
   "outputs": [],
   "source": [
    "res_2029"
   ]
  },
  {
   "cell_type": "code",
   "execution_count": null,
   "metadata": {},
   "outputs": [],
   "source": [
    "B_Uy_2029 = B_2029.U.y(x_OR6)\n",
    "#B_Uy_2029 = B_2029.U.y(x_OR7_NEW)\n",
    "#B_Uy_2029 = B_2029.U.y()"
   ]
  },
  {
   "cell_type": "code",
   "execution_count": null,
   "metadata": {},
   "outputs": [],
   "source": [
    "B_Unorm_2029 = B_2029.U.norm(x_OR6)\n",
    "#B_Unorm_2029 = B_2029.U.norm(x_OR7_NEW)\n",
    "#B_Unorm_2029 = B_2029.U.norm()"
   ]
  },
  {
   "cell_type": "code",
   "execution_count": null,
   "metadata": {},
   "outputs": [],
   "source": [
    "R_, D_ = valsecchi_circle(B_Uy_2029, B_Unorm_2029, 7, 6, a_pl=a_es_2029)\n",
    "D_Valsecchi_7_6 = D_/(PlanetaryEphemeris.RE)*au #/(1+0.0167)\n",
    "R_Valsecchi_7_6 = R_/(PlanetaryEphemeris.RE)*au #/(1+0.0167)\n",
    "D_Valsecchi_7_6, R_Valsecchi_7_6, D_Valsecchi_7_6-R_Valsecchi_7_6"
   ]
  },
  {
   "cell_type": "code",
   "execution_count": null,
   "metadata": {},
   "outputs": [],
   "source": [
    "R_, D_ = valsecchi_circle(B_Uy_2029, B_Unorm_2029, 6, 5, a_pl=a_es_2029)\n",
    "D_Valsecchi_6_5 = D_/(PlanetaryEphemeris.RE)*au #/(1+0.0167)\n",
    "R_Valsecchi_6_5 = R_/(PlanetaryEphemeris.RE)*au #/(1+0.0167)\n",
    "D_Valsecchi_6_5, R_Valsecchi_6_5, D_Valsecchi_6_5-R_Valsecchi_6_5"
   ]
  },
  {
   "cell_type": "code",
   "execution_count": null,
   "metadata": {},
   "outputs": [],
   "source": [
    "R_, D_ = valsecchi_circle(B_Uy_2029, B_Unorm_2029, 8, 7, a_pl=a_es_2029)\n",
    "D_Valsecchi_8_7 = D_/(PlanetaryEphemeris.RE)*au #/(1+0.0167)\n",
    "R_Valsecchi_8_7 = R_/(PlanetaryEphemeris.RE)*au #/(1+0.0167)\n",
    "D_Valsecchi_8_7, R_Valsecchi_8_7, D_Valsecchi_8_7-R_Valsecchi_8_7"
   ]
  },
  {
   "cell_type": "code",
   "execution_count": null,
   "metadata": {},
   "outputs": [],
   "source": [
    "R_, D_ = valsecchi_circle(B_Uy_2029, B_Unorm_2029, 39, 34, a_pl=a_es_2029)\n",
    "D_Valsecchi_39_34 = D_/(PlanetaryEphemeris.RE)*au #/(1+0.0167)\n",
    "R_Valsecchi_39_34 = R_/(PlanetaryEphemeris.RE)*au #/(1+0.0167)\n",
    "D_Valsecchi_39_34, R_Valsecchi_39_34, D_Valsecchi_39_34-R_Valsecchi_39_34"
   ]
  },
  {
   "cell_type": "code",
   "execution_count": null,
   "metadata": {},
   "outputs": [],
   "source": [
    "R_, D_ = valsecchi_circle(B_Uy_2029, B_Unorm_2029, 39, 33, a_pl=a_es_2029)\n",
    "D_Valsecchi_39_33 = D_/(PlanetaryEphemeris.RE)*au #/(1+0.0167)\n",
    "R_Valsecchi_39_33 = R_/(PlanetaryEphemeris.RE)*au #/(1+0.0167)\n",
    "D_Valsecchi_39_33, R_Valsecchi_39_33, D_Valsecchi_39_33-R_Valsecchi_39_33"
   ]
  },
  {
   "cell_type": "code",
   "execution_count": null,
   "metadata": {},
   "outputs": [],
   "source": [
    "A2_JPL = -5.592840054057059\n",
    "σ_A2_JPL = 2.201"
   ]
  },
  {
   "cell_type": "code",
   "execution_count": null,
   "metadata": {},
   "outputs": [],
   "source": [
    "npoints = 3000\n",
    "# note: no sigma factor needed here, since enclosing volume already contains ~3-sigma\n",
    "rndvv = [randn(7) for i in 1:npoints];"
   ]
  },
  {
   "cell_type": "code",
   "execution_count": null,
   "metadata": {},
   "outputs": [],
   "source": [
    "# sample uniformly random points on N-hypersphere\n",
    "# code borrowed from http://corysimon.github.io/articles/uniformdistn-on-sphere/\n",
    "function rand_sph(ndimsphere)\n",
    "    v = zeros(ndimsphere)  # initialize so we go into the while loop\n",
    "    while norm(v) < 0.0001\n",
    "        v = randn(ndimsphere)\n",
    "    end\n",
    "    return v/norm(v)  # normalize to unit norm and return\n",
    "end"
   ]
  },
  {
   "cell_type": "code",
   "execution_count": null,
   "metadata": {},
   "outputs": [],
   "source": [
    "# generate `npoints` points on 7-dim hypersphere\n",
    "#rndvv = [sigma_factor*rand_sph(7) for i in 1:npoints];"
   ]
  },
  {
   "cell_type": "code",
   "execution_count": null,
   "metadata": {},
   "outputs": [],
   "source": [
    "dxv_O6 = map(x->(x_O6 .+ vcat(Γ_O6_cL*x[1:6],0.0) ), rndvv)\n",
    "dxv_O7 = map(x->(x_O7 .+ Γ_O7_cL*x ), rndvv)\n",
    "dxv_R = map(x->(x_R .+ Γ_R_cL*x ), rndvv)\n",
    "dxv_OR7 = map(x->(x_OR7 .+ Γ_OR7_cL*x ), rndvv)\n",
    "dxv_OR6 = map(x->(x_OR6 .+ vcat(Γ_OR6_cL*x[1:6],0.0) ), rndvv)\n",
    "dxv_OR7_NEW = map(x->(x_OR7_NEW .+ Γ_OR7_NEW_cL*x ), rndvv)\n",
    "\n",
    ";"
   ]
  },
  {
   "cell_type": "code",
   "execution_count": null,
   "metadata": {},
   "outputs": [],
   "source": [
    "# optical-only solution, no Yarkovsky\n",
    "B_dot_ξv_O6 = B_2029.ξ.(dxv_O6)\n",
    "B_dot_ζv_O6 = B_2029.ζ.(dxv_O6)\n",
    "\n",
    "# optical-only solution\n",
    "B_dot_ξv_O7 = B_2029.ξ.(dxv_O7)\n",
    "B_dot_ζv_O7 = B_2029.ζ.(dxv_O7)\n",
    "\n",
    "# radar-only solution\n",
    "B_dot_ξv_R = B_2029.ξ.(dxv_R)\n",
    "B_dot_ζv_R = B_2029.ζ.(dxv_R)\n",
    "\n",
    "# optical+radar solution\n",
    "B_dot_ξv_OR7 = B_2029.ξ.(dxv_OR7)\n",
    "B_dot_ζv_OR7 = B_2029.ζ.(dxv_OR7)\n",
    "\n",
    "# optical+radar solution, no Yarkovsky\n",
    "B_dot_ξv_OR6 = B_2029.ξ.(dxv_OR6)\n",
    "B_dot_ζv_OR6 = B_2029.ζ.(dxv_OR6)\n",
    "\n",
    "# optical+radar nominal solution\n",
    "B_dot_ξ0 = B_2029.ξ(x_OR7)\n",
    "B_dot_ζ0 = B_2029.ζ(x_OR7)\n",
    "\n",
    "B_dot_ξv_OR7_NEW = B_2029.ξ.(dxv_OR7_NEW)\n",
    "B_dot_ζv_OR7_NEW = B_2029.ζ.(dxv_OR7_NEW)\n",
    ";"
   ]
  },
  {
   "cell_type": "code",
   "execution_count": null,
   "metadata": {},
   "outputs": [],
   "source": [
    "BB_OR7 = sqrt.(B_dot_ξv_OR7.^2 + B_dot_ζv_OR7.^2)*au/RE;"
   ]
  },
  {
   "cell_type": "code",
   "execution_count": null,
   "metadata": {},
   "outputs": [],
   "source": [
    "BB_OR7_NEW = sqrt.(B_dot_ξv_OR7_NEW.^2 + B_dot_ζv_OR7_NEW.^2)*au/RE;"
   ]
  },
  {
   "cell_type": "code",
   "execution_count": null,
   "metadata": {},
   "outputs": [],
   "source": [
    "# impact probability a la Monte Carlo\n",
    "count(x->x < B_2029.b(), BB_OR7)/length(BB_OR7)"
   ]
  },
  {
   "cell_type": "code",
   "execution_count": null,
   "metadata": {},
   "outputs": [],
   "source": []
  },
  {
   "cell_type": "code",
   "execution_count": null,
   "metadata": {},
   "outputs": [],
   "source": [
    "# Jacobian of transformation from initial conditions to B.ξ, B.ζ coordinates on target plane\n",
    "t_x2B = hcat(TaylorSeries.gradient(B_2029.ξ), TaylorSeries.gradient(B_2029.ζ));\n",
    "size(t_x2B)"
   ]
  },
  {
   "cell_type": "code",
   "execution_count": null,
   "metadata": {},
   "outputs": [],
   "source": [
    "# transform cov matrix to B-plane coords\n",
    "Γ_B_O6 = Hermitian(t_x2B(x_O6)[1:6,:]'*Γ_O6[1:6,1:6]*(t_x2B(x_O6)[1:6,:]))\n",
    "# get cholesky-L factor\n",
    "L_B_O6 = cholesky(Γ_B_O6).L \n",
    "\n",
    "# repeat for each solution and corresponding cov matrix\n",
    "\n",
    "Γ_B_O7 = Hermitian(t_x2B(x_O7)'*Γ_O7*(t_x2B(x_O7)))\n",
    "L_B_O7 = cholesky(Γ_B_O7).L\n",
    "\n",
    "Γ_B_R = Hermitian(t_x2B(x_R)'*Γ_R*(t_x2B(x_R)))\n",
    "L_B_R = cholesky(Γ_B_R).L\n",
    "\n",
    "Γ_B_OR7 = Hermitian(t_x2B(x_OR7)'*Γ_OR7*(t_x2B(x_OR7)))\n",
    "L_B_OR7 = cholesky(Γ_B_OR7).L\n",
    "\n",
    "Γ_B_OR6 = Hermitian(t_x2B(x_OR6)[1:6,:]'*Γ_OR6[1:6,1:6]*(t_x2B(x_OR6)[1:6,:]))\n",
    "L_B_OR6 = cholesky(Γ_B_OR6).L\n",
    "\n",
    "Γ_B_OR7_NEW = Hermitian(t_x2B(x_OR7_NEW)'*Γ_OR7_NEW*(t_x2B(x_OR7_NEW)))\n",
    "L_B_OR7_NEW = cholesky(Γ_B_OR7_NEW).L\n",
    "\n",
    "Γ_B_OR7_v15 = Hermitian(t_x2B(x_OR7_v15)'*Γ_OR7_v15*(t_x2B(x_OR7_v15)))\n",
    "L_B_OR7_v15 = cholesky(Γ_B_OR7_v15).L\n",
    ";"
   ]
  },
  {
   "cell_type": "code",
   "execution_count": null,
   "metadata": {},
   "outputs": [],
   "source": [
    "sigma_factor = 3\n",
    "sigma_factor_5 = 5"
   ]
  },
  {
   "cell_type": "code",
   "execution_count": null,
   "metadata": {},
   "outputs": [],
   "source": [
    "angv = vcat(0:0.001:2pi, 0);"
   ]
  },
  {
   "cell_type": "code",
   "execution_count": null,
   "metadata": {},
   "outputs": [],
   "source": [
    "# sample points on 2-dim unit sphere\n",
    "\n",
    "#rndvv_2sph = [sigma_factor*rand_sph(2) for i in 1:500]\n",
    "#rndv_2sph_ξ = [rndvv_2sph[i][1] for i in 1:size(rndvv_2sph)[1]]\n",
    "#rndv_2sph_ζ = [rndvv_2sph[i][2] for i in 1:size(rndvv_2sph)[1]];\n",
    "\n",
    "# on 2-dim unit sphere (unit 1-sphere?), things are as easy as sampling the (3) unit circle...\n",
    "rndv_2sph_ξ = sigma_factor*cos.(angv)\n",
    "rndv_2sph_ζ = sigma_factor*sin.(angv);\n",
    "\n",
    "rndv_2sph_ξ_5 = sigma_factor_5*cos.(angv)\n",
    "rndv_2sph_ζ_5 = sigma_factor_5*sin.(angv);"
   ]
  },
  {
   "cell_type": "code",
   "execution_count": null,
   "metadata": {},
   "outputs": [],
   "source": [
    "# then, project points from circle with radius 3 (i.e., locus of 3-sigma random points) onto B-plane coordinates\n",
    "\n",
    "B_ξ_3σ_ell_O6 = (B_2029.ξ(x_O6) .+ L_B_O6[1,1]*rndv_2sph_ξ .+ L_B_O6[1,2]*rndv_2sph_ζ)\n",
    "B_ζ_3σ_ell_O6 = (B_2029.ζ(x_O6) .+ L_B_O6[2,1]*rndv_2sph_ξ .+ L_B_O6[2,2]*rndv_2sph_ζ)\n",
    "\n",
    "B_ξ_3σ_ell_O7 = (B_2029.ξ(x_O7) .+ L_B_O7[1,1]*rndv_2sph_ξ .+ L_B_O7[1,2]*rndv_2sph_ζ)\n",
    "B_ζ_3σ_ell_O7 = (B_2029.ζ(x_O7) .+ L_B_O7[2,1]*rndv_2sph_ξ .+ L_B_O7[2,2]*rndv_2sph_ζ)\n",
    "\n",
    "B_ξ_3σ_ell_R = (B_2029.ξ(x_R) .+ L_B_R[1,1]*rndv_2sph_ξ .+ L_B_R[1,2]*rndv_2sph_ζ)\n",
    "B_ζ_3σ_ell_R = (B_2029.ζ(x_R) .+ L_B_R[2,1]*rndv_2sph_ξ .+ L_B_R[2,2]*rndv_2sph_ζ)\n",
    "\n",
    "B_ξ_3σ_ell_OR7 = (B_2029.ξ(x_OR7) .+ L_B_OR7[1,1]*rndv_2sph_ξ .+ L_B_OR7[1,2]*rndv_2sph_ζ)\n",
    "B_ζ_3σ_ell_OR7 = (B_2029.ζ(x_OR7) .+ L_B_OR7[2,1]*rndv_2sph_ξ .+ L_B_OR7[2,2]*rndv_2sph_ζ)\n",
    "\n",
    "B_ξ_3σ_ell_OR7_NEW = (B_2029.ξ(x_OR7_NEW) .+ L_B_OR7_NEW[1,1]*rndv_2sph_ξ .+ L_B_OR7_NEW[1,2]*rndv_2sph_ζ)\n",
    "B_ζ_3σ_ell_OR7_NEW = (B_2029.ζ(x_OR7_NEW) .+ L_B_OR7_NEW[2,1]*rndv_2sph_ξ .+ L_B_OR7_NEW[2,2]*rndv_2sph_ζ)\n",
    "\n",
    "B_ξ_3σ_ell_OR7_v15 = (B_2029.ξ(x_OR7_v15) .+ L_B_OR7_v15[1,1]*rndv_2sph_ξ .+ L_B_OR7_v15[1,2]*rndv_2sph_ζ)\n",
    "B_ζ_3σ_ell_OR7_v15 = (B_2029.ζ(x_OR7_v15) .+ L_B_OR7_v15[2,1]*rndv_2sph_ξ .+ L_B_OR7_v15[2,2]*rndv_2sph_ζ)\n",
    "\n",
    "B_ξ_3σ_ell_OR6 = (B_2029.ξ(x_OR6) .+ L_B_OR6[1,1]*rndv_2sph_ξ .+ L_B_OR6[1,2]*rndv_2sph_ζ)\n",
    "B_ζ_3σ_ell_OR6 = (B_2029.ζ(x_OR6) .+ L_B_OR6[2,1]*rndv_2sph_ξ .+ L_B_OR6[2,2]*rndv_2sph_ζ)\n",
    "\n",
    "# 5-sigma\n",
    "B_ξ_5σ_ell_OR7 = (B_2029.ξ(x_OR7) .+ L_B_OR7[1,1]*rndv_2sph_ξ_5 .+ L_B_OR7[1,2]*rndv_2sph_ζ_5)\n",
    "B_ζ_5σ_ell_OR7 = (B_2029.ζ(x_OR7) .+ L_B_OR7[2,1]*rndv_2sph_ξ_5 .+ L_B_OR7[2,2]*rndv_2sph_ζ_5)\n",
    ";"
   ]
  },
  {
   "cell_type": "code",
   "execution_count": null,
   "metadata": {},
   "outputs": [],
   "source": []
  },
  {
   "cell_type": "code",
   "execution_count": null,
   "metadata": {},
   "outputs": [],
   "source": [
    "plotly()\n",
    "#gr()\n",
    "#pgfplotsx()"
   ]
  },
  {
   "cell_type": "code",
   "execution_count": null,
   "metadata": {},
   "outputs": [],
   "source": [
    "#scatter(\n",
    "#    B_dot_ξv_OR7,\n",
    "#    B_dot_ζv_OR7,\n",
    "#    label=\"JTMC, OR7\",\n",
    "#    marker=:circle, ms=1.0, markerstrokewidth = 0, msc=:auto # match marker stroke color\n",
    "#)\n",
    "plot(\n",
    "    B_ξ_3σ_ell_OR7,\n",
    "    B_ζ_3σ_ell_OR7,\n",
    "    label=\"3-σ, OR7\",\n",
    "    leg=:outertopright,\n",
    "    aspectratio=0.75\n",
    "    #marker=:circle, ms=1.0, markerstrokewidth = 0, msc=:auto # match marker stroke color\n",
    ")\n",
    "plot!(\n",
    "    B_ξ_3σ_ell_OR7_NEW,\n",
    "    B_ζ_3σ_ell_OR7_NEW,\n",
    "    label=\"3-σ, OR7\",\n",
    "    #marker=:circle, ms=1.0, markerstrokewidth = 0, msc=:auto # match marker stroke color\n",
    ")\n",
    "plot!(\n",
    "    B_ξ_5σ_ell_OR7,\n",
    "    B_ζ_5σ_ell_OR7,\n",
    "    label=\"5-σ, OR7\",\n",
    "    #marker=:circle, ms=1.0, markerstrokewidth = 0, msc=:auto # match marker stroke color\n",
    ")\n",
    "scatter!([B_dot_ξ0],\n",
    "    [B_dot_ζ0],\n",
    "    label=\"nominal, OR7\",\n",
    "    marker=:circle, ms=3.0,\n",
    ")\n",
    "#scatter!(\n",
    "#    B_dot_ξv_OR6,\n",
    "#    B_dot_ζv_OR6,\n",
    "#    label=\"JTMC, OR6 (A2=0)\",\n",
    "#    marker=:circle, ms=1.0, markerstrokewidth = 0, msc=:auto # match marker stroke color\n",
    "#)\n",
    "plot!(\n",
    "    B_ξ_3σ_ell_OR6,\n",
    "    B_ζ_3σ_ell_OR6,\n",
    "    label=\"3-σ, OR6 (A2=0)\",\n",
    "    #marker=:circle, ms=1.0, markerstrokewidth = 0, msc=:auto # match marker stroke color\n",
    ")\n",
    "scatter!([B_2029.ξ(x_OR6)],\n",
    "    [B_2029.ζ(x_OR6)],\n",
    "    label=\"nominal, OR6 (A2=0)\",\n",
    "    marker=:circle, ms=3.0,\n",
    ")\n",
    "scatter!([B_2029.ξ(x_OR7_NEW)],\n",
    "    [B_2029.ζ(x_OR7_NEW)],\n",
    "    label=\"nominal, OR7_NEW\",\n",
    "    marker=:circle, ms=3.0,\n",
    ")\n",
    "plot!(cos.(angv), sin.(angv), label=\"Earth radius\")\n",
    "plot!(B_2029.b()*cos.(angv), B_2029.b()*sin.(angv), label=\"Earth cross section\")\n",
    "plot!(\n",
    "    R_Valsecchi_8_7*cos.(angv), \n",
    "    D_Valsecchi_8_7.+R_Valsecchi_8_7*sin.(angv), \n",
    "    label=\"2037 Valsecchi circle (8:7)\",\n",
    "    #aspectratio=0.8,#1,\n",
    "    #legend=false,\n",
    ")\n",
    "plot!(\n",
    "    R_Valsecchi_7_6*cos.(angv), \n",
    "    D_Valsecchi_7_6.+R_Valsecchi_7_6*sin.(angv), \n",
    "    label=\"2036 Valsecchi circle (7:6)\",\n",
    ")\n",
    "plot!(\n",
    "    R_Valsecchi_39_34*cos.(angv), \n",
    "    D_Valsecchi_39_34.+R_Valsecchi_39_34*sin.(angv), \n",
    "    label=\"2068 Valsecchi circle (39:34)\",\n",
    ")\n",
    "#plot!(\n",
    "#    R_Valsecchi_39_33*cos.(angv), \n",
    "#    D_Valsecchi_39_33.+R_Valsecchi_39_33*sin.(angv), \n",
    "#    label=\"2068 Valsecchi circle (39:33)\",\n",
    "#)\n",
    "xlabel!(\"B.ξ [Earth radii]\")\n",
    "ylabel!(\"B.ζ [Earth radii]\")\n",
    "title!(\"B-plane (Öpik's frame)\")\n",
    "xlims!(-5, 5)\n",
    "xticks!(-5:5)\n",
    "ylims!(-3, 9)\n",
    "yticks!(-3:9)"
   ]
  },
  {
   "cell_type": "code",
   "execution_count": null,
   "metadata": {},
   "outputs": [],
   "source": [
    "# OR7_NEW, 16 ast\n",
    "\n",
    "#2036, 2068\n",
    "ζ_2036_RE = 7.238799\n",
    "ζ_2068_RE = 7.714911\n",
    "\n",
    "ζ_2036_km = ζ_2036_RE*RE\n",
    "ζ_2068_km = ζ_2068_RE*RE\n",
    "\n",
    "ζ_2036_km, ζ_2068_km"
   ]
  },
  {
   "cell_type": "code",
   "execution_count": null,
   "metadata": {},
   "outputs": [],
   "source": [
    "# OR7_NEW, 32 ast\n",
    "\n",
    "#2036, 2068\n",
    "ζ_2036_RE = 7.238705\n",
    "ζ_2068_RE = 7.715299\n",
    "\n",
    "ζ_2036_km = ζ_2036_RE*RE\n",
    "ζ_2068_km = ζ_2068_RE*RE\n",
    "\n",
    "ζ_2036_km, ζ_2068_km"
   ]
  },
  {
   "cell_type": "code",
   "execution_count": null,
   "metadata": {},
   "outputs": [],
   "source": [
    "46169.447125491504 - 46170.0466703037"
   ]
  },
  {
   "cell_type": "code",
   "execution_count": null,
   "metadata": {},
   "outputs": [],
   "source": [
    "49209.2286172537 - 49206.7539003693"
   ]
  },
  {
   "cell_type": "code",
   "execution_count": null,
   "metadata": {},
   "outputs": [],
   "source": []
  },
  {
   "cell_type": "code",
   "execution_count": null,
   "metadata": {},
   "outputs": [],
   "source": [
    "gr()"
   ]
  },
  {
   "cell_type": "code",
   "execution_count": null,
   "metadata": {},
   "outputs": [],
   "source": [
    "scatter(\n",
    "    B_dot_ξv_O7,\n",
    "    B_dot_ζv_O7,\n",
    "    label=\"JTMC, O7\", \n",
    "    marker=:circle, ms=1.0, markerstrokewidth = 0, msc=:auto # match marker stroke color\n",
    ")\n",
    "scatter!(\n",
    "    B_dot_ξv_R,\n",
    "    B_dot_ζv_R,\n",
    "    label=\"JTMC, R7\", \n",
    "    marker=:circle, ms=1.0, markerstrokewidth = 0, msc=:auto # match marker stroke color\n",
    ")\n",
    "scatter!(\n",
    "    B_dot_ξv_OR7,\n",
    "    B_dot_ζv_OR7,\n",
    "    label=\"JTMC, OR7\",\n",
    "    marker=:circle, ms=1.0, markerstrokewidth = 0, msc=:auto # match marker stroke color\n",
    ")\n",
    "plot!(\n",
    "    B_ξ_3σ_ell_O7,\n",
    "    B_ζ_3σ_ell_O7,\n",
    "    label=\"3-σ, O7\",\n",
    "    #marker=:circle, ms=1.0, markerstrokewidth = 0, msc=:auto # match marker stroke color\n",
    ")\n",
    "plot!(\n",
    "    B_ξ_3σ_ell_R,\n",
    "    B_ζ_3σ_ell_R,\n",
    "    label=\"3-σ, R7\",\n",
    "    #marker=:circle, ms=1.0, markerstrokewidth = 0, msc=:auto # match marker stroke color\n",
    ")\n",
    "plot!(\n",
    "    B_ξ_3σ_ell_OR7,\n",
    "    B_ζ_3σ_ell_OR7,\n",
    "    label=\"3-σ, OR7\",\n",
    "    #marker=:circle, ms=1.0, markerstrokewidth = 0, msc=:auto # match marker stroke color\n",
    ")\n",
    "scatter!([B_dot_ξ0],\n",
    "    [B_dot_ζ0],\n",
    "    label=\"nominal, OR7\",\n",
    "    marker=:circle, ms=3.0,\n",
    ")\n",
    "#plot!(cos.(angv), sin.(angv), label=\"Earth radius\")\n",
    "#plot!(b_E_2029()*cos.(angv), b_E_2029()*sin.(angv), label=\"Earth cross section\")\n",
    "plot!(\n",
    "    R_Valsecchi_8_7*cos.(angv), \n",
    "    D_Valsecchi_8_7.+R_Valsecchi_8_7*sin.(angv), \n",
    "    label=\"8:7 res. Valsecchi circle\",\n",
    "    #legend=false,\n",
    ")\n",
    "plot!(\n",
    "    R_Valsecchi_7_6*cos.(angv), \n",
    "    D_Valsecchi_7_6.+R_Valsecchi_7_6*sin.(angv), \n",
    "    label=\"7:6 res. Valsecchi circle\",\n",
    ")\n",
    "plot!(\n",
    "    R_Valsecchi_39_34*cos.(angv), \n",
    "    D_Valsecchi_39_34.+R_Valsecchi_39_34*sin.(angv), \n",
    "    label=\"39:34 res. Valsecchi circle\",\n",
    ")\n",
    "plot!(\n",
    "    R_Valsecchi_6_5*cos.(angv), \n",
    "    D_Valsecchi_6_5.+R_Valsecchi_6_5*sin.(angv), \n",
    "    label=\"6:5 res. Valsecchi circle\",\n",
    "    #aspectratio=0.8, #1\n",
    "    #leg=false,\n",
    "    legend=:outertopright,\n",
    "    #legend=:topright,\n",
    "    #legendfontsize=8\n",
    ")\n",
    "xlabel!(\"B.ξ [Earth radii]\")\n",
    "ylabel!(\"B.ζ [Earth radii]\")\n",
    "title!(\"B-plane (Öpik's frame)\")\n",
    "xlims!(1.47,1.51)\n",
    "ylims!(6,9)"
   ]
  },
  {
   "cell_type": "code",
   "execution_count": null,
   "metadata": {},
   "outputs": [],
   "source": [
    "x_OR7[7] # A_2 O+R fit"
   ]
  },
  {
   "cell_type": "code",
   "execution_count": null,
   "metadata": {},
   "outputs": [],
   "source": [
    "sqrt(Γ_OR7[7,7]) # σ_{A_2} O+R fit"
   ]
  },
  {
   "cell_type": "code",
   "execution_count": null,
   "metadata": {},
   "outputs": [],
   "source": [
    "# \"Equivalent of Fig 1 in Farnocchia et al. (2013) Icarus, 224 192-200)\"\n",
    "# T = Tholen et al. (2013)\n",
    "# R = radar (Giorgini 2008 + Brozovic 2018)\n",
    "# T ellipsoid is expected to be roughly equivalent to Farnocchia's T ellipsoid,\n",
    "# because dynamical models, astrometry and optical set and weights are the same; also A2 is assumed =0.\n",
    "# T+R ellipsoid is not expected to be equivalent to Farnocchia's, since we include all radar astrometry through 2005-2013\n",
    "# 7:6 and 8:7 Valsecchi circles, which enclose the ellipsoids, are out of the scale, so not shown\n",
    "\n",
    "scatter(\n",
    "    B_dot_ξv_O6*RE, \n",
    "    B_dot_ζv_O6*RE, \n",
    "    label=\"JTMC, O6 (A2=0)\", \n",
    "    marker=:circle, ms=1.0, msc=:auto, # match marker stroke color\n",
    "    markerstrokewidth = 0\n",
    ")\n",
    "scatter!(\n",
    "    B_dot_ξv_OR6*RE, \n",
    "    B_dot_ζv_OR6*RE,\n",
    "    label=\"JTMC, OR6 (A2=0)\", \n",
    "    marker=:circle, ms=1.0, msc=:auto, # match marker stroke color\n",
    "    markerstrokewidth = 0\n",
    ")\n",
    "scatter!(\n",
    "    B_dot_ξv_OR7*RE, \n",
    "    B_dot_ζv_OR7*RE, \n",
    "    label=\"JTMC, OR7\",  # A2=-0.82±2.8 10^{-14} au/day^2 (1-sigma)\n",
    "    marker=:circle, ms=1.0, msc=:auto, # match marker stroke color\n",
    "    markerstrokewidth = 0\n",
    ")\n",
    "plot!(\n",
    "    B_ξ_3σ_ell_O6*RE,\n",
    "    B_ζ_3σ_ell_O6*RE,\n",
    "    label=\"3-σ, O6 (A2=0)\",\n",
    "    #marker=:circle, ms=1.0, markerstrokewidth = 0, msc=:auto # match marker stroke color\n",
    ")\n",
    "plot!(\n",
    "    B_ξ_3σ_ell_OR6*RE,\n",
    "    B_ζ_3σ_ell_OR6*RE,\n",
    "    label=\"3-σ, OR6 (A2=0)\",\n",
    "    #marker=:circle, ms=1.0, markerstrokewidth = 0, msc=:auto # match marker stroke color\n",
    ")\n",
    "plot!(\n",
    "    B_ξ_3σ_ell_OR7*RE,\n",
    "    B_ζ_3σ_ell_OR7*RE,\n",
    "    label=\"3-σ, OR7\",\n",
    "    #marker=:circle, ms=1.0, markerstrokewidth = 0, msc=:auto # match marker stroke color\n",
    ")\n",
    "plot!(\n",
    "    B_ξ_3σ_ell_OR7_NEW*RE,\n",
    "    B_ζ_3σ_ell_OR7_NEW*RE,\n",
    "    label=\"3-σ, OR7_NEW\",\n",
    "    #marker=:circle, ms=1.0, markerstrokewidth = 0, msc=:auto # match marker stroke color\n",
    ")\n",
    "scatter!(\n",
    "    [B_2029.ξ(x_O6)*RE],\n",
    "    [B_2029.ζ(x_O6)*RE],\n",
    "    label=\"nominal, O6 (A2=0)\",\n",
    "    marker=:circle,\n",
    ")\n",
    "scatter!(\n",
    "    [B_2029.ξ(x_OR6)*RE],\n",
    "    [B_2029.ζ(x_OR6)*RE],\n",
    "    label=\"nominal, OR6 (A2=0)\",\n",
    "    marker=:circle,\n",
    ")\n",
    "scatter!(\n",
    "    [B_2029.ξ(x_OR7)*RE],\n",
    "    [B_2029.ζ(x_OR7)*RE],\n",
    "    label=\"nominal, OR7\",\n",
    "    marker=:circle,\n",
    "    #legend=false,\n",
    "    legend=:outertopright,\n",
    "    #legend=:bottomright\n",
    ")\n",
    "scatter!(\n",
    "    [B_2029.ξ(x_OR7_NEW)*RE],\n",
    "    [B_2029.ζ(x_OR7_NEW)*RE],\n",
    "    label=\"nominal, OR7_NEW (A2=0)\",\n",
    "    marker=:circle,\n",
    ")\n",
    "#plot!(\n",
    "#    RE*R_Valsecchi_7_6*cos.(angv),\n",
    "#    RE*D_Valsecchi_7_6.+RE*R_Valsecchi_7_6*sin.(angv),\n",
    "#    label=\"7:6 res. Valsecchi circle\",\n",
    "#)\n",
    "#plot!(\n",
    "#    RE*R_Valsecchi_8_7*cos.(angv),\n",
    "#    RE*D_Valsecchi_8_7.+RE*R_Valsecchi_8_7*sin.(angv),\n",
    "#    label=\"8:7 res. Valsecchi circle\",\n",
    "#)\n",
    "xlabel!(\"B.ξ [km]\")\n",
    "ylabel!(\"B.ζ [km]\")\n",
    "#xlims!(9465,9520)\n",
    "#ylims!(4.67e4, 4.86e4)\n",
    "#yticks!(4.68e4:0.02e4:4.86e4)\n",
    "#xticks!(9465:5:9520)"
   ]
  },
  {
   "cell_type": "code",
   "execution_count": null,
   "metadata": {},
   "outputs": [],
   "source": [
    "#B_dot_ζv_OR7_NEW"
   ]
  },
  {
   "cell_type": "code",
   "execution_count": null,
   "metadata": {},
   "outputs": [],
   "source": [
    "sqrt.(Γ_B_OR7_NEW[2,2])"
   ]
  },
  {
   "cell_type": "code",
   "execution_count": null,
   "metadata": {},
   "outputs": [],
   "source": [
    "sqrt.(Γ_B_OR7_v15[2,2])"
   ]
  },
  {
   "cell_type": "code",
   "execution_count": null,
   "metadata": {},
   "outputs": [],
   "source": [
    "B_2029.ξ(x_OR7_v15), B_2029.ζ(x_OR7_v15)"
   ]
  },
  {
   "cell_type": "code",
   "execution_count": null,
   "metadata": {},
   "outputs": [],
   "source": [
    "B_2029.ξ(x_OR7_NEW), B_2029.ζ(x_OR7_NEW)"
   ]
  },
  {
   "cell_type": "code",
   "execution_count": null,
   "metadata": {},
   "outputs": [],
   "source": [
    "gaussianpdf(x,μ=0.0,σ=1.0) = exp( -0.5((x-μ)/σ)^2 )/(σ*sqrt(2pi))"
   ]
  },
  {
   "cell_type": "code",
   "execution_count": null,
   "metadata": {},
   "outputs": [],
   "source": [
    "B_2029.ζ(x_OR7_v15)*RE"
   ]
  },
  {
   "cell_type": "code",
   "execution_count": null,
   "metadata": {},
   "outputs": [],
   "source": [
    "B_2029.ζ(x_OR7_NEW)*RE"
   ]
  },
  {
   "cell_type": "code",
   "execution_count": null,
   "metadata": {},
   "outputs": [],
   "source": [
    "@show sqrt(Γ_B_OR7_v15[2,2]) sqrt(Γ_B_OR7_NEW[2,2])"
   ]
  },
  {
   "cell_type": "code",
   "execution_count": null,
   "metadata": {},
   "outputs": [],
   "source": [
    "#xv_plt_hst = collect(7.424:0.00001:7.4275)\n",
    "xv_plt_hst = collect(7.2:0.00001:7.6)\n",
    "yv_plt_hst_OR7_v15 = gaussianpdf.(xv_plt_hst,B_2029.ζ(x_OR7_v15),sqrt(Γ_B_OR7_v15[2,2]))\n",
    "yv_plt_hst_OR7_NEW = gaussianpdf.(xv_plt_hst,B_2029.ζ(x_OR7_NEW),sqrt(Γ_B_OR7_NEW[2,2]))\n",
    ";"
   ]
  },
  {
   "cell_type": "raw",
   "metadata": {},
   "source": [
    "#gr()\n",
    "#plotly()"
   ]
  },
  {
   "cell_type": "raw",
   "metadata": {},
   "source": [
    "Plots.plot(xv_plt_hst*RE, yv_plt_hst_OR7_v15/RE, label=\"OR7 (pre-2021)\")\n",
    "Plots.plot!(xv_plt_hst*RE, yv_plt_hst_OR7_NEW/RE, label=\"OR7 (post-2021)\")\n",
    "Plots.plot!([ζ_2036_km,ζ_2036_km], [0,10]/RE, label=\"2036 return\")\n",
    "Plots.plot!([ζ_2068_km,ζ_2068_km], [0,10]/RE, label=\"2068 return\")\n",
    "#Plots.histogram!(B_dot_ζv_OR7.*RE, normalize=:pdf)\n",
    "#Plots.histogram!(B_dot_ζv_OR7_NEW.*RE, normalize=:pdf)\n",
    "xlabel!(\"B.ζ  [km]\")\n",
    "ylabel!(\"Prob. density [km⁻¹]\")\n",
    "#xlims!(7.424,7.4275)\n",
    "ylims!(0,10/RE)"
   ]
  },
  {
   "cell_type": "code",
   "execution_count": null,
   "metadata": {},
   "outputs": [],
   "source": [
    "using Gaston"
   ]
  },
  {
   "cell_type": "code",
   "execution_count": null,
   "metadata": {},
   "outputs": [],
   "source": [
    "Gaston.plot(xv_plt_hst*RE, yv_plt_hst_OR7_v15/RE, title=\"'OR7 (pre-2021)'\", lw=4, Axes(\n",
    "        key=\"top right box opaque spacing 1.4 width 4.0 height 0.4\",\n",
    "        linetype = :tab10,\n",
    "        yrange=(0,15/RE),\n",
    "        xlabel=\"'\\$\\\\zeta_{2029}\\$ [km]'\",\n",
    "        ylabel=\"'Prob. density [km\\$^{-1}\\$]'\",\n",
    "        ytics=\"offset 0.75\"\n",
    "    ))\n",
    "Gaston.plot!(xv_plt_hst*RE, yv_plt_hst_OR7_NEW/RE, title=\"'OR7 (post-2021)'\", lw=4)\n",
    "Gaston.plot!([ζ_2036_km,ζ_2036_km], [0,15]/RE, title=\"'2036 return'\", lw=4, dt=2)\n",
    "Gaston.plot!([ζ_2068_km,ζ_2068_km], [0,15]/RE, title=\"'2068 return'\", lw=4, dt=3)\n",
    "\n",
    "#Gaston.histogram(B_dot_ζv_OR7.*RE, normalize=:pdf)\n",
    "\n",
    "#Gaston.save(term = \"cairolatex\", output = \"Bzeta_hist_OR7.tex\", saveopts = \"pdf standalone color dashed transparent size 7in,5in font ',14'\") ###\n",
    "#run(`lualatex Bzeta_hist_OR7.tex`)"
   ]
  },
  {
   "cell_type": "code",
   "execution_count": null,
   "metadata": {},
   "outputs": [],
   "source": [
    "#7.249*RE,7.726*RE\n",
    "ζ_2036_km, ζ_2068_km"
   ]
  },
  {
   "cell_type": "code",
   "execution_count": null,
   "metadata": {},
   "outputs": [],
   "source": [
    "(ζ_2036_RE - B_2029.ζ(x_OR7_NEW))/sqrt.(Γ_B_OR7_NEW[2,2])"
   ]
  },
  {
   "cell_type": "code",
   "execution_count": null,
   "metadata": {},
   "outputs": [],
   "source": [
    "(ζ_2068_RE - B_2029.ζ(x_OR7_NEW))/sqrt.(Γ_B_OR7_NEW[2,2])"
   ]
  },
  {
   "cell_type": "code",
   "execution_count": null,
   "metadata": {},
   "outputs": [],
   "source": [
    "(7.249 - B_2029.ζ(x_OR7_NEW))/sqrt.(Γ_B_OR7_NEW[2,2]), (7.726 - B_2029.ζ(x_OR7_NEW))/sqrt.(Γ_B_OR7_NEW[2,2])"
   ]
  },
  {
   "cell_type": "code",
   "execution_count": null,
   "metadata": {},
   "outputs": [],
   "source": [
    "gaussianpdf(7.249,B_2029.ζ(x_OR7_NEW),sqrt.(Γ_B_OR7_NEW[2,2])), gaussianpdf(7.726,B_2029.ζ(x_OR7_NEW),sqrt.(Γ_B_OR7_NEW[2,2]))"
   ]
  },
  {
   "cell_type": "code",
   "execution_count": null,
   "metadata": {},
   "outputs": [],
   "source": [
    "gaussianpdf(7.249,B_2029.ζ(x_OR7),sqrt.(Γ_B_OR7[2,2])), gaussianpdf(7.726,B_2029.ζ(x_OR7),sqrt.(Γ_B_OR7[2,2]))"
   ]
  },
  {
   "cell_type": "code",
   "execution_count": null,
   "metadata": {},
   "outputs": [],
   "source": []
  },
  {
   "cell_type": "code",
   "execution_count": null,
   "metadata": {},
   "outputs": [],
   "source": [
    "#Gaston.histogram(B_dot_ζv_OR7.*RE, normalize=:pdf,     Axes(\n",
    "#        linetype = :tab10,\n",
    "#        yrange=(0,15/RE),\n",
    "#        xlabel=\"'\\$\\\\zeta_{2029}\\$ [km]'\",\n",
    "#        ylabel=\"'Prob. density [km\\$^{-1}\\$]'\"\n",
    "#    )\n",
    "#)\n",
    "#Gaston.plot!(xv_plt_hst*RE, yv_plt_hst_OR7/RE, title=\"'OR7 (pre-2021)'\", lw=3)\n",
    "\n",
    "Gaston.plot(xv_plt_hst*RE, yv_plt_hst_OR7/RE, title=\"'OR7 (pre-2021)'\", lw=4,\n",
    "    Axes(\n",
    "        key=\"top right box opaque spacing 1.4 width 1.4 height 0.4\",\n",
    "        linetype = :tab10,\n",
    "        yrange=(0,15/RE),\n",
    "        xlabel=\"'\\$\\\\zeta_{2029}\\$ [km]'\",\n",
    "        ylabel=\"'Prob. density [km\\$^{-1}\\$]'\"\n",
    "    )\n",
    ")\n",
    "Gaston.plot!(xv_plt_hst*RE, yv_plt_hst_OR7_NEW/RE, title=\"'OR7 (post-2021)'\", lw=4)\n",
    "Gaston.plot!([7.249*RE,7.249*RE], [0,20]/RE, title=\"'2036 return'\", lw=4, dt=2)\n",
    "Gaston.plot!([7.726*RE,7.726*RE], [0,20]/RE, title=\"'2068 return'\", lw=4, dt=3)\n",
    "\n",
    "\n",
    "#Gaston.save(term = \"cairolatex\", output = \"Bzeta_hist_OR7.tex\", saveopts = \"pdf standalone color dashed transparent size 7in,5in font ',14'\")\n",
    "#run(`pdflatex Bzeta_hist_OR7.tex`)"
   ]
  },
  {
   "cell_type": "code",
   "execution_count": null,
   "metadata": {},
   "outputs": [],
   "source": []
  },
  {
   "cell_type": "code",
   "execution_count": null,
   "metadata": {},
   "outputs": [],
   "source": [
    "x0_JPL = vcat(1e8ones(6),1.0).*(vcat(NEOs.x0_JPL_s199, A2_JPL) .- vcat(NEOs.x0_JPL_s197, 0.0))"
   ]
  },
  {
   "cell_type": "code",
   "execution_count": null,
   "metadata": {},
   "outputs": [],
   "source": [
    "julian2datetime(jd0+t_2029(x0_JPL))"
   ]
  },
  {
   "cell_type": "code",
   "execution_count": null,
   "metadata": {},
   "outputs": [],
   "source": [
    "julian2datetime.(jd0 .+ tvS1(vcat(zeros(6), 0.0)))[end-30:end]"
   ]
  },
  {
   "cell_type": "code",
   "execution_count": null,
   "metadata": {},
   "outputs": [],
   "source": [
    "t_2020 = tvS1[27]\n",
    "t_2021 = tvS1[29]\n",
    "t_2029 = tvS1[47];"
   ]
  },
  {
   "cell_type": "code",
   "execution_count": null,
   "metadata": {},
   "outputs": [],
   "source": [
    "julian2datetime(jd0+t_2020(x0_JPL))"
   ]
  },
  {
   "cell_type": "code",
   "execution_count": null,
   "metadata": {},
   "outputs": [],
   "source": [
    "julian2datetime(jd0+t_2021(x0_JPL))"
   ]
  },
  {
   "cell_type": "code",
   "execution_count": null,
   "metadata": {},
   "outputs": [],
   "source": [
    "julian2datetime(jd0+t_2029(x0_JPL))"
   ]
  },
  {
   "cell_type": "code",
   "execution_count": null,
   "metadata": {},
   "outputs": [],
   "source": [
    "ss16asteph_2020 = ss16asteph((jd0-J2000+t_2020)*daysec)\n",
    "xe_2020 = ss16asteph_2020[union(3ea-2:3ea,3(N-1+ea)-2:3(N-1+ea))];\n",
    "\n",
    "ss16asteph_2021 = ss16asteph((jd0-J2000+t_2021)*daysec)\n",
    "xe_2021 = ss16asteph_2021[union(3ea-2:3ea,3(N-1+ea)-2:3(N-1+ea))];\n",
    "\n",
    "ss16asteph_2029 = ss16asteph((jd0-J2000+t_2029)*daysec)\n",
    "xe_2029 = ss16asteph_2029[union(3ea-2:3ea,3(N-1+ea)-2:3(N-1+ea))];"
   ]
  },
  {
   "cell_type": "code",
   "execution_count": null,
   "metadata": {},
   "outputs": [],
   "source": [
    "apophis_2020 = xvS1[27,1:6]\n",
    "apophis_2021 = xvS1[29,1:6]\n",
    "apophis_2029 = xvS1[47,1:6]\n",
    "xae_2020 = apophis_2020-xe_2020\n",
    "xae_2021 = apophis_2021-xe_2021\n",
    "xae_2029 = apophis_2029-xe_2029;"
   ]
  },
  {
   "cell_type": "code",
   "execution_count": null,
   "metadata": {},
   "outputs": [],
   "source": [
    "rae_2020 = sqrt(xae_2020[1]^2 + xae_2020[2]^2 + xae_2020[3]^2);"
   ]
  },
  {
   "cell_type": "code",
   "execution_count": null,
   "metadata": {},
   "outputs": [],
   "source": [
    "rae_2021 = sqrt(xae_2021[1]^2 + xae_2021[2]^2 + xae_2021[3]^2);"
   ]
  },
  {
   "cell_type": "code",
   "execution_count": null,
   "metadata": {},
   "outputs": [],
   "source": [
    "rae_2029 = sqrt(xae_2029[1]^2 + xae_2029[2]^2 + xae_2029[3]^2);"
   ]
  },
  {
   "cell_type": "code",
   "execution_count": null,
   "metadata": {},
   "outputs": [],
   "source": [
    "au*(rae_2020(x_OR7) - 0.216276663586499)"
   ]
  },
  {
   "cell_type": "code",
   "execution_count": null,
   "metadata": {},
   "outputs": [],
   "source": [
    "au*(rae_2021(x_OR7) - 0.11265113489653)"
   ]
  },
  {
   "cell_type": "code",
   "execution_count": null,
   "metadata": {},
   "outputs": [],
   "source": [
    "au*(rae_2029(x_OR7) - 0.000252172816142565)"
   ]
  },
  {
   "cell_type": "code",
   "execution_count": null,
   "metadata": {},
   "outputs": [],
   "source": [
    "julian2datetime(2462240.407032288)"
   ]
  },
  {
   "cell_type": "code",
   "execution_count": null,
   "metadata": {},
   "outputs": [],
   "source": [
    "#\n",
    "0.21593875724774*60/3"
   ]
  },
  {
   "cell_type": "code",
   "execution_count": null,
   "metadata": {},
   "outputs": [],
   "source": [
    "0.000252172816142565*au"
   ]
  },
  {
   "cell_type": "code",
   "execution_count": null,
   "metadata": {},
   "outputs": [],
   "source": []
  },
  {
   "cell_type": "code",
   "execution_count": null,
   "metadata": {},
   "outputs": [],
   "source": [
    "d_CA_2029_JPL = 0.000252172816142565\n",
    "d_CA_2029_JPL_min = 0.000247515097583323\n",
    "d_CA_2029_JPL_max = 0.000256837212164523"
   ]
  },
  {
   "cell_type": "code",
   "execution_count": null,
   "metadata": {},
   "outputs": [],
   "source": [
    "(d_CA_2029_JPL-d_CA_2029_JPL_min)*au/3, (d_CA_2029_JPL-d_CA_2029_JPL_max)*au/3"
   ]
  },
  {
   "cell_type": "code",
   "execution_count": null,
   "metadata": {},
   "outputs": [],
   "source": [
    "julian2datetime(jd0+t_2029(x_OR6))"
   ]
  },
  {
   "cell_type": "code",
   "execution_count": null,
   "metadata": {},
   "outputs": [],
   "source": [
    "julian2datetime(jd0+t_2029(x_OR7))"
   ]
  },
  {
   "cell_type": "code",
   "execution_count": null,
   "metadata": {},
   "outputs": [],
   "source": [
    "au*rae_2029(x_OR7)"
   ]
  },
  {
   "cell_type": "code",
   "execution_count": null,
   "metadata": {},
   "outputs": [],
   "source": [
    "au*rae_2029(x_OR6)"
   ]
  },
  {
   "cell_type": "code",
   "execution_count": null,
   "metadata": {},
   "outputs": [],
   "source": []
  },
  {
   "cell_type": "code",
   "execution_count": null,
   "metadata": {},
   "outputs": [],
   "source": [
    "au*(rae_2020(x0_JPL) - 0.216276663586499)"
   ]
  },
  {
   "cell_type": "code",
   "execution_count": null,
   "metadata": {},
   "outputs": [],
   "source": [
    "au*(rae_2021(x0_JPL) - 0.11265113489653)"
   ]
  },
  {
   "cell_type": "code",
   "execution_count": null,
   "metadata": {},
   "outputs": [],
   "source": [
    "au*(rae_2029(x0_JPL) - 0.000252172816142565)"
   ]
  },
  {
   "cell_type": "code",
   "execution_count": null,
   "metadata": {},
   "outputs": [],
   "source": []
  },
  {
   "cell_type": "code",
   "execution_count": null,
   "metadata": {},
   "outputs": [],
   "source": [
    "#t_CA = t_2020\n",
    "#d_CA = rae_2020\n",
    "\n",
    "t_CA = t_2029\n",
    "d_CA = rae_2029;"
   ]
  },
  {
   "cell_type": "code",
   "execution_count": null,
   "metadata": {},
   "outputs": [],
   "source": [
    "# Jacobian of transformation from initial conditions to d_CA_2020, t_CA_2020\n",
    "t_x2dtCA = hcat(TaylorSeries.gradient(d_CA), TaylorSeries.gradient(t_CA));\n",
    "size(t_x2dtCA)"
   ]
  },
  {
   "cell_type": "code",
   "execution_count": null,
   "metadata": {},
   "outputs": [],
   "source": [
    "# transform cov matrix to d_CA_2020, t_CA_2020 coords\n",
    "Γ_dtCA_OR7 = Hermitian(t_x2dtCA(x_OR7)'*Γ_OR7*(t_x2dtCA(x_OR7)))\n",
    "Γ_dtCA_OR7_NEW = Hermitian(t_x2dtCA(x_OR7_NEW)'*Γ_OR7_NEW*(t_x2dtCA(x_OR7_NEW)))\n",
    "Γ_dtCA_OR6 = Hermitian(t_x2dtCA(x_OR6)[1:6,:]'*Γ_OR6*(t_x2dtCA(x_OR6)[1:6,:]))\n",
    "# get cholesky-L factor\n",
    "L_dtCA_OR7 = cholesky(Γ_dtCA_OR7).L\n",
    "L_dtCA_OR6 = cholesky(Γ_dtCA_OR6).L"
   ]
  },
  {
   "cell_type": "code",
   "execution_count": null,
   "metadata": {},
   "outputs": [],
   "source": []
  },
  {
   "cell_type": "code",
   "execution_count": null,
   "metadata": {},
   "outputs": [],
   "source": [
    "sqrt.(diag(Γ_dtCA_OR6)).*[au,daysec]"
   ]
  },
  {
   "cell_type": "code",
   "execution_count": null,
   "metadata": {},
   "outputs": [],
   "source": [
    "sqrt.(diag(Γ_dtCA_OR7)).*[au,daysec]"
   ]
  },
  {
   "cell_type": "code",
   "execution_count": null,
   "metadata": {},
   "outputs": [],
   "source": [
    "sqrt.(diag(Γ_dtCA_OR7_NEW)).*[au,daysec]"
   ]
  },
  {
   "cell_type": "code",
   "execution_count": null,
   "metadata": {},
   "outputs": [],
   "source": [
    "dt_v_OR6 = Matrix{Float64}(undef, 1000, 2)\n",
    "dt_v_OR7 = Matrix{Float64}(undef, 1000, 2)\n",
    "for i in 1:1000\n",
    "    dt_v_OR6[i,:] = L_dtCA_OR6*randn(2)\n",
    "    dt_v_OR7[i,:] = L_dtCA_OR7*randn(2)\n",
    "end"
   ]
  },
  {
   "cell_type": "code",
   "execution_count": null,
   "metadata": {},
   "outputs": [],
   "source": [
    "d_3σ_ell_OR6 = (L_dtCA_OR6[1,1]*rndv_2sph_ξ .+ L_dtCA_OR6[1,2]*rndv_2sph_ζ) # .+ d_CA(x_OR6)\n",
    "t_3σ_ell_OR6 = (L_dtCA_OR6[2,1]*rndv_2sph_ξ .+ L_dtCA_OR6[2,2]*rndv_2sph_ζ) # .+ t_CA(x_OR6)\n",
    "\n",
    "d_3σ_ell_OR7 = (L_dtCA_OR7[1,1]*rndv_2sph_ξ .+ L_dtCA_OR7[1,2]*rndv_2sph_ζ) # .+ d_CA(x_OR7)\n",
    "t_3σ_ell_OR7 = (L_dtCA_OR7[2,1]*rndv_2sph_ξ .+ L_dtCA_OR7[2,2]*rndv_2sph_ζ) # .+ t_CA(x_OR7)\n",
    "\n",
    "Δd_OR76 = d_CA(x_OR7)-d_CA(x_OR6)\n",
    "Δt_OR76 = t_CA(x_OR7)-t_CA(x_OR6)\n",
    ";"
   ]
  },
  {
   "cell_type": "code",
   "execution_count": null,
   "metadata": {},
   "outputs": [],
   "source": [
    "plotly()"
   ]
  },
  {
   "cell_type": "code",
   "execution_count": null,
   "metadata": {},
   "outputs": [],
   "source": [
    "scatter(\n",
    "    (Δd_OR76.+dt_v_OR7[:,1])*au, \n",
    "    (Δt_OR76.+dt_v_OR7[:,2])*daysec, \n",
    "    ms=0.1, msc=:auto, label=\"OR7 (JT sampling)\",\n",
    "    legend=:outertopright\n",
    ")\n",
    "scatter!(dt_v_OR6[:,1]*au, dt_v_OR6[:,2]*daysec, ms=0.1, msc=:auto, label=\"OR6 (JT sampling)\")\n",
    "plot!(d_3σ_ell_OR6*au, t_3σ_ell_OR6*daysec, label=\"OR6 (3-σ)\")\n",
    "plot!((Δd_OR76.+d_3σ_ell_OR7)*au, (Δt_OR76.+t_3σ_ell_OR7)*daysec, label=\"OR7 (3-σ)\")\n",
    "scatter!([Δd_OR76*au], [Δt_OR76*daysec], label=\"OR7, nominal\")\n",
    "xlabel!(\"Geocentric range at closest approach [km]\")\n",
    "ylabel!(\"Time of closest approach [s]\")\n",
    "yca = year(julian2datetime(jd0 + t_CA(x_OR7)))\n",
    "mca = monthname(julian2datetime(jd0 + t_CA(x_OR7)))\n",
    "title!(\"$mca $yca close approach: CA time and distance\")"
   ]
  },
  {
   "cell_type": "code",
   "execution_count": null,
   "metadata": {},
   "outputs": [],
   "source": [
    "d_CA(x_OR6), julian2datetime(jd0 + t_CA(x_OR6))"
   ]
  },
  {
   "cell_type": "code",
   "execution_count": null,
   "metadata": {},
   "outputs": [],
   "source": [
    "au*d_CA(x_OR6)"
   ]
  },
  {
   "cell_type": "code",
   "execution_count": null,
   "metadata": {},
   "outputs": [],
   "source": [
    "d_CA(x_OR7), julian2datetime(jd0 + t_CA(x_OR7))"
   ]
  },
  {
   "cell_type": "code",
   "execution_count": null,
   "metadata": {},
   "outputs": [],
   "source": [
    "au*0.000252172816142565"
   ]
  },
  {
   "cell_type": "code",
   "execution_count": null,
   "metadata": {},
   "outputs": [],
   "source": [
    "au*d_CA(x_OR7)"
   ]
  },
  {
   "cell_type": "code",
   "execution_count": null,
   "metadata": {},
   "outputs": [],
   "source": [
    "d_CA(x_OR7_NEW), julian2datetime(jd0 + t_CA(x_OR7_NEW))"
   ]
  },
  {
   "cell_type": "code",
   "execution_count": null,
   "metadata": {},
   "outputs": [],
   "source": [
    "au*d_CA(x_OR7_NEW)"
   ]
  },
  {
   "cell_type": "code",
   "execution_count": null,
   "metadata": {},
   "outputs": [],
   "source": [
    "sqrt(Γ_dtCA_OR7_NEW[1,1])*au"
   ]
  },
  {
   "cell_type": "markdown",
   "metadata": {},
   "source": [
    "# 2020-2021 RA/DEC OR6/7 prediction vs 2020 observation"
   ]
  },
  {
   "cell_type": "code",
   "execution_count": null,
   "metadata": {},
   "outputs": [],
   "source": [
    "using JuliaDB"
   ]
  },
  {
   "cell_type": "code",
   "execution_count": null,
   "metadata": {},
   "outputs": [],
   "source": [
    "t_radec_1120 = JuliaDB.load(\"radec_99942_2011_2020.jdb\");"
   ]
  },
  {
   "cell_type": "code",
   "execution_count": null,
   "metadata": {},
   "outputs": [],
   "source": [
    "t_radec_1120[end].dt_utc_obs"
   ]
  },
  {
   "cell_type": "code",
   "execution_count": null,
   "metadata": {},
   "outputs": [],
   "source": [
    "t_radec_1120[end].obscode # G96 = Mt. Lemmon"
   ]
  },
  {
   "cell_type": "code",
   "execution_count": null,
   "metadata": {},
   "outputs": [],
   "source": [
    "t_radec_1120[end].α_comp()"
   ]
  },
  {
   "cell_type": "code",
   "execution_count": null,
   "metadata": {},
   "outputs": [],
   "source": [
    "ra_last_2020_mpc = (t_radec_1120[end].α_obs - t_radec_1120[end].α_corr) - t_radec_1120[end].α_comp \n",
    "dec_last_2020_mpc = (t_radec_1120[end].δ_obs - t_radec_1120[end].δ_corr) - t_radec_1120[end].δ_comp;"
   ]
  },
  {
   "cell_type": "code",
   "execution_count": null,
   "metadata": {},
   "outputs": [],
   "source": [
    "σ_level_plot = 3.0"
   ]
  },
  {
   "cell_type": "code",
   "execution_count": null,
   "metadata": {},
   "outputs": [],
   "source": [
    "yTN = dec_last_2020_mpc\n",
    "xTN = ra_last_2020_mpc\n",
    "\n",
    "ra_res_nom_OR6 = xTN(x_OR6)/3600\n",
    "dec_res_nom_OR6 = yTN(x_OR6)/3600\n",
    "ra_res_nom_OR7 = xTN(x_OR6)/3600\n",
    "dec_res_nom_OR7 = yTN(x_OR6)/3600\n",
    "\n",
    "@show ra_res_nom_OR6, dec_res_nom_OR6\n",
    "@show ra_res_nom_OR7, dec_res_nom_OR7\n",
    "\n",
    "# Jacobian of transformation from initial conditions to xTN, yTN\n",
    "t_x02xyTN = hcat(TaylorSeries.gradient(xTN), TaylorSeries.gradient(yTN))\n",
    "@show size(t_x02xyTN)\n",
    "\n",
    "# transform cov matrix to d_CA_2020, t_CA_2020 coords\n",
    "Γ_xyTN_OR7 = Hermitian(t_x02xyTN(x_OR7)'*Γ_OR7*(t_x02xyTN(x_OR7)))\n",
    "Γ_xyTN_OR6 = Hermitian(t_x02xyTN(x_OR6)[1:6,:]'*Γ_OR6*(t_x02xyTN(x_OR6)[1:6,:]))\n",
    "# get cholesky-L factor\n",
    "L_xyTN_OR7 = cholesky(Γ_xyTN_OR7).L\n",
    "L_xyTN_OR6 = cholesky(Γ_xyTN_OR6).L\n",
    "\n",
    "@show sqrt.(diag(Γ_xyTN_OR6))\n",
    "@show sqrt.(diag(Γ_xyTN_OR7))\n",
    "\n",
    "xyTN_v_OR6 = Matrix{Float64}(undef, 1000, 2)\n",
    "xyTN_v_OR7 = Matrix{Float64}(undef, 1000, 2)\n",
    "for i in 1:1000\n",
    "    xyTN_v_OR6[i,:] = L_xyTN_OR6*randn(2)\n",
    "    xyTN_v_OR7[i,:] = L_xyTN_OR7*randn(2)\n",
    "end\n",
    "\n",
    "rndv_2sph_xTN = σ_level_plot*cos.(angv)\n",
    "rndv_2sph_yTN = σ_level_plot*sin.(angv);\n",
    "\n",
    "xTN_3σ_ell_OR6 = (L_xyTN_OR6[1,1]*rndv_2sph_xTN .+ L_xyTN_OR6[1,2]*rndv_2sph_yTN)\n",
    "yTN_3σ_ell_OR6 = (L_xyTN_OR6[2,1]*rndv_2sph_xTN .+ L_xyTN_OR6[2,2]*rndv_2sph_yTN)\n",
    "#\n",
    "xTN_3σ_ell_OR7 = (L_xyTN_OR7[1,1]*rndv_2sph_xTN .+ L_xyTN_OR7[1,2]*rndv_2sph_yTN)\n",
    "yTN_3σ_ell_OR7 = (L_xyTN_OR7[2,1]*rndv_2sph_xTN .+ L_xyTN_OR7[2,2]*rndv_2sph_yTN);\n",
    "\n",
    "ΔxTN_OR76 = xTN(x_OR7)-xTN(x_OR6)\n",
    "ΔyTN_OR76 = yTN(x_OR7)-yTN(x_OR6)\n",
    "\n",
    "#plotly()\n",
    "scatter( ΔxTN_OR76.+xyTN_v_OR7[:,1], ΔyTN_OR76.+xyTN_v_OR7[:,2], ms=0.1, msc=:auto, label=\"OR7 (JT sampling)\")\n",
    "scatter!(xyTN_v_OR6[:,1], xyTN_v_OR6[:,2], ms=0.1, msc=:auto, label=\"OR6 (JT sampling)\", legend=:outertopright)\n",
    "#scatter([0], [0], label=\"OR6 nominal\")\n",
    "scatter!([ΔxTN_OR76], [ΔyTN_OR76], label=\"OR7 nominal\")\n",
    "plot!(xTN_3σ_ell_OR6, yTN_3σ_ell_OR6, label=\"OR6 (3-σ)\")\n",
    "plot!(ΔxTN_OR76.+xTN_3σ_ell_OR7, ΔyTN_OR76.+yTN_3σ_ell_OR7, label=\"OR7 (3-σ)\")\n",
    "xlabel!(\"RA*cos(DEC) [arcsec]\")\n",
    "ylabel!(\"DEC [arcsec]\")\n",
    "#yca = year(julian2datetime(jd0 + t_2020(x_OR7)))\n",
    "#mca = monthname(julian2datetime(jd0 + t_2020(x_OR7)))\n",
    "title!(\"RA/DEC observations predictions \\n (MPC obs. code 568)\")"
   ]
  },
  {
   "cell_type": "code",
   "execution_count": null,
   "metadata": {},
   "outputs": [],
   "source": [
    "### https://newton.spacedys.com/neodys/index.php?n=99942&pc=1.1.4.1&oc=G96&y0=2020&m0=06&d0=08&h0=04&mi0=22&s=3.0&xf=0.0&yf=0.0\n",
    "### Astrometric Observation Prediction\n",
    "### For 2020/06/08 04:22:00 (UTC);  59008.18194(MJD)\n",
    "### Observatory code = 1696\n",
    "### RA = 09:35:13.486 (HH:MM:SS);   143.80619 (deg)\n",
    "### DEC = +14 38 44.24 (deg min sec);    14.64562 (deg)\n",
    "### RA*cos(DEC)/DEC Apparent motion =      1.832     -0.466 (arcsec/min)        30.5        -7.8 (marcsec/s)\n",
    "### Apparent motion velocity =     1.890 arcsec/min) and Position Angle = 104.258 (deg)\n",
    "### Sun distance =   0.9912 (au)\n",
    "### Earth distance =   0.8405 (au)\n",
    "### Sun elevation above horizon =  -20.04 (deg)\n",
    "### Solar elongation =  -63.77 (deg)    Lunar elongation =  147.67 (deg)\n",
    "### Galactic latitude =   42.81 (deg)   Galactic longitude =  217.94 (deg)\n",
    "### Apparent magnitude = 20.85\n",
    "### Phase angle =   66.72 (deg)\n",
    "### Altitude =   26.46 (deg)    Airmass =   2.232\n",
    "### Size and orientation of 1-sigma uncertainty ellipse\n",
    "### Short axis : Size = 7.468853E-04 (arcsec); Direction =   0.99653 -0.08329\n",
    "### Long axis : Size = 6.657841E-03 (arcsec); Direction =   0.08329  0.99653\n",
    "### The confidence boundary shown below has been computed using the linear theory."
   ]
  },
  {
   "cell_type": "code",
   "execution_count": null,
   "metadata": {},
   "outputs": [],
   "source": [
    "σ_level_plot = 1.0"
   ]
  },
  {
   "cell_type": "code",
   "execution_count": null,
   "metadata": {},
   "outputs": [],
   "source": [
    "angs = range(0.0, stop=2.01pi, length=100)\n",
    "cos_angs = cos.(angs)\n",
    "sin_angs = sin.(angs)\n",
    "\n",
    "a_ = 6.657841E-03 # long axis size (arcsec)\n",
    "b_ = 7.468853E-04 # short axis size (arcsec)\n",
    "cos_ = 0.08329 # long axis u_x\n",
    "sin_ = 0.99653 # long axis u_y\n",
    "\n",
    "x_neodys = (a_*cos_).*cos_angs .- (b_*sin_).*sin_angs\n",
    "y_neodys = (a_*sin_).*cos_angs .+ (b_*cos_).*sin_angs\n",
    "\n",
    "radec_xσ_neodys = σ_level_plot .* [x_neodys y_neodys];"
   ]
  },
  {
   "cell_type": "code",
   "execution_count": null,
   "metadata": {},
   "outputs": [],
   "source": [
    "#plotly()\n",
    "scatter(xyTN_v_OR6[:,1], xyTN_v_OR6[:,2], ms=0.1, msc=:auto, label=\"OR6 (MC sampling)\", leg=:bottomright)\n",
    "#scatter([0], [0], label=\"OR6 nominal\")\n",
    "scatter!([ra_res_nom_OR6], [dec_res_nom_OR6], label=\"Res. (O-C, OR6 nominal)\", m=:diamond, ms=8)\n",
    "plot!((σ_level_plot/3).*xTN_3σ_ell_OR6, (σ_level_plot/3).*yTN_3σ_ell_OR6, label=\"OR6 ($(Int(σ_level_plot))-σ)\", lw=2)\n",
    "plot!(xTN_3σ_ell_OR6, yTN_3σ_ell_OR6, label=\"OR6 (3-σ)\", lw=2)\n",
    "plot!(3radec_xσ_neodys[:,1], 3radec_xσ_neodys[:,2], label=\"NEODyS ($(Int(3σ_level_plot))-σ)\", lw=2)\n",
    "\n",
    "xlabel!(\"RA*cos(DEC) [arcsec]\")\n",
    "ylabel!(\"DEC [arcsec]\")\n",
    "#yca = year(julian2datetime(jd0 + t_2020(x_OR7)))\n",
    "#mca = monthname(julian2datetime(jd0 + t_2020(x_OR7)))\n",
    "title!(\"RA/DEC obs. residual: Mt. Lemmon (G96) \\n Obs. epoch: 2020-06-08 04:22 UTC\")\n",
    "xlims!(-0.003,0.004)\n",
    "ylims!(-0.025,0.025)\n",
    "#xticks!(-0.1:0.02:0.1)\n",
    "#yticks!(-0.14:0.02:0.14)"
   ]
  },
  {
   "cell_type": "markdown",
   "metadata": {},
   "source": [
    "# Predicted radar observations: 2021 at Goldstone"
   ]
  },
  {
   "cell_type": "code",
   "execution_count": null,
   "metadata": {},
   "outputs": [],
   "source": [
    "file_dict = JLD.load(\"deldop_99942_2021_predobs_Goldstone_o5v7.jld\")"
   ]
  },
  {
   "cell_type": "code",
   "execution_count": null,
   "metadata": {},
   "outputs": [],
   "source": [
    "NEOs.loadjpleph()"
   ]
  },
  {
   "cell_type": "code",
   "execution_count": null,
   "metadata": {},
   "outputs": [],
   "source": [
    "NEOs.delay_doppler2(253, DateTime(2021,3,6), 2380.0, xva=NEOs.x0_JPL_s199, lod=false, eocorr=false)"
   ]
  },
  {
   "cell_type": "code",
   "execution_count": null,
   "metadata": {},
   "outputs": [],
   "source": [
    "xTN = file_dict[\"vdel\"][1]\n",
    "yTN = file_dict[\"vdop\"][1]\n",
    "\n",
    "@show xTN(x_OR6), yTN(x_OR6)\n",
    "@show xTN(x_OR7), yTN(x_OR7)\n",
    "\n",
    "# Jacobian of transformation from initial conditions to xTN, yTN\n",
    "t_x02xyTN = hcat(TaylorSeries.gradient(xTN), TaylorSeries.gradient(yTN))\n",
    "@show size(t_x02xyTN)\n",
    "\n",
    "# transform cov matrix to d_CA_2020, t_CA_2020 coords\n",
    "Γ_xyTN_OR7 = Hermitian(t_x02xyTN(x_OR7)'*Γ_OR7*(t_x02xyTN(x_OR7)))\n",
    "Γ_xyTN_OR6 = Hermitian(t_x02xyTN(x_OR6)[1:6,:]'*Γ_OR6*(t_x02xyTN(x_OR6)[1:6,:]))\n",
    "# get cholesky-L factor\n",
    "L_xyTN_OR7 = cholesky(Γ_xyTN_OR7).L\n",
    "L_xyTN_OR6 = cholesky(Γ_xyTN_OR6).L\n",
    "\n",
    "@show sqrt.(diag(Γ_xyTN_OR6))\n",
    "@show sqrt.(diag(Γ_xyTN_OR7))\n",
    "\n",
    "xyTN_v_OR6 = Matrix{Float64}(undef, 1000, 2)\n",
    "xyTN_v_OR7 = Matrix{Float64}(undef, 1000, 2)\n",
    "for i in 1:1000\n",
    "    xyTN_v_OR6[i,:] = L_xyTN_OR6*randn(2)\n",
    "    xyTN_v_OR7[i,:] = L_xyTN_OR7*randn(2)\n",
    "end\n",
    "\n",
    "rndv_2sph_xTN = 3*cos.(angv)\n",
    "rndv_2sph_yTN = 3*sin.(angv);\n",
    "\n",
    "xTN_3σ_ell_OR6 = (L_xyTN_OR6[1,1]*rndv_2sph_xTN .+ L_xyTN_OR6[1,2]*rndv_2sph_yTN)\n",
    "yTN_3σ_ell_OR6 = (L_xyTN_OR6[2,1]*rndv_2sph_xTN .+ L_xyTN_OR6[2,2]*rndv_2sph_yTN)\n",
    "#\n",
    "xTN_3σ_ell_OR7 = (L_xyTN_OR7[1,1]*rndv_2sph_xTN .+ L_xyTN_OR7[1,2]*rndv_2sph_yTN)\n",
    "yTN_3σ_ell_OR7 = (L_xyTN_OR7[2,1]*rndv_2sph_xTN .+ L_xyTN_OR7[2,2]*rndv_2sph_yTN);\n",
    "\n",
    "ΔxTN_OR76 = xTN(x_OR7)-xTN(x_OR6)\n",
    "ΔyTN_OR76 = yTN(x_OR7)-yTN(x_OR6)\n",
    "\n",
    "#plotly()\n",
    "scatter( ΔxTN_OR76.+xyTN_v_OR7[:,1], ΔyTN_OR76.+xyTN_v_OR7[:,2], ms=0.1, msc=:auto, label=\"OR7 (JT sampling)\")\n",
    "scatter!(xyTN_v_OR6[:,1], xyTN_v_OR6[:,2], ms=0.1, msc=:auto, label=\"OR6 (JT sampling)\")\n",
    "#scatter([0], [0], label=\"OR6 nominal\")\n",
    "scatter!([ΔxTN_OR76], [ΔyTN_OR76], label=\"OR7 nominal\")\n",
    "plot!(xTN_3σ_ell_OR6, yTN_3σ_ell_OR6, label=\"OR6 (3-σ)\")\n",
    "plot!(ΔxTN_OR76.+xTN_3σ_ell_OR7, ΔyTN_OR76.+yTN_3σ_ell_OR7, label=\"OR7 (3-σ)\")\n",
    "xlabel!(\"Delay [us]\")\n",
    "ylabel!(\"Doppler [Hz]\")\n",
    "#yca = year(julian2datetime(jd0 + t_2020(x_OR7)))\n",
    "#mca = monthname(julian2datetime(jd0 + t_2020(x_OR7)))\n",
    "title!(\"Goldstone March 2021 radar observations predictions\")"
   ]
  },
  {
   "cell_type": "markdown",
   "metadata": {},
   "source": [
    "# Cartesian coordinates to Keplerian elements transformation"
   ]
  },
  {
   "cell_type": "code",
   "execution_count": null,
   "metadata": {},
   "outputs": [],
   "source": [
    "ss16asteph_0 = ss16asteph((jd0-J2000)*daysec)\n",
    "xs0 = ss16asteph_0[union(3su-2:3su,3(N-1+su)-2:3(N-1+su))]"
   ]
  },
  {
   "cell_type": "code",
   "execution_count": null,
   "metadata": {},
   "outputs": [],
   "source": [
    "NEOs.initialcond(dq)"
   ]
  },
  {
   "cell_type": "code",
   "execution_count": null,
   "metadata": {},
   "outputs": [],
   "source": [
    "ϵ0_deg = 84381.448/3600"
   ]
  },
  {
   "cell_type": "code",
   "execution_count": null,
   "metadata": {},
   "outputs": [],
   "source": [
    "m_eq2ecl = Rx(deg2rad(ϵ0_deg))"
   ]
  },
  {
   "cell_type": "code",
   "execution_count": null,
   "metadata": {},
   "outputs": [],
   "source": [
    "m_xv_eq2ecl = hcat(vcat(m_eq2ecl, zeros(3,3)), vcat(zeros(3,3), m_eq2ecl))"
   ]
  },
  {
   "cell_type": "code",
   "execution_count": null,
   "metadata": {},
   "outputs": [],
   "source": [
    "q0_197 = zeros(6)\n",
    "q0_197[1:3] .= [-0.9633018953468989, 0.5100289806011301, 0.16528024397505386]\n",
    "q0_197[4:6] .= [-0.0071188720570829036, -0.012061235689040535, -0.0046695143453363164]\n",
    "q0_197"
   ]
  },
  {
   "cell_type": "code",
   "execution_count": null,
   "metadata": {},
   "outputs": [],
   "source": [
    "#xas0 = m_xv_eq2ecl*( q0_197 + (jt_scaling.*dq)[1:6] - xs0 ) # taking S197 initial conditions, useful to check vs JPL elements\n",
    "xas0 = m_xv_eq2ecl*(  NEOs.initialcond(jt_scaling.*dq)[1:6] - xs0  )"
   ]
  },
  {
   "cell_type": "code",
   "execution_count": null,
   "metadata": {},
   "outputs": [],
   "source": [
    "# Solution #197 elements\n",
    "\n",
    "EPOCH_JPL197 = 2454733.5\n",
    "EC_JPL197 = .1911952942528226;  QR_JPL197 = .7460724385331012;  TP_JPL197 = 2454894.912507658200\n",
    "OM_JPL197 = 204.4460284242489;  W_JPL197 = 126.401880836064;  IN_JPL197 = 3.331369228495799\n",
    "kep_JPL197 = [EC_JPL197, QR_JPL197, TP_JPL197, OM_JPL197, W_JPL197, IN_JPL197]"
   ]
  },
  {
   "cell_type": "code",
   "execution_count": null,
   "metadata": {},
   "outputs": [],
   "source": [
    "ec0 = eccentricity(xas0..., μ[su], 0.0)\n",
    "a0 = semimajoraxis(xas0..., μ[su], 0.0)\n",
    "qr0 = a0*(1-ec0)\n",
    "tp0 = timeperipass(2.4547335e6, xas0..., μ[su], 0.0)\n",
    "Ω0 = rad2deg(longascnode(xas0...))\n",
    "ω0 = rad2deg(argperi(xas0..., μ[su], 0.0))\n",
    "i0 = rad2deg(inclination(xas0...))\n",
    "A20 = jt_scaling[7]*dq[7]\n",
    "kep_OR6 = [ec0(x_OR6), qr0(x_OR6), tp0(x_OR6), Ω0(x_OR6), ω0(x_OR6), i0(x_OR6), A20(x_OR6)]\n",
    "kep_OR7 = [ec0(x_OR7), qr0(x_OR7), tp0(x_OR7), Ω0(x_OR7), ω0(x_OR7), i0(x_OR7), A20(x_OR7)]\n",
    "kep_197 = [ec0(), qr0(), tp0(), Ω0(), ω0(), i0(), A20()]"
   ]
  },
  {
   "cell_type": "code",
   "execution_count": null,
   "metadata": {},
   "outputs": [],
   "source": [
    "(kep_JPL197 .- kep_OR6[1:6])"
   ]
  },
  {
   "cell_type": "code",
   "execution_count": null,
   "metadata": {},
   "outputs": [],
   "source": [
    "(kep_JPL197 .- kep_197[1:6])./eps.(kep_JPL197)"
   ]
  },
  {
   "cell_type": "code",
   "execution_count": null,
   "metadata": {},
   "outputs": [],
   "source": [
    "kep0 = [ec0, qr0, tp0, Ω0, ω0, i0, A20];"
   ]
  },
  {
   "cell_type": "code",
   "execution_count": null,
   "metadata": {},
   "outputs": [],
   "source": [
    "TaylorSeries.jacobian(kep0)'"
   ]
  },
  {
   "cell_type": "code",
   "execution_count": null,
   "metadata": {},
   "outputs": [],
   "source": [
    "t_car2kep(x) = TaylorSeries.jacobian(kep0, x)'\n",
    "t_car2kep() = TaylorSeries.jacobian(kep0)'"
   ]
  },
  {
   "cell_type": "code",
   "execution_count": null,
   "metadata": {},
   "outputs": [],
   "source": [
    "t_car2kep()"
   ]
  },
  {
   "cell_type": "code",
   "execution_count": null,
   "metadata": {},
   "outputs": [],
   "source": [
    "t_car2kep() .- TaylorSeries.jacobian(kep0)'"
   ]
  },
  {
   "cell_type": "code",
   "execution_count": null,
   "metadata": {},
   "outputs": [],
   "source": [
    "Γ_O7_kep = (t_car2kep(x_O7)')*Γ_O7*(t_car2kep(x_O7));\n",
    "Γ_O6_kep = (t_car2kep(x_O6)[1:6,1:6]')*Γ_O6*t_car2kep(x_O6)[1:6,1:6];\n",
    "Γ_OR7_kep = (t_car2kep(x_OR7)')*Γ_OR7*(t_car2kep(x_OR7));\n",
    "Γ_OR6_kep = (t_car2kep(x_OR6)[1:6,1:6]')*Γ_OR6*t_car2kep(x_OR6)[1:6,1:6];"
   ]
  },
  {
   "cell_type": "code",
   "execution_count": null,
   "metadata": {},
   "outputs": [],
   "source": [
    "for (x, Γ_kep) in [(x_O6, Γ_O6_kep), (x_OR6, Γ_OR6_kep), (x_O7, Γ_O7_kep), (x_OR7, Γ_OR7_kep)]\n",
    "    @show kep0(x) sqrt.(diag(Γ_kep))\n",
    "    println(\"* ----===OOO===--- *\")\n",
    "end"
   ]
  },
  {
   "cell_type": "raw",
   "metadata": {},
   "source": [
    "###OR7\n",
    "0.19119530(404) \\pm 5.86\n",
    "0.74607243(020) \\pm 5.15\n",
    "2454894.91251(844) \\pm 5.94\n",
    "204.4460(252) \\pm 2.30\n",
    "126.4018(834) \\pm 2.23\n",
    "3.331369(536) \\pm 4.08\n",
    "-4.96 \\pm 2.74\n",
    "\n",
    "###O7\n",
    "0.1911953(313) \\pm 4.13\n",
    "0.7460724(075) \\pm 3.66\n",
    "2454894.9125(294) \\pm 1.67\n",
    "204.4460(471) \\pm 3.01\n",
    "126.4018(682) \\pm 2.70\n",
    "3.33136(700) \\pm 2.69\n",
    "-6.50 \\pm 5.77\n",
    "\n",
    "###OR6\n",
    "0.19119529(574) \\pm 3.66\n",
    "0.74607243(710) \\pm 3.47\n",
    "2454894.91250(826) \\pm 1.91\n",
    "204.4460(323) \\pm 2.26\n",
    "126.4018(772) \\pm 2.20\n",
    "3.331369(163) \\pm 3.51\n",
    "\n",
    "###O6\n",
    "0.1911953(288) \\pm 4.12e-8\n",
    "0.7460724(072) \\pm 3.66e-8\n",
    "2454894.9125(174) \\pm 1.29e-5\n",
    "204.4460(402) \\pm 2.94e-5\n",
    "126.4018(733) \\pm 2.66e-5\n",
    "3.33136(738) \\pm 2.67e-6"
   ]
  },
  {
   "cell_type": "code",
   "execution_count": null,
   "metadata": {},
   "outputs": [],
   "source": [
    "kep0(x_OR7)"
   ]
  },
  {
   "cell_type": "code",
   "execution_count": null,
   "metadata": {},
   "outputs": [],
   "source": [
    "sqrt(1/(inv(Γ_OR7)[7,7]))"
   ]
  },
  {
   "cell_type": "code",
   "execution_count": null,
   "metadata": {},
   "outputs": [],
   "source": [
    "sqrt(1/(inv(Γ_OR7_kep)[7,7]))"
   ]
  },
  {
   "cell_type": "code",
   "execution_count": null,
   "metadata": {},
   "outputs": [],
   "source": [
    "sqrt.(diag(Γ_OR7_kep))"
   ]
  },
  {
   "cell_type": "code",
   "execution_count": null,
   "metadata": {},
   "outputs": [],
   "source": [
    "kep0(x_OR6)"
   ]
  },
  {
   "cell_type": "code",
   "execution_count": null,
   "metadata": {},
   "outputs": [],
   "source": [
    "sqrt.(diag(Γ_OR6_kep))"
   ]
  },
  {
   "cell_type": "code",
   "execution_count": null,
   "metadata": {},
   "outputs": [],
   "source": [
    "Γ_kep_JPL199 = [ 2.858062040774483E-17 -2.531903029559859E-17   2.451271598753632E-14     5.341143529000106E-14     -5.064059304794175E-14     -2.316088496620918E-16     -9.159706240530915E-23;\n",
    "-2.531903029559859E-17 2.250437378457998E-17   -2.122266051203493E-14     -5.100944859184798E-14     4.826834522209508E-14     2.76636664162405E-16     7.744081722922498E-23;\n",
    " 2.451271598753632E-14 -2.122266051203493E-14   2.501437350446983E-11     1.16213242311946E-11     -1.057653022558682E-11     4.597741246907787E-13     -1.026132427113056E-19;\n",
    " 5.341143529000106E-14 -5.100944859184798E-14   1.16213242311946E-11     4.437388022822618E-10     -4.338840441053813E-10     -6.817498150073878E-12     -4.324000765783613E-21;\n",
    "-5.064059304794175E-14 4.826834522209508E-14   -1.057653022558682E-11     -4.338840441053813E-10     4.261149273549589E-10     6.697032883689781E-12     1.139615135464918E-20;\n",
    "-2.316088496620918E-16 2.76636664162405E-16   4.597741246907787E-13     -6.817498150073878E-12     6.697032883689781E-12     1.22672053287042E-13     -2.524941685627351E-21;\n",
    "-9.159706240530915E-23 7.744081722922498E-23   -1.026132427113056E-19     -4.324000765783613E-21     1.139615135464918E-20     -2.524941685627351E-21     4.846398125111792E-28]\n"
   ]
  },
  {
   "cell_type": "code",
   "execution_count": null,
   "metadata": {},
   "outputs": [],
   "source": [
    "Γ_kep_JPL201 = [ 1.047666119400409E-17 -9.926055175063387E-18  4.909881116021864E-15  4.653843296950616E-14 -4.259843629461694E-14 -6.166837591066471E-16  7.335166335864171E-26\n",
    "-9.926055175063387E-18  9.410682503015075E-18 -4.591352679580688E-15 -4.484904345608430E-14  4.112408300414402E-14  5.980282716461667E-16 -2.967424019160920E-25\n",
    " 4.909881116021864E-15 -4.591352679580688E-15  3.593909565851593E-12  5.892040879932584E-12 -3.541800585772594E-12  1.014282699780642E-14 -2.345777043520376E-21\n",
    " 4.653843296950616E-14 -4.484904345608430E-14  5.892040879932584E-12  4.259262167985737E-10 -4.159320593828374E-10 -6.673698596512044E-12  2.186907592906685E-20\n",
    "-4.259843629461694E-14  4.112408300414402E-14 -3.541800585772594E-12 -4.159320593828374E-10  4.079345990507304E-10  6.583991773293156E-12 -2.094895343691202E-20\n",
    "-6.166837591066471E-16  5.980282716461667E-16  1.014282699780642E-14 -6.673698596512044E-12  6.583991773293156E-12  1.089504866028434E-13 -4.103375903026154E-22\n",
    " 7.335166335864171E-26 -2.967424019160920E-25 -2.345777043520376E-21  2.186907592906685E-20 -2.094895343691202E-20 -4.103375903026154E-22  1.511466172500938E-29]"
   ]
  },
  {
   "cell_type": "code",
   "execution_count": null,
   "metadata": {},
   "outputs": [],
   "source": [
    "sqrt.(diag(Γ_kep_JPL201))"
   ]
  },
  {
   "cell_type": "code",
   "execution_count": null,
   "metadata": {},
   "outputs": [],
   "source": [
    "sqrt(inv(inv(Γ_kep_JPL201)[7,7]))"
   ]
  },
  {
   "cell_type": "code",
   "execution_count": null,
   "metadata": {},
   "outputs": [],
   "source": [
    "Γ_OR7_kep"
   ]
  },
  {
   "cell_type": "code",
   "execution_count": null,
   "metadata": {},
   "outputs": [],
   "source": [
    "(Γ_kep_JPL199 .- Γ_OR7_kep)./Γ_kep_JPL199"
   ]
  },
  {
   "cell_type": "code",
   "execution_count": null,
   "metadata": {},
   "outputs": [],
   "source": [
    "Γ_OR7_kep ./ Γ_kep_JPL199"
   ]
  },
  {
   "cell_type": "code",
   "execution_count": null,
   "metadata": {},
   "outputs": [],
   "source": [
    "kep_OR7"
   ]
  },
  {
   "cell_type": "code",
   "execution_count": null,
   "metadata": {},
   "outputs": [],
   "source": [
    "orbel_OR7_TN = kep_OR7 .+ dq"
   ]
  },
  {
   "cell_type": "code",
   "execution_count": null,
   "metadata": {},
   "outputs": [],
   "source": [
    "ady_kep_au_My = 1e6yr*yarkp2adot(orbel_OR7_TN[7], orbel_OR7_TN[2]/(1.0 - orbel_OR7_TN[1]), orbel_OR7_TN[1], μ[1]) # au/Myr"
   ]
  },
  {
   "cell_type": "code",
   "execution_count": null,
   "metadata": {},
   "outputs": [],
   "source": [
    "ady_kep_m_y = 1e3au*yr*yarkp2adot(orbel_OR7_TN[7], orbel_OR7_TN[2]/(1.0 - orbel_OR7_TN[1]), orbel_OR7_TN[1], μ[1]) #m/yr"
   ]
  },
  {
   "cell_type": "code",
   "execution_count": null,
   "metadata": {},
   "outputs": [],
   "source": [
    "t_kep2ady(x, ady_kep) = TaylorSeries.gradient(ady_kep)(x)"
   ]
  },
  {
   "cell_type": "code",
   "execution_count": null,
   "metadata": {},
   "outputs": [],
   "source": [
    "sqrt( (t_kep2ady(kep_OR7, ady_kep_au_My)')*Γ_OR7_kep*t_kep2ady(kep_OR7, ady_kep_au_My) )"
   ]
  },
  {
   "cell_type": "code",
   "execution_count": null,
   "metadata": {},
   "outputs": [],
   "source": [
    "sqrt( (t_kep2ady(kep_OR7, ady_kep_m_y)')*Γ_OR7_kep*t_kep2ady(kep_OR7, ady_kep_m_y) )"
   ]
  },
  {
   "cell_type": "markdown",
   "metadata": {},
   "source": [
    "$(-23 \\pm 11)\\times 10^{-4}$au/Myr\n",
    "\n",
    "\n",
    "$(-341 \\pm 158)$m/yr"
   ]
  },
  {
   "cell_type": "code",
   "execution_count": null,
   "metadata": {},
   "outputs": [],
   "source": []
  },
  {
   "cell_type": "markdown",
   "metadata": {},
   "source": [
    "# Gnuplot"
   ]
  },
  {
   "cell_type": "code",
   "execution_count": null,
   "metadata": {},
   "outputs": [],
   "source": [
    "using Gnuplot"
   ]
  },
  {
   "cell_type": "markdown",
   "metadata": {},
   "source": [
    "## 2029 B-plane, zoom out"
   ]
  },
  {
   "cell_type": "code",
   "execution_count": null,
   "metadata": {
    "scrolled": true
   },
   "outputs": [],
   "source": [
    "nomps = 0.08\n",
    "\n",
    "@gp \"unset grid\" :-\n",
    "#@gp :- \"set si sq\" :-\n",
    "@gp :- \"set size ratio -1\" :-\n",
    "@gp :- \"set key top right outside\" :- # inside box\" :-\n",
    "#@gp :- xrange=[1.48, 1.50] :-\n",
    "#@gp :- yrange=[7.1, 7.6] :-\n",
    "@gp :- \"set xlabel '\\$\\\\xi\\$ [\\$R_\\\\oplus\\$]'\" :-\n",
    "@gp :- \"set ylabel '\\$\\\\zeta\\$ [\\$R_\\\\oplus\\$]'\" :-\n",
    "\n",
    "@gp :- \"set style fill transparent solid 0.35 noborder\" :-\n",
    "@gp :- \"set style circle radius $nomps\" :-\n",
    "\n",
    "#@gp :-B_dot_ξv_O6*au/RE B_dot_ζv_O6*au/RE \"pt 7 ps 0.2 lt 4 t 'JT O6'\" :-\n",
    "#@gp :- B_ξ_3σ_ell_O6 B_ζ_3σ_ell_O6 \"w l lw 3 lt 4 t 'O6 3-\\$\\\\sigma\\$'\" :-\n",
    "#@gp :- B_dot_ξ(x_O6)*au/RE B_dot_ζ(x_O6)*au/RE \"pt 7 ps 0.75 lt 4  t 'O6 nominal'\" :-\n",
    "\n",
    "#@gp :- B_dot_ξv_O7*au/RE B_dot_ζv_O7*au/RE \"pt 7 ps 0.2 lt 1 t 'JT O7'\" :-\n",
    "#@gp :- B_ξ_3σ_ell_O7 B_ζ_3σ_ell_O7 \"w l lw 3 lt 1 t 'O7 3-\\$\\\\sigma\\$'\" :-\n",
    "#@gp :- B_dot_ξ(x_O7)*au/RE B_dot_ζ(x_O7)*au/RE \"pt 7 ps 0.75 lt 1  t 'O7 nominal'\" :-\n",
    "\n",
    "#@gp :- B_dot_ξv_OR6*au/RE B_dot_ζv_OR6*au/RE \"pt 7 ps 0.2 lt 3 t 'JT OR6'\" :-\n",
    "#@gp :- B_ξ_3σ_ell_OR6 B_ζ_3σ_ell_OR6 \"w l lw 3 lt 3 t 'OR6 3-\\$\\\\sigma\\$'\" :-\n",
    "#@gp :- B_dot_ξ(x_OR6)*au/RE B_dot_ζ(x_OR6)*au/RE \"pt 7 ps 0.75 lt 3 t 'OR6 nominal'\" :-\n",
    "\n",
    "#@gp :- B_dot_ξv_OR7*au/RE B_dot_ζv_OR7*au/RE \"pt 7 ps 0.2 lt 2 t 'JT OR7'\" :-\n",
    "\n",
    "#@gp :- cos.(angv) sin.(angv) \"w l lt 6 dashtype 2 t'Earth radius'\" :-\n",
    "@gp :- B_2029.ξ(x_OR7) B_2029.ζ(x_OR7) \"w circle lc rgb 'white' fs solid 1.0 border lt -1 t 'OR7 nominal'\" :-\n",
    "@gp :- B_ξ_5σ_ell_OR7 B_ζ_5σ_ell_OR7 \"w l lw 2 lc rgb 'gray' t 'OR7 5-\\$\\\\sigma\\$'\" :-\n",
    "@gp :- B_ξ_3σ_ell_OR7 B_ζ_3σ_ell_OR7 \"w l lw 2 lt 2 lc rgb 'black' t 'OR7 3-\\$\\\\sigma\\$'\" :-\n",
    "\n",
    "@gp :- B_2029.b()*cos.(angv) B_2029.b()*sin.(angv) \"w l lw 2 lc rgb 'black' dashtype 1 t'Earth cross section'\" :-\n",
    "#@gp :- R_Valsecchi_6_5*cos.(angv) (D_Valsecchi_6_5.+R_Valsecchi_6_5*sin.(angv)) \"w l lt 3 t'Valsecchi circle 6:5'\" :-\n",
    "@gp :- R_Valsecchi_8_7*cos.(angv) (D_Valsecchi_8_7.+R_Valsecchi_8_7*sin.(angv)) \"w l lw 2 lc rgb 'black' dashtype 3 t 'Valsecchi circle 8:7'\" :-\n",
    "@gp :- R_Valsecchi_7_6*cos.(angv) (D_Valsecchi_7_6.+R_Valsecchi_7_6*sin.(angv)) \"w l lw 2 lc rgb 'black' dashtype 6 t 'Valsecchi circle 7:6'\"\n",
    "\n",
    "#Gnuplot.save(term=\"epslatex standalone color dashed size 7in,6in font \\\",12\\\"\", output=\"bplane_2029_RE__.tex\")\n",
    "#run(`pdflatex bplane_2029_RE__.tex`)"
   ]
  },
  {
   "cell_type": "markdown",
   "metadata": {},
   "source": [
    "## 2029 B-plane, zoom IN"
   ]
  },
  {
   "cell_type": "code",
   "execution_count": null,
   "metadata": {
    "tags": []
   },
   "outputs": [],
   "source": [
    "jtps = 0.5\n",
    "ellw = 5.0\n",
    "nomps = 1.0\n",
    "angv_vc = (pi/4):0.001:(pi/2);\n",
    "\n",
    "@gp \"unset grid\" :-\n",
    "#@gp \"set si sq\" :-\n",
    "#@gp :- \"set size ratio 1.2\" :-\n",
    "@gp :- \"set key top right outside\" :-\n",
    "@gp :- xrange=[9460, 9485] :-\n",
    "@gp :- xrange=[9450, 9490] :-\n",
    "#@gp :- yrange=[45000, 49000] :-\n",
    "#@gp :- yrange=[46200, 48100] :-\n",
    "@gp :- \"set xlabel '\\$\\\\xi\\$ [km]'\" :-\n",
    "@gp :- \"set ylabel '\\$\\\\zeta\\$ [km]'\" :-\n",
    "\n",
    "@gp :- \"set xtics 10\" :-\n",
    "@gp :- \"set ytics 400\" :-\n",
    "\n",
    "@gp :- \"set style fill transparent solid 0.35 noborder\" :-\n",
    "@gp :- \"set style circle radius $nomps\" :-\n",
    "\n",
    "#@gp :- B_dot_ξv_O7*RE B_dot_ζv_O7*RE \"pt 7 ps $jtps lt 4 t 'O7 (MC sampling)'\" :-\n",
    "#@gp :- B_dot_ξv_O6*RE B_dot_ζv_O6*RE \"pt 7 ps $jtps lt 1 t 'O6 (MC sampling)'\" :-\n",
    "#@gp :- B_dot_ξv_OR6*RE B_dot_ζv_OR6*RE \"pt 7 ps $jtps lt 3 t 'OR6 (MC sampling)'\" :-\n",
    "#@gp :- B_dot_ξv_OR7*RE B_dot_ζv_OR7*RE \"pt 7 ps $jtps lc rgb 'black' t 'OR7 (MC sampling)'\" :-\n",
    "#@gp :- B_dot_ξv_OR7_NEW*RE B_dot_ζv_OR7_NEW*RE \"pt 7 ps $jtps lc 4 t 'OR7 (MC sampling)'\" :-\n",
    "\n",
    "#@gp :- B_ξ_3σ_ell_O6*RE B_ζ_3σ_ell_O6*RE \"w l lw $ellw lt 1 t 'O6 (3-\\$\\\\sigma\\$)'\" :-\n",
    "#@gp :- B_ξ_3σ_ell_O7*RE B_ζ_3σ_ell_O7*RE \"w l lw $ellw lt 4 t 'O7 (3-\\$\\\\sigma\\$)'\" :-\n",
    "@gp :- B_ξ_3σ_ell_OR6*RE B_ζ_3σ_ell_OR6*RE \"w l lw $ellw lt 3 t 'OR6 (3-\\$\\\\sigma\\$)'\" :-\n",
    "@gp :- B_ξ_3σ_ell_OR7*RE B_ζ_3σ_ell_OR7*RE \"w l lw $ellw lt 2 lc rgb 'black' t 'OR7 (3-\\$\\\\sigma\\$)'\" :-\n",
    "@gp :- B_ξ_3σ_ell_OR7_NEW*RE B_ζ_3σ_ell_OR7_NEW*RE \"w l lw $ellw lt 4 lc 4 t 'OR7 + 2021 data (3-\\$\\\\sigma\\$)'\" :-\n",
    "#@gp :- B_ξ_5σ_ell_OR7*RE B_ζ_5σ_ell_OR7*RE \"w l lw $ellw lc rgb 'gray' t 'OR7 (5-\\$\\\\sigma\\$)'\" :-\n",
    "\n",
    "#@gp :- B_2029.ξ(x_O6)*RE B_2029.ζ(x_O6)*RE \"w circle lt 1 fs solid 1.0 border lt -1 t 'O6 nominal'\" :-\n",
    "#@gp :- B_2029.ξ(x_O7)*RE B_2029.ζ(x_O7)*RE \"w circle lt 4 fs solid 1.0 border lt -1  t 'O7 nominal'\" :-\n",
    "@gp :- B_2029.ξ(x_OR6)*RE B_2029.ζ(x_OR6)*RE \"w circle lt 3 fs solid 1.0 border lt -1 t 'OR6 (nominal)'\" :-\n",
    "@gp :- B_2029.ξ(x_OR7)*RE B_2029.ζ(x_OR7)*RE \"w circle lc rgb 'gray' fs solid 1.0 border lt -1 t 'OR7 (nominal)'\" :-\n",
    "@gp :- B_2029.ξ(x_OR7_NEW)*RE B_2029.ζ(x_OR7_NEW)*RE \"w circle lc 4 fs solid 1.0 border lt -1 t 'OR7 + 2021 data (nominal)'\" :-\n",
    "\n",
    "#@gp :- RE*R_Valsecchi_8_7*cos.(angv_vc) RE*(D_Valsecchi_8_7.+R_Valsecchi_8_7*sin.(angv_vc)) \"w l lw 2 lc rgb 'black' dashtype 3 t 'Valsecchi circle 8:7'\" :-\n",
    "@gp :- RE*R_Valsecchi_7_6*cos.(angv_vc) RE*(D_Valsecchi_7_6.+R_Valsecchi_7_6*sin.(angv_vc)) \"w l lw 2 lc rgb 'black' dashtype 6 t '2036 Valsecchi circle'\"\n",
    "@gp :- RE*R_Valsecchi_39_34*cos.(angv_vc) RE*(D_Valsecchi_39_34.+R_Valsecchi_39_34*sin.(angv_vc)) \"w l lw 2 lc rgb 'black' dashtype 4 t '2068 Valsecchi circle'\"\n",
    "\n",
    "#@gp :- cos.(angv) sin.(angv) \"w l lt 6 dashtype 2 t'Earth radius'\" :-\n",
    "#@gp :- b_E_2029()*cos.(angv) b_E_2029()*sin.(angv) \"w l lw 2 lc rgb 'black' dashtype 6 t'Earth cross section'\"\n",
    "\n",
    "#Gnuplot.save(term=\"epslatex standalone color dashed size 8in,6in font \\\",12\\\"\", output=\"bplane_2029_RE_zoom_PDC2021.tex\")\n",
    "#run(`pdflatex bplane_2029_RE_zoom_PDC2021.tex`)"
   ]
  },
  {
   "cell_type": "markdown",
   "metadata": {},
   "source": [
    "## Mar 2021 RA/DEC obs prediction, relative to nominal OR6 orbit"
   ]
  },
  {
   "cell_type": "code",
   "execution_count": null,
   "metadata": {
    "scrolled": true
   },
   "outputs": [],
   "source": [
    "Gnuplot.options.gpviewer = true\n",
    "\n",
    "jtps = 0.25\n",
    "ellw = 4.0\n",
    "nomps = 1.5\n",
    "angv_vc = (pi/4):0.0025:(pi/2);\n",
    "\n",
    "yTN = dec_last_2020_mpc\n",
    "xTN = ra_last_2020_mpc\n",
    "\n",
    "@show xTN(x_OR6)/3600, yTN(x_OR6)/3600\n",
    "@show xTN(x_OR7)/3600, yTN(x_OR7)/3600\n",
    "\n",
    "# Jacobian of transformation from initial conditions to xTN, yTN\n",
    "t_x02xyTN = hcat(TaylorSeries.gradient(xTN), TaylorSeries.gradient(yTN))\n",
    "@show size(t_x02xyTN)\n",
    "\n",
    "# transform cov matrix to d_CA_2020, t_CA_2020 coords\n",
    "Γ_xyTN_OR7 = Hermitian(t_x02xyTN(x_OR7)'*Γ_OR7*(t_x02xyTN(x_OR7)))\n",
    "Γ_xyTN_OR6 = Hermitian(t_x02xyTN(x_OR6)[1:6,:]'*Γ_OR6*(t_x02xyTN(x_OR6)[1:6,:]))\n",
    "# get cholesky-L factor\n",
    "L_xyTN_OR7 = cholesky(Γ_xyTN_OR7).L\n",
    "L_xyTN_OR6 = cholesky(Γ_xyTN_OR6).L\n",
    "\n",
    "@show sqrt.(diag(Γ_xyTN_OR6))\n",
    "@show sqrt.(diag(Γ_xyTN_OR7))\n",
    "\n",
    "xyTN_v_OR6 = Matrix{Float64}(undef, 1000, 2)\n",
    "xyTN_v_OR7 = Matrix{Float64}(undef, 1000, 2)\n",
    "for i in 1:1000\n",
    "    xyTN_v_OR6[i,:] = L_xyTN_OR6*randn(2)\n",
    "    xyTN_v_OR7[i,:] = L_xyTN_OR7*randn(2)\n",
    "end\n",
    "\n",
    "rndv_2sph_xTN = 3*cos.(angv)\n",
    "rndv_2sph_yTN = 3*sin.(angv);\n",
    "\n",
    "xTN_3σ_ell_OR6 = (L_xyTN_OR6[1,1]*rndv_2sph_xTN .+ L_xyTN_OR6[1,2]*rndv_2sph_yTN)\n",
    "yTN_3σ_ell_OR6 = (L_xyTN_OR6[2,1]*rndv_2sph_xTN .+ L_xyTN_OR6[2,2]*rndv_2sph_yTN)\n",
    "#\n",
    "xTN_3σ_ell_OR7 = (L_xyTN_OR7[1,1]*rndv_2sph_xTN .+ L_xyTN_OR7[1,2]*rndv_2sph_yTN)\n",
    "yTN_3σ_ell_OR7 = (L_xyTN_OR7[2,1]*rndv_2sph_xTN .+ L_xyTN_OR7[2,2]*rndv_2sph_yTN);\n",
    "\n",
    "ΔxTN_OR76 = xTN(x_OR7)-xTN(x_OR6)\n",
    "ΔyTN_OR76 = yTN(x_OR7)-yTN(x_OR6)\n",
    "\n",
    "@gp \"set multiplot\"\n",
    "#@gp :- \"set title 'Mt. Lemmon (G96), epoch: 2020-06-08 04:22 UTC'\" :-\n",
    "@gp :- \"unset grid\" :-\n",
    "@gp :- \"set si sq\" :-\n",
    "#@gp :- \"set size ratio -1\" :-\n",
    "@gp :- \"set key top right outside\" :-\n",
    "@gp :- xrange=[-0.2,0.06] :-\n",
    "@gp :- yrange=[-0.02,0.07] :-\n",
    "#@gp :- \"set xlabel '\\$\\\\alpha\\\\cos(\\\\delta)-\\\\alpha_\\\\text{OR6}\\\\cos(\\\\delta_\\\\text{OR6})\\$ [arcsec]'\" :-\n",
    "#@gp :- \"set ylabel '\\$\\\\delta-\\\\delta_\\\\text{OR6}\\$ [arcsec]'\" :-\n",
    "@gp :- \"set xlabel '\\$\\\\alpha\\\\cos(\\\\delta)\\$ [arcsec]'\" :-\n",
    "@gp :- \"set ylabel '\\$\\\\delta\\$ [arcsec]'\" :-\n",
    "\n",
    "\n",
    "#@gp :- \"set xtics 20\" :-\n",
    "\n",
    "#@gp :- \"set style fill transparent solid 0.35 noborder\" :-\n",
    "#@gp :- \"set style circle radius $nomps\" :-\n",
    "\n",
    "@gp :- 1 ΔxTN_OR76.+xyTN_v_OR7[:,1] ΔyTN_OR76.+xyTN_v_OR7[:,2] \"pt 7 ps $jtps lt -1 t '7DOF (MC sampling)'\" :-\n",
    "@gp :- xyTN_v_OR6[:,1] xyTN_v_OR6[:,2] \"pt 7 ps $jtps lt 3 t '6DOF (MC sampling)'\" :-\n",
    "\n",
    "@gp :- ΔxTN_OR76.+ xTN_3σ_ell_OR7 ΔyTN_OR76.+ yTN_3σ_ell_OR7 \"w l lw $ellw lc rgb 'black' t '7DOF (3-\\$\\\\sigma\\$)'\" :-\n",
    "@gp :- xTN_3σ_ell_OR6 yTN_3σ_ell_OR6 \"w l lw $ellw lt 3 t '6DOF (3-\\$\\\\sigma\\$)'\" :-\n",
    "\n",
    "@gp :- 3radec_xσ_neodys[:,1] 3radec_xσ_neodys[:,2] \"w l lw $ellw lt 4 t 'NEODyS (3-\\$\\\\sigma\\$)'\" :-\n",
    "\n",
    "@gp :- ΔxTN_OR76 ΔyTN_OR76 \"w circle lc rgb 'white' fs solid 1.0 border lt -1 t '7DOF (nominal)'\" :-\n",
    "\n",
    "@gp :- [ra_res_nom_OR6] [dec_res_nom_OR6] \"pt 1 ps 3 lw 4 lc rgb 'red' t 'observed'\" :-\n",
    "\n",
    "@gp :- 2 \"set origin 0.2125, 0.42\" :-\n",
    "@gp :- \"set size 0.5, 0.6\" :-\n",
    "@gp :- xrange=[-0.003, 0.003] :-\n",
    "@gp :- yrange=[-0.022, 0.022] :-\n",
    "@gp :- \"unset xlabel\" :-\n",
    "@gp :- \"unset ylabel\" :-\n",
    "#@gp :- \"unset title\" :-\n",
    "@gp :- \"set xtics ('-3\\$\\\\cdot 10^{-3}\\$' -0.003, \\\"0\\\" 0, '3\\$\\\\cdot 10^{-3}\\$' 0.003)\" :-\n",
    "@gp :- \"set ytics ('-1.75\\$\\\\cdot 10^{-2}\\$' -0.0175, \\\"0\\\" 0, '1.75\\$\\\\cdot 10^{-2}\\$' 0.0175)\" :-\n",
    "\n",
    "@gp :- ΔxTN_OR76.+xyTN_v_OR7[:,1] ΔyTN_OR76.+xyTN_v_OR7[:,2] \"pt 7 ps $jtps lt -1 not\" :-\n",
    "@gp :- ΔxTN_OR76.+xTN_3σ_ell_OR7 ΔyTN_OR76.+yTN_3σ_ell_OR7 \"w l lw $ellw lc rgb 'black' not\" :-\n",
    "@gp :- xTN_3σ_ell_OR6 yTN_3σ_ell_OR6 \"w l lw $ellw lt 3 not\" :-\n",
    "@gp :- xyTN_v_OR6[:,1] xyTN_v_OR6[:,2] \"pt 7 ps $jtps lt 3 not\" :-\n",
    "@gp :- xTN_3σ_ell_OR6 yTN_3σ_ell_OR6 \"w l lw $ellw lt 3 not\" :-\n",
    "@gp :- 3radec_xσ_neodys[:,1] 3radec_xσ_neodys[:,2] \"w l lw $ellw lt 4 not\" :-\n",
    "@gp :- [ra_res_nom_OR6] [dec_res_nom_OR6] \"pt 1 ps 3 lw 4 lc rgb 'red' not\"\n",
    "#@gp :- \"unset multiplot\"\n",
    "\n",
    "#Gnuplot.save(term=\"epslatex standalone color dashed size 7in,5in font \\\",11\\\"\", output=\"radec_2021.tex\")\n",
    "#run(`pdflatex radec_2021.tex`)\n",
    "\n",
    "Gnuplot.options.gpviewer = false;"
   ]
  },
  {
   "cell_type": "markdown",
   "metadata": {},
   "source": [
    "## March 2021 Goldstone radar (delay/Doppler) prediction, relative to nominal OR6 orbit"
   ]
  },
  {
   "cell_type": "code",
   "execution_count": null,
   "metadata": {
    "scrolled": true
   },
   "outputs": [],
   "source": [
    "Gnuplot.options.gpviewer = true\n",
    "\n",
    "jtps = 0.25\n",
    "ellw = 3.0\n",
    "nomps = 1.5\n",
    "angv_vc = (pi/4):0.0025:(pi/2);\n",
    "\n",
    "xTN = file_dict[\"vdel\"][1]\n",
    "yTN = file_dict[\"vdop\"][1]\n",
    "\n",
    "@show xTN(x_OR6), yTN(x_OR6)\n",
    "@show xTN(x_OR7), yTN(x_OR7)\n",
    "\n",
    "# Jacobian of transformation from initial conditions to xTN, yTN\n",
    "t_x02xyTN = hcat(TaylorSeries.gradient(xTN), TaylorSeries.gradient(yTN))\n",
    "@show size(t_x02xyTN)\n",
    "\n",
    "# transform cov matrix to d_CA_2020, t_CA_2020 coords\n",
    "Γ_xyTN_OR7 = Hermitian(t_x02xyTN(x_OR7)'*Γ_OR7*(t_x02xyTN(x_OR7)))\n",
    "Γ_xyTN_OR6 = Hermitian(t_x02xyTN(x_OR6)[1:6,:]'*Γ_OR6*(t_x02xyTN(x_OR6)[1:6,:]))\n",
    "# get cholesky-L factor\n",
    "L_xyTN_OR7 = cholesky(Γ_xyTN_OR7).L\n",
    "L_xyTN_OR6 = cholesky(Γ_xyTN_OR6).L\n",
    "\n",
    "@show sqrt.(diag(Γ_xyTN_OR6))\n",
    "@show sqrt.(diag(Γ_xyTN_OR7))\n",
    "\n",
    "xyTN_v_OR6 = Matrix{Float64}(undef, 1000, 2)\n",
    "xyTN_v_OR7 = Matrix{Float64}(undef, 1000, 2)\n",
    "for i in 1:1000\n",
    "    xyTN_v_OR6[i,:] = L_xyTN_OR6*randn(2)\n",
    "    xyTN_v_OR7[i,:] = L_xyTN_OR7*randn(2)\n",
    "end\n",
    "\n",
    "rndv_2sph_xTN = 3*cos.(angv)\n",
    "rndv_2sph_yTN = 3*sin.(angv)\n",
    "\n",
    "xTN_3σ_ell_OR6 = (L_xyTN_OR6[1,1]*rndv_2sph_xTN .+ L_xyTN_OR6[1,2]*rndv_2sph_yTN)\n",
    "yTN_3σ_ell_OR6 = (L_xyTN_OR6[2,1]*rndv_2sph_xTN .+ L_xyTN_OR6[2,2]*rndv_2sph_yTN)\n",
    "#\n",
    "xTN_3σ_ell_OR7 = (L_xyTN_OR7[1,1]*rndv_2sph_xTN .+ L_xyTN_OR7[1,2]*rndv_2sph_yTN)\n",
    "yTN_3σ_ell_OR7 = (L_xyTN_OR7[2,1]*rndv_2sph_xTN .+ L_xyTN_OR7[2,2]*rndv_2sph_yTN)\n",
    "\n",
    "#xTN_2p5σ_ell_OR7 = (2.5/3)*xTN_3σ_ell_OR7\n",
    "#yTN_2p5σ_ell_OR7 = (2.5/3)*yTN_3σ_ell_OR7\n",
    "\n",
    "ΔxTN_OR76 = xTN(x_OR7)-xTN(x_OR6)\n",
    "ΔyTN_OR76 = yTN(x_OR7)-yTN(x_OR6)\n",
    "\n",
    "@gp \"set multiplot\"\n",
    "@gp :- \"unset grid\" :-\n",
    "#@gp :- \"set title 'Radar astrometry: Goldstone (obs. epoch: 2021-06-03)'\" :-\n",
    "@gp :- \"set si sq\" :-\n",
    "#@gp :- \"set size ratio -1\" :-\n",
    "@gp :- \"set key top right outside\" :-\n",
    "@gp :- xrange=[-1500,500] :-\n",
    "@gp :- yrange=[-5,15] :-\n",
    "#@gp :- \"set xtics font \\\"Verdana,10\\\"\" :-\n",
    "@gp :- \"set xlabel '{Time-delay [\\$\\\\mu\\$s]}'\" :-\n",
    "@gp :- \"set ylabel '{Doppler shift [Hz]}'\" :-\n",
    "\n",
    "\n",
    "#@gp :- \"set xtics 20\" :-\n",
    "\n",
    "#@gp :- \"set style fill transparent solid 0.35 noborder\" :-\n",
    "#@gp :- \"set style circle radius $nomps\" :-\n",
    "\n",
    "@gp :- 1 ΔxTN_OR76.+xyTN_v_OR7[:,1] ΔyTN_OR76.+xyTN_v_OR7[:,2] \"pt 7 ps $jtps lt -1 t '7DOF (MC sampling)'\" :-\n",
    "@gp :- xyTN_v_OR6[:,1] xyTN_v_OR6[:,2] \"pt 7 ps $jtps lt 3 t '6DOF (MC sampling)'\" :-\n",
    "\n",
    "@gp :- ΔxTN_OR76.+xTN_3σ_ell_OR7 ΔyTN_OR76.+yTN_3σ_ell_OR7 \"w l lw $ellw lc rgb 'black' t '7DOF (3-\\$\\\\sigma\\$)'\" :-\n",
    "@gp :- xTN_3σ_ell_OR6 yTN_3σ_ell_OR6 \"w l lw $ellw lt 3 t '6DOF (3-\\$\\\\sigma\\$)'\" :-\n",
    "\n",
    "#@gp :- ΔxTN_OR76.+xTN_2p5σ_ell_OR7 ΔyTN_OR76.+yTN_2p5σ_ell_OR7 \"w l lw $ellw lc rgb 'red' t '7DOF (2.5-\\$\\\\sigma\\$)'\" :-\n",
    "\n",
    "@gp :- ΔxTN_OR76 ΔyTN_OR76 \"w circle lc rgb 'white' fs solid 1.0 border lt -1 t '7DOF (nominal)'\" :-\n",
    "#@gp :- [1.1243345490830308e8].-xTN(x_OR6) [(8560/2380)*6121.1974930763245].-yTN(x_OR6) \"pt 1 ps 3 lw 4 lc rgb 'red' t 'JPL 199 (nominal)'\" :-\n",
    "\n",
    "@gp :- 2 \"set origin 0.31, 0.5\" :-\n",
    "#@gp :- \"unset title\" :-\n",
    "@gp :- \"set size 0.415, 0.45\" :-\n",
    "@gp :- xrange=[-11, 11] :-\n",
    "@gp :- yrange=[-0.25, 0.25] :-\n",
    "@gp :- \"unset xlabel\" :-\n",
    "@gp :- \"unset ylabel\" :-\n",
    "@gp :- \"set xtics 10\" :-\n",
    "@gp :- \"set ytics 0.1\" :-\n",
    "\n",
    "@gp :- ΔxTN_OR76.+xyTN_v_OR7[:,1] ΔyTN_OR76.+xyTN_v_OR7[:,2] \"pt 7 ps $jtps lt -1 not\" :-\n",
    "@gp :- ΔxTN_OR76.+xTN_3σ_ell_OR7 ΔyTN_OR76.+yTN_3σ_ell_OR7 \"w l lw $ellw lc rgb 'black' not\" :-\n",
    "@gp :- xTN_3σ_ell_OR6 yTN_3σ_ell_OR6 \"w l lw $ellw lt 3 not\" :-\n",
    "@gp :- xyTN_v_OR6[:,1] xyTN_v_OR6[:,2] \"pt 7 ps $jtps lt 3 not\" :-\n",
    "@gp :- xTN_3σ_ell_OR6 yTN_3σ_ell_OR6 \"w l lw $ellw lt 3 not\"\n",
    "#@gp :- \"unset multiplot\"\n",
    "\n",
    "#Gnuplot.save(term=\"epslatex standalone color dashed size 7in,5in font \\\",12\\\"\", output=\"deldop_2021_Goldstone.tex\")\n",
    "#run(`pdflatex deldop_2021_Goldstone.tex`)\n",
    "\n",
    "Gnuplot.options.gpviewer = false;"
   ]
  },
  {
   "cell_type": "markdown",
   "metadata": {},
   "source": [
    "## April 2029 closest approach (CA) time and distance, relative to nominal OR6 orbit"
   ]
  },
  {
   "cell_type": "code",
   "execution_count": null,
   "metadata": {
    "scrolled": true
   },
   "outputs": [],
   "source": [
    "Gnuplot.options.gpviewer = true\n",
    "\n",
    "jtps = 0.25\n",
    "ellw = 3.0\n",
    "nomps = 1.5\n",
    "angv_vc = (pi/4):0.0025:(pi/2);\n",
    "\n",
    "xTN = rae_2029*au\n",
    "yTN = t_2029*daysec\n",
    "\n",
    "@show xTN(x_OR6), yTN(x_OR6)\n",
    "@show xTN(x_OR7), yTN(x_OR7)\n",
    "\n",
    "# Jacobian of transformation from initial conditions to xTN, yTN\n",
    "t_x02xyTN = hcat(TaylorSeries.gradient(xTN), TaylorSeries.gradient(yTN))\n",
    "@show size(t_x02xyTN)\n",
    "\n",
    "# transform cov matrix to d_CA_2020, t_CA_2020 coords\n",
    "Γ_xyTN_OR7 = Hermitian(t_x02xyTN(x_OR7)'*Γ_OR7*(t_x02xyTN(x_OR7)))\n",
    "Γ_xyTN_OR6 = Hermitian(t_x02xyTN(x_OR6)[1:6,:]'*Γ_OR6*(t_x02xyTN(x_OR6)[1:6,:]))\n",
    "# get cholesky-L factor\n",
    "L_xyTN_OR7 = cholesky(Γ_xyTN_OR7).L\n",
    "L_xyTN_OR6 = cholesky(Γ_xyTN_OR6).L\n",
    "\n",
    "@show sqrt.(diag(Γ_xyTN_OR6))\n",
    "@show sqrt.(diag(Γ_xyTN_OR7))\n",
    "\n",
    "xyTN_v_OR6 = Matrix{Float64}(undef, 1000, 2)\n",
    "xyTN_v_OR7 = Matrix{Float64}(undef, 1000, 2)\n",
    "for i in 1:1000\n",
    "    xyTN_v_OR6[i,:] = L_xyTN_OR6*randn(2)\n",
    "    xyTN_v_OR7[i,:] = L_xyTN_OR7*randn(2)\n",
    "end\n",
    "\n",
    "rndv_2sph_xTN = 3*cos.(angv)\n",
    "rndv_2sph_yTN = 3*sin.(angv);\n",
    "\n",
    "xTN_3σ_ell_OR6 = (L_xyTN_OR6[1,1]*rndv_2sph_xTN .+ L_xyTN_OR6[1,2]*rndv_2sph_yTN)\n",
    "yTN_3σ_ell_OR6 = (L_xyTN_OR6[2,1]*rndv_2sph_xTN .+ L_xyTN_OR6[2,2]*rndv_2sph_yTN)\n",
    "#\n",
    "xTN_3σ_ell_OR7 = (L_xyTN_OR7[1,1]*rndv_2sph_xTN .+ L_xyTN_OR7[1,2]*rndv_2sph_yTN)\n",
    "yTN_3σ_ell_OR7 = (L_xyTN_OR7[2,1]*rndv_2sph_xTN .+ L_xyTN_OR7[2,2]*rndv_2sph_yTN);\n",
    "\n",
    "ΔxTN_OR76 = xTN(x_OR7)-xTN(x_OR6)\n",
    "ΔyTN_OR76 = yTN(x_OR7)-yTN(x_OR6)\n",
    "\n",
    "@gp \"set multiplot\"\n",
    "@gp :- \"unset grid\" :-\n",
    "@gp :- \"set si sq\" :-\n",
    "#@gp :- \"set size ratio -1\" :-\n",
    "@gp :- \"set key top right outside\" :-\n",
    "@gp :- xrange=[-1800,1200] :-\n",
    "@gp :- yrange=[-35,10] :-\n",
    "@gp :- \"set xlabel 'Geocentric range at closest approach [km]'\" :-\n",
    "@gp :- \"set ylabel 'Time of closest approach [seconds]'\" :-\n",
    "\n",
    "#@gp :- \"set xtics 20\" :-\n",
    "\n",
    "#@gp :- \"set style fill transparent solid 0.35 noborder\" :-\n",
    "#@gp :- \"set style circle radius $nomps\" :-\n",
    "\n",
    "@gp :- 1 ΔxTN_OR76.+xyTN_v_OR7[:,1] ΔyTN_OR76.+xyTN_v_OR7[:,2] \"pt 7 ps $jtps lt -1 t 'OR7 (MC sampling)'\" :-\n",
    "@gp :- xyTN_v_OR6[:,1] xyTN_v_OR6[:,2] \"pt 7 ps $jtps lt 3 t 'OR6 (MC sampling)'\" :-\n",
    "\n",
    "@gp :- ΔxTN_OR76.+xTN_3σ_ell_OR7 ΔyTN_OR76.+yTN_3σ_ell_OR7 \"w l lw $ellw lc rgb 'black' t 'OR7 3-\\$\\\\sigma\\$'\" :-\n",
    "@gp :- xTN_3σ_ell_OR6 yTN_3σ_ell_OR6 \"w l lw $ellw lt 3 t 'OR6 3-\\$\\\\sigma\\$'\" :-\n",
    "\n",
    "@gp :- ΔxTN_OR76 ΔyTN_OR76 \"w circle lc rgb 'white' fs solid 1.0 border lt -1 t 'OR7 nominal'\" :-\n",
    "\n",
    "@gp :- 2 \"set origin 0.325, 0.125\" :-\n",
    "@gp :- \"set size 0.4, 0.45\" :-\n",
    "@gp :- xrange=[-23, 23] :-\n",
    "@gp :- yrange=[-1, 1] :-\n",
    "@gp :- \"unset xlabel\" :-\n",
    "@gp :- \"unset ylabel\" :-\n",
    "@gp :- \"set xtics 20\" :-\n",
    "@gp :- \"set ytics 0.5\" :-\n",
    "\n",
    "@gp :- ΔxTN_OR76.+xyTN_v_OR7[:,1] ΔyTN_OR76.+xyTN_v_OR7[:,2] \"pt 7 ps $jtps lt -1 not\" :-\n",
    "@gp :- ΔxTN_OR76.+xTN_3σ_ell_OR7 ΔyTN_OR76.+yTN_3σ_ell_OR7 \"w l lw $ellw lc rgb 'black' not\" :-\n",
    "@gp :- xTN_3σ_ell_OR6 yTN_3σ_ell_OR6 \"w l lw $ellw lt 3 not\" :-\n",
    "@gp :- xyTN_v_OR6[:,1] xyTN_v_OR6[:,2] \"pt 7 ps $jtps lt 3 not\" :-\n",
    "@gp :- xTN_3σ_ell_OR6 yTN_3σ_ell_OR6 \"w l lw $ellw lt 3 not\"\n",
    "#@gp :- \"unset multiplot\"\n",
    "\n",
    "#Gnuplot.save(term=\"epslatex standalone color dashed size 7in,5in font \\\",12\\\"\", output=\"dt_CA_2029.tex\")\n",
    "#run(`pdflatex dt_CA_2029.tex`)\n",
    "\n",
    "Gnuplot.options.gpviewer = false;"
   ]
  },
  {
   "cell_type": "code",
   "execution_count": null,
   "metadata": {},
   "outputs": [],
   "source": []
  },
  {
   "cell_type": "code",
   "execution_count": null,
   "metadata": {},
   "outputs": [],
   "source": []
  },
  {
   "cell_type": "code",
   "execution_count": null,
   "metadata": {},
   "outputs": [],
   "source": [
    "# multiplot example below to be run in REPL"
   ]
  },
  {
   "cell_type": "raw",
   "metadata": {},
   "source": [
    "Gnuplot.options.gpviewer = true ### <-- jupyter notebook workaround, remember to set back to false after plotting\n",
    "using Gnuplot\n",
    "x = range(-2pi, stop=2pi, length=20);\n",
    "y = 1.5 * sin.(0.3 .+ 0.7x);\n",
    "err = 0.1 * maximum(abs.(y)) .* fill(1, size(x));\n",
    "y += err .* randn(length(x));\n",
    "name = \"\\$MyDataSet1\"\n",
    "\n",
    "@gp    \"f(x) = a * sin(b + c*x)\"\n",
    "@gp :- \"a=1.5\" \"b=0.3\" \"c=0.7\"\n",
    "@gp :- name=>(x, y, err)\n",
    "@gp :- \"set multiplot layout 2,1\"\n",
    "@gp :- 1 \"p $name w errorbars t 'Data'\"\n",
    "@gp :-   \"p $name u 1:(f(\\$1)) w l t 'Best fit model'\"\n",
    "@gp :- 2 \"p $name u 1:((f(\\$1)-\\$2) / \\$3):(1) w errorbars t 'Resid. [{/Symbol s}]'\"\n",
    "@gp :-   [extrema(x)...] [0,0] \"w l notit dt 2 lc rgb 'black'\" # reference line\n",
    "\n",
    "Gnuplot.save(term=\"epslatex standalone color dashed size 6in,5in font \\\",12\\\"\", output=\"multiplot.tex\")\n",
    "run(`pdflatex multiplot.tex`)\n",
    "Gnuplot.options.gpviewer = false ### <-- jupyter notebook workaround"
   ]
  },
  {
   "cell_type": "code",
   "execution_count": null,
   "metadata": {},
   "outputs": [],
   "source": []
  }
 ],
 "metadata": {
  "kernelspec": {
   "display_name": "Julia 1.6.2",
   "language": "julia",
   "name": "julia-1.6"
  },
  "language_info": {
   "file_extension": ".jl",
   "mimetype": "application/julia",
   "name": "julia",
   "version": "1.6.2"
  }
 },
 "nbformat": 4,
 "nbformat_minor": 4
}
